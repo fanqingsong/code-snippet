{
  "nbformat": 4,
  "nbformat_minor": 0,
  "metadata": {
    "kernelspec": {
      "display_name": "Python 3",
      "language": "python",
      "name": "python3"
    },
    "language_info": {
      "codemirror_mode": {
        "name": "ipython",
        "version": 3
      },
      "file_extension": ".py",
      "mimetype": "text/x-python",
      "name": "python",
      "nbconvert_exporter": "python",
      "pygments_lexer": "ipython3",
      "version": "3.6.5"
    },
    "colab": {
      "name": "“fcc_book_recommendation_knn.ipynb”的副本",
      "provenance": [],
      "collapsed_sections": [],
      "include_colab_link": true
    }
  },
  "cells": [
    {
      "cell_type": "markdown",
      "metadata": {
        "id": "view-in-github",
        "colab_type": "text"
      },
      "source": [
        "<a href=\"https://colab.research.google.com/github/fanqingsong/code_snippet/blob/master/%E2%80%9Cfcc_book_recommendation_knn_ipynb%E2%80%9D%E7%9A%84%E5%89%AF%E6%9C%AC.ipynb\" target=\"_parent\"><img src=\"https://colab.research.google.com/assets/colab-badge.svg\" alt=\"Open In Colab\"/></a>"
      ]
    },
    {
      "cell_type": "markdown",
      "metadata": {
        "id": "uGd4NYQX1Rf_"
      },
      "source": [
        "*Note: You are currently reading this using Google Colaboratory which is a cloud-hosted version of Jupyter Notebook. This is a document containing both text cells for documentation and runnable code cells. If you are unfamiliar with Jupyter Notebook, watch this 3-minute introduction before starting this challenge: https://www.youtube.com/watch?v=inN8seMm7UI*\n",
        "\n",
        "---\n",
        "\n",
        "In this challenge, you will create a book recommendation algorithm using **K-Nearest Neighbors**.\n",
        "\n",
        "You will use the [Book-Crossings dataset](http://www2.informatik.uni-freiburg.de/~cziegler/BX/). This dataset contains 1.1 million ratings (scale of 1-10) of 270,000 books by 90,000 users. \n",
        "\n",
        "After importing and cleaning the data, use `NearestNeighbors` from `sklearn.neighbors` to develop a model that shows books that are similar to a given book. The Nearest Neighbors algorithm measures distance to determine the “closeness” of instances.\n",
        "\n",
        "Create a function named `get_recommends` that takes a book title (from the dataset) as an argument and returns a list of 5 similar books with their distances from the book argument.\n",
        "\n",
        "This code:\n",
        "\n",
        "`get_recommends(\"The Queen of the Damned (Vampire Chronicles (Paperback))\")`\n",
        "\n",
        "should return:\n",
        "\n",
        "```\n",
        "[\n",
        "  'The Queen of the Damned (Vampire Chronicles (Paperback))',\n",
        "  [\n",
        "    ['Catch 22', 0.793983519077301], \n",
        "    ['The Witching Hour (Lives of the Mayfair Witches)', 0.7448656558990479], \n",
        "    ['Interview with the Vampire', 0.7345068454742432],\n",
        "    ['The Tale of the Body Thief (Vampire Chronicles (Paperback))', 0.5376338362693787],\n",
        "    ['The Vampire Lestat (Vampire Chronicles, Book II)', 0.5178412199020386]\n",
        "  ]\n",
        "]\n",
        "```\n",
        "\n",
        "Notice that the data returned from `get_recommends()` is a list. The first element in the list is the book title passed in to the function. The second element in the list is a list of five more lists. Each of the five lists contains a recommended book and the distance from the recommended book to the book passed in to the function.\n",
        "\n",
        "If you graph the dataset (optional), you will notice that most books are not rated frequently. To ensure statistical significance, remove from the dataset users with less than 200 ratings and books with less than 100 ratings.\n",
        "\n",
        "The first three cells import libraries you may need and the data to use. The final cell is for testing. Write all your code in between those cells."
      ]
    },
    {
      "cell_type": "code",
      "metadata": {
        "id": "Y1onB6kUvo4Z"
      },
      "source": [
        "# import libraries (you may add additional imports but you may not have to)\n",
        "import numpy as np\n",
        "import pandas as pd\n",
        "from scipy.sparse import csr_matrix\n",
        "from sklearn.neighbors import NearestNeighbors\n",
        "import matplotlib.pyplot as plt"
      ],
      "execution_count": 2,
      "outputs": []
    },
    {
      "cell_type": "code",
      "metadata": {
        "id": "iAQGqqO_vo4d",
        "colab": {
          "base_uri": "https://localhost:8080/"
        },
        "outputId": "30c3fff9-8b35-45d4-acee-fcdf08ae8a4a"
      },
      "source": [
        "# get data files\n",
        "!wget https://cdn.freecodecamp.org/project-data/books/book-crossings.zip\n",
        "\n",
        "!unzip book-crossings.zip\n",
        "\n",
        "books_filename = 'BX-Books.csv'\n",
        "ratings_filename = 'BX-Book-Ratings.csv'"
      ],
      "execution_count": 3,
      "outputs": [
        {
          "output_type": "stream",
          "text": [
            "--2021-05-07 14:36:58--  https://cdn.freecodecamp.org/project-data/books/book-crossings.zip\n",
            "Resolving cdn.freecodecamp.org (cdn.freecodecamp.org)... 172.67.70.149, 104.26.2.33, 104.26.3.33, ...\n",
            "Connecting to cdn.freecodecamp.org (cdn.freecodecamp.org)|172.67.70.149|:443... connected.\n",
            "HTTP request sent, awaiting response... 200 OK\n",
            "Length: 26085508 (25M) [application/zip]\n",
            "Saving to: ‘book-crossings.zip’\n",
            "\n",
            "book-crossings.zip  100%[===================>]  24.88M  36.8MB/s    in 0.7s    \n",
            "\n",
            "2021-05-07 14:36:59 (36.8 MB/s) - ‘book-crossings.zip’ saved [26085508/26085508]\n",
            "\n",
            "Archive:  book-crossings.zip\n",
            "  inflating: BX-Book-Ratings.csv     \n",
            "  inflating: BX-Books.csv            \n",
            "  inflating: BX-Users.csv            \n"
          ],
          "name": "stdout"
        }
      ]
    },
    {
      "cell_type": "code",
      "metadata": {
        "id": "NClILWOiEd6Q"
      },
      "source": [
        "# import csv data into dataframes\n",
        "df_books = pd.read_csv(\n",
        "    books_filename,\n",
        "    encoding = \"ISO-8859-1\",\n",
        "    sep=\";\",\n",
        "    header=0,\n",
        "    names=['isbn', 'title', 'author'],\n",
        "    usecols=['isbn', 'title', 'author'],\n",
        "    dtype={'isbn': 'str', 'title': 'str', 'author': 'str'})\n",
        "\n",
        "df_ratings = pd.read_csv(\n",
        "    ratings_filename,\n",
        "    encoding = \"ISO-8859-1\",\n",
        "    sep=\";\",\n",
        "    header=0,\n",
        "    names=['user', 'isbn', 'rating'],\n",
        "    usecols=['user', 'isbn', 'rating'],\n",
        "    dtype={'user': 'int32', 'isbn': 'str', 'rating': 'float32'})"
      ],
      "execution_count": 4,
      "outputs": []
    },
    {
      "cell_type": "code",
      "metadata": {
        "id": "xAcXjkCFCh0A",
        "colab": {
          "base_uri": "https://localhost:8080/",
          "height": 206
        },
        "outputId": "4e5134a9-b08a-4d18-8b0a-235db2530cca"
      },
      "source": [
        "# add your code here - consider creating a new cell for each section of code\n",
        "\n",
        "df_books.head()\n"
      ],
      "execution_count": 5,
      "outputs": [
        {
          "output_type": "execute_result",
          "data": {
            "text/html": [
              "<div>\n",
              "<style scoped>\n",
              "    .dataframe tbody tr th:only-of-type {\n",
              "        vertical-align: middle;\n",
              "    }\n",
              "\n",
              "    .dataframe tbody tr th {\n",
              "        vertical-align: top;\n",
              "    }\n",
              "\n",
              "    .dataframe thead th {\n",
              "        text-align: right;\n",
              "    }\n",
              "</style>\n",
              "<table border=\"1\" class=\"dataframe\">\n",
              "  <thead>\n",
              "    <tr style=\"text-align: right;\">\n",
              "      <th></th>\n",
              "      <th>isbn</th>\n",
              "      <th>title</th>\n",
              "      <th>author</th>\n",
              "    </tr>\n",
              "  </thead>\n",
              "  <tbody>\n",
              "    <tr>\n",
              "      <th>0</th>\n",
              "      <td>0195153448</td>\n",
              "      <td>Classical Mythology</td>\n",
              "      <td>Mark P. O. Morford</td>\n",
              "    </tr>\n",
              "    <tr>\n",
              "      <th>1</th>\n",
              "      <td>0002005018</td>\n",
              "      <td>Clara Callan</td>\n",
              "      <td>Richard Bruce Wright</td>\n",
              "    </tr>\n",
              "    <tr>\n",
              "      <th>2</th>\n",
              "      <td>0060973129</td>\n",
              "      <td>Decision in Normandy</td>\n",
              "      <td>Carlo D'Este</td>\n",
              "    </tr>\n",
              "    <tr>\n",
              "      <th>3</th>\n",
              "      <td>0374157065</td>\n",
              "      <td>Flu: The Story of the Great Influenza Pandemic...</td>\n",
              "      <td>Gina Bari Kolata</td>\n",
              "    </tr>\n",
              "    <tr>\n",
              "      <th>4</th>\n",
              "      <td>0393045218</td>\n",
              "      <td>The Mummies of Urumchi</td>\n",
              "      <td>E. J. W. Barber</td>\n",
              "    </tr>\n",
              "  </tbody>\n",
              "</table>\n",
              "</div>"
            ],
            "text/plain": [
              "         isbn  ...                author\n",
              "0  0195153448  ...    Mark P. O. Morford\n",
              "1  0002005018  ...  Richard Bruce Wright\n",
              "2  0060973129  ...          Carlo D'Este\n",
              "3  0374157065  ...      Gina Bari Kolata\n",
              "4  0393045218  ...       E. J. W. Barber\n",
              "\n",
              "[5 rows x 3 columns]"
            ]
          },
          "metadata": {
            "tags": []
          },
          "execution_count": 5
        }
      ]
    },
    {
      "cell_type": "code",
      "metadata": {
        "colab": {
          "base_uri": "https://localhost:8080/",
          "height": 206
        },
        "id": "5Mip-IHWwr6l",
        "outputId": "660b4b26-0088-43c0-a7a1-8ead1d0012e2"
      },
      "source": [
        "df_ratings.head()"
      ],
      "execution_count": 6,
      "outputs": [
        {
          "output_type": "execute_result",
          "data": {
            "text/html": [
              "<div>\n",
              "<style scoped>\n",
              "    .dataframe tbody tr th:only-of-type {\n",
              "        vertical-align: middle;\n",
              "    }\n",
              "\n",
              "    .dataframe tbody tr th {\n",
              "        vertical-align: top;\n",
              "    }\n",
              "\n",
              "    .dataframe thead th {\n",
              "        text-align: right;\n",
              "    }\n",
              "</style>\n",
              "<table border=\"1\" class=\"dataframe\">\n",
              "  <thead>\n",
              "    <tr style=\"text-align: right;\">\n",
              "      <th></th>\n",
              "      <th>user</th>\n",
              "      <th>isbn</th>\n",
              "      <th>rating</th>\n",
              "    </tr>\n",
              "  </thead>\n",
              "  <tbody>\n",
              "    <tr>\n",
              "      <th>0</th>\n",
              "      <td>276725</td>\n",
              "      <td>034545104X</td>\n",
              "      <td>0.0</td>\n",
              "    </tr>\n",
              "    <tr>\n",
              "      <th>1</th>\n",
              "      <td>276726</td>\n",
              "      <td>0155061224</td>\n",
              "      <td>5.0</td>\n",
              "    </tr>\n",
              "    <tr>\n",
              "      <th>2</th>\n",
              "      <td>276727</td>\n",
              "      <td>0446520802</td>\n",
              "      <td>0.0</td>\n",
              "    </tr>\n",
              "    <tr>\n",
              "      <th>3</th>\n",
              "      <td>276729</td>\n",
              "      <td>052165615X</td>\n",
              "      <td>3.0</td>\n",
              "    </tr>\n",
              "    <tr>\n",
              "      <th>4</th>\n",
              "      <td>276729</td>\n",
              "      <td>0521795028</td>\n",
              "      <td>6.0</td>\n",
              "    </tr>\n",
              "  </tbody>\n",
              "</table>\n",
              "</div>"
            ],
            "text/plain": [
              "     user        isbn  rating\n",
              "0  276725  034545104X     0.0\n",
              "1  276726  0155061224     5.0\n",
              "2  276727  0446520802     0.0\n",
              "3  276729  052165615X     3.0\n",
              "4  276729  0521795028     6.0"
            ]
          },
          "metadata": {
            "tags": []
          },
          "execution_count": 6
        }
      ]
    },
    {
      "cell_type": "code",
      "metadata": {
        "colab": {
          "base_uri": "https://localhost:8080/"
        },
        "id": "lx6UmwLswxPn",
        "outputId": "22eccfda-76a3-4421-efe0-d1b9e2cd5628"
      },
      "source": [
        "user_counter = df_ratings['user'].value_counts()\n",
        "# print(type(user_counter))\n",
        "# print(user_counter)\n",
        "\n",
        "user_counter_limit = user_counter[ user_counter > 200 ]\n",
        "# print(user_counter_limit.index)\n",
        "\n",
        "# filter out the data with all users' rating number more than 200\n",
        "df_ratings_cut = df_ratings[df_ratings['user'].isin(user_counter_limit.index)]\n",
        "# print(df_ratings_cut)\n",
        "\n",
        "\n",
        "book_counter = df_ratings['isbn'].value_counts()\n",
        "# print(book_counter)\n",
        "\n",
        "book_counter_limit = book_counter[book_counter > 100]\n",
        "# print(book_counter_limit)\n",
        "\n",
        "# filter out the data with all books' rating number more than 100\n",
        "df_ratings_cut = df_ratings_cut[df_ratings['isbn'].isin(book_counter_limit.index)]\n",
        "print(df_ratings_cut)\n",
        "print(df_ratings_cut.shape)\n",
        "print(list(df_ratings_cut.columns))\n"
      ],
      "execution_count": 16,
      "outputs": [
        {
          "output_type": "stream",
          "text": [
            "           user        isbn  rating\n",
            "1456     277427  002542730X    10.0\n",
            "1469     277427  0060930535     0.0\n",
            "1471     277427  0060934417     0.0\n",
            "1474     277427  0061009059     9.0\n",
            "1484     277427  0140067477     0.0\n",
            "...         ...         ...     ...\n",
            "1147304  275970  0804111359     0.0\n",
            "1147436  275970  140003065X     0.0\n",
            "1147439  275970  1400031346     0.0\n",
            "1147440  275970  1400031354     0.0\n",
            "1147441  275970  1400031362     0.0\n",
            "\n",
            "[49254 rows x 3 columns]\n",
            "(49254, 3)\n",
            "['user', 'isbn', 'rating']\n"
          ],
          "name": "stdout"
        },
        {
          "output_type": "stream",
          "text": [
            "/usr/local/lib/python3.7/dist-packages/ipykernel_launcher.py:20: UserWarning: Boolean Series key will be reindexed to match DataFrame index.\n"
          ],
          "name": "stderr"
        }
      ]
    },
    {
      "cell_type": "code",
      "metadata": {
        "colab": {
          "base_uri": "https://localhost:8080/",
          "height": 348
        },
        "id": "_bFK98K5VyR-",
        "outputId": "888efb9a-6fe9-457b-cbba-1bc2cccf06d2"
      },
      "source": [
        "plt.rc(\"font\", size=15)\n",
        "df_ratings_cut.rating.value_counts(sort=True).plot(kind='bar')\n",
        "plt.title('Rating Distribution\\n')\n",
        "plt.xlabel('Rating')\n",
        "plt.ylabel('Count')\n",
        "plt.savefig('system1.png', bbox_inches='tight')\n",
        "plt.show()"
      ],
      "execution_count": 18,
      "outputs": [
        {
          "output_type": "display_data",
          "data": {
            "image/png": "[encoded data removed]",
            "text/plain": [
              "<Figure size 432x288 with 1 Axes>"
            ]
          },
          "metadata": {
            "tags": [],
            "needs_background": "light"
          }
        }
      ]
    },
    {
      "cell_type": "code",
      "metadata": {
        "colab": {
          "base_uri": "https://localhost:8080/",
          "height": 237
        },
        "id": "dDEaeE68WMc_",
        "outputId": "bd556102-2798-4c86-d50b-14124a85bf8e"
      },
      "source": [
        "rating_count = pd.DataFrame(df_ratings_cut.groupby('isbn')['rating'].count())\n",
        "rating_count.sort_values('rating', ascending=False).head()"
      ],
      "execution_count": 19,
      "outputs": [
        {
          "output_type": "execute_result",
          "data": {
            "text/html": [
              "<div>\n",
              "<style scoped>\n",
              "    .dataframe tbody tr th:only-of-type {\n",
              "        vertical-align: middle;\n",
              "    }\n",
              "\n",
              "    .dataframe tbody tr th {\n",
              "        vertical-align: top;\n",
              "    }\n",
              "\n",
              "    .dataframe thead th {\n",
              "        text-align: right;\n",
              "    }\n",
              "</style>\n",
              "<table border=\"1\" class=\"dataframe\">\n",
              "  <thead>\n",
              "    <tr style=\"text-align: right;\">\n",
              "      <th></th>\n",
              "      <th>rating</th>\n",
              "    </tr>\n",
              "    <tr>\n",
              "      <th>isbn</th>\n",
              "      <th></th>\n",
              "    </tr>\n",
              "  </thead>\n",
              "  <tbody>\n",
              "    <tr>\n",
              "      <th>0971880107</th>\n",
              "      <td>363</td>\n",
              "    </tr>\n",
              "    <tr>\n",
              "      <th>0316666343</th>\n",
              "      <td>270</td>\n",
              "    </tr>\n",
              "    <tr>\n",
              "      <th>0060928336</th>\n",
              "      <td>220</td>\n",
              "    </tr>\n",
              "    <tr>\n",
              "      <th>0440214041</th>\n",
              "      <td>218</td>\n",
              "    </tr>\n",
              "    <tr>\n",
              "      <th>0385504209</th>\n",
              "      <td>215</td>\n",
              "    </tr>\n",
              "  </tbody>\n",
              "</table>\n",
              "</div>"
            ],
            "text/plain": [
              "            rating\n",
              "isbn              \n",
              "0971880107     363\n",
              "0316666343     270\n",
              "0060928336     220\n",
              "0440214041     218\n",
              "0385504209     215"
            ]
          },
          "metadata": {
            "tags": []
          },
          "execution_count": 19
        }
      ]
    },
    {
      "cell_type": "code",
      "metadata": {
        "colab": {
          "base_uri": "https://localhost:8080/"
        },
        "id": "tIhsauJfW_71",
        "outputId": "940a2663-080f-4e5f-9db5-96b705d0b9be"
      },
      "source": [
        "user_rating = df_ratings_cut.drop_duplicates(['user', 'isbn'])\n",
        "user_rating_pivot = user_rating.pivot(index = 'isbn', columns = 'user', values = 'rating').fillna(0)\n",
        "\n",
        "user_rating_pivot_index = user_rating_pivot.index\n",
        "user_rating_pivot_colums = user_rating_pivot.columns\n",
        "print(user_rating_pivot.shape)\n",
        "print(user_rating_pivot.head())\n"
      ],
      "execution_count": 25,
      "outputs": [
        {
          "output_type": "stream",
          "text": [
            "(721, 882)\n",
            "user        254     2276    2766    2977    ...  277427  277478  277639  278418\n",
            "isbn                                        ...                                \n",
            "002542730X     0.0     0.0     0.0     0.0  ...    10.0     0.0     0.0     0.0\n",
            "0060008032     0.0     0.0     0.0     0.0  ...     0.0     0.0     0.0     0.0\n",
            "0060096195     0.0     0.0     0.0     0.0  ...     0.0     0.0     0.0     0.0\n",
            "006016848X     0.0     0.0     0.0     0.0  ...     0.0     0.0     0.0     0.0\n",
            "0060173289     0.0     0.0     0.0     0.0  ...     0.0     0.0     0.0     0.0\n",
            "\n",
            "[5 rows x 882 columns]\n"
          ],
          "name": "stdout"
        }
      ]
    },
    {
      "cell_type": "code",
      "metadata": {
        "colab": {
          "base_uri": "https://localhost:8080/"
        },
        "id": "fN99w8g8cQVk",
        "outputId": "b912d1ea-1fa3-45ae-f12e-bd12a940e875"
      },
      "source": [
        "\n",
        "user_rating_matrix = csr_matrix(user_rating_pivot.values)\n",
        "# print(user_rating_matrix)\n",
        "\n",
        "model_knn = NearestNeighbors(metric = 'cosine', algorithm = 'brute')\n",
        "model_knn.fit(user_rating_matrix)"
      ],
      "execution_count": 26,
      "outputs": [
        {
          "output_type": "execute_result",
          "data": {
            "text/plain": [
              "NearestNeighbors(algorithm='brute', leaf_size=30, metric='cosine',\n",
              "                 metric_params=None, n_jobs=None, n_neighbors=5, p=2,\n",
              "                 radius=1.0)"
            ]
          },
          "metadata": {
            "tags": []
          },
          "execution_count": 26
        }
      ]
    },
    {
      "cell_type": "code",
      "metadata": {
        "colab": {
          "base_uri": "https://localhost:8080/"
        },
        "id": "9BjGjd5ncjeD",
        "outputId": "46b218cb-65a3-4e3a-8a3c-c946d06c3c68"
      },
      "source": [
        "query_index = np.random.choice(user_rating_pivot.shape[0])\n",
        "# print(query_index)\n",
        "\n",
        "query_target = user_rating_pivot.iloc[query_index, :]\n",
        "# print(query_target)\n",
        "query_target_vector = query_target.values\n",
        "# print(query_target_vector)\n",
        "query_target_vector = query_target_vector.reshape(1, -1)\n",
        "# print(query_target_vector)\n",
        "\n",
        "distances, indices = model_knn.kneighbors(query_target_vector, n_neighbors = 6)\n",
        "# print(distances)\n",
        "distances = distances.flatten()\n",
        "print(distances)\n",
        "\n",
        "indices = indices.flatten()\n",
        "print(indices)\n",
        "\n",
        "for i in range(0, len(distances)):\n",
        "    if i == 0:\n",
        "        print('Recommendations for {0}:\\n'.format(user_rating_pivot.index[query_index]))\n",
        "    else:\n",
        "        print('{0}: {1}, with distance of {2}:'.format(i, user_rating_pivot.index[indices[i]], distances[i]))"
      ],
      "execution_count": 39,
      "outputs": [
        {
          "output_type": "stream",
          "text": [
            "[1.1920929e-07 7.4428004e-01 7.6380801e-01 7.6483822e-01 7.7356434e-01\n",
            " 8.0388069e-01]\n",
            "[114 363 699 542 115 340]\n",
            "Recommendations for 0316781010:\n",
            "\n",
            "1: 0440235596, with distance of 0.7442800402641296:\n",
            "2: 0871136791, with distance of 0.763808012008667:\n",
            "3: 055356160X, with distance of 0.7648382186889648:\n",
            "4: 0316781142, with distance of 0.773564338684082:\n",
            "5: 0440212561, with distance of 0.8038806915283203:\n"
          ],
          "name": "stdout"
        }
      ]
    },
    {
      "cell_type": "markdown",
      "metadata": {
        "id": "KWVs6BIzaEx2"
      },
      "source": [
        ""
      ]
    },
    {
      "cell_type": "code",
      "metadata": {
        "colab": {
          "base_uri": "https://localhost:8080/",
          "height": 180
        },
        "id": "EQFp9e_wiYum",
        "outputId": "e89b5834-e68f-4bcf-c5f1-b88c48840c7c"
      },
      "source": [
        "book_name = \"Where the Heart Is (Oprah's Book Club (Paperback))\"\n",
        "target = df_books[df_books.title == book_name]\n",
        "# print(target)\n",
        "target_isbn = target.isbn.values[0]\n",
        "print(target_isbn)\n",
        "\n",
        "user_rating_pivot[user_rating_pivot.index == target_isbn]"
      ],
      "execution_count": 51,
      "outputs": [
        {
          "output_type": "stream",
          "text": [
            "0446672211\n"
          ],
          "name": "stdout"
        },
        {
          "output_type": "execute_result",
          "data": {
            "text/html": [
              "<div>\n",
              "<style scoped>\n",
              "    .dataframe tbody tr th:only-of-type {\n",
              "        vertical-align: middle;\n",
              "    }\n",
              "\n",
              "    .dataframe tbody tr th {\n",
              "        vertical-align: top;\n",
              "    }\n",
              "\n",
              "    .dataframe thead th {\n",
              "        text-align: right;\n",
              "    }\n",
              "</style>\n",
              "<table border=\"1\" class=\"dataframe\">\n",
              "  <thead>\n",
              "    <tr style=\"text-align: right;\">\n",
              "      <th>user</th>\n",
              "      <th>254</th>\n",
              "      <th>2276</th>\n",
              "      <th>2766</th>\n",
              "      <th>2977</th>\n",
              "      <th>3363</th>\n",
              "      <th>4017</th>\n",
              "      <th>4385</th>\n",
              "      <th>6242</th>\n",
              "      <th>6251</th>\n",
              "      <th>6323</th>\n",
              "      <th>6543</th>\n",
              "      <th>6563</th>\n",
              "      <th>6575</th>\n",
              "      <th>7158</th>\n",
              "      <th>7286</th>\n",
              "      <th>7346</th>\n",
              "      <th>7915</th>\n",
              "      <th>8067</th>\n",
              "      <th>8245</th>\n",
              "      <th>8681</th>\n",
              "      <th>8936</th>\n",
              "      <th>9856</th>\n",
              "      <th>10447</th>\n",
              "      <th>10819</th>\n",
              "      <th>11601</th>\n",
              "      <th>11676</th>\n",
              "      <th>11993</th>\n",
              "      <th>12538</th>\n",
              "      <th>12824</th>\n",
              "      <th>12982</th>\n",
              "      <th>13082</th>\n",
              "      <th>13273</th>\n",
              "      <th>13552</th>\n",
              "      <th>13850</th>\n",
              "      <th>14422</th>\n",
              "      <th>14521</th>\n",
              "      <th>15408</th>\n",
              "      <th>15418</th>\n",
              "      <th>15957</th>\n",
              "      <th>16106</th>\n",
              "      <th>...</th>\n",
              "      <th>264317</th>\n",
              "      <th>264321</th>\n",
              "      <th>264637</th>\n",
              "      <th>265115</th>\n",
              "      <th>265313</th>\n",
              "      <th>265595</th>\n",
              "      <th>265889</th>\n",
              "      <th>266056</th>\n",
              "      <th>266226</th>\n",
              "      <th>266753</th>\n",
              "      <th>266865</th>\n",
              "      <th>266866</th>\n",
              "      <th>267635</th>\n",
              "      <th>268030</th>\n",
              "      <th>268032</th>\n",
              "      <th>268110</th>\n",
              "      <th>268330</th>\n",
              "      <th>268622</th>\n",
              "      <th>268932</th>\n",
              "      <th>269566</th>\n",
              "      <th>269719</th>\n",
              "      <th>269728</th>\n",
              "      <th>269890</th>\n",
              "      <th>270713</th>\n",
              "      <th>270820</th>\n",
              "      <th>271195</th>\n",
              "      <th>271284</th>\n",
              "      <th>271448</th>\n",
              "      <th>271705</th>\n",
              "      <th>273979</th>\n",
              "      <th>274004</th>\n",
              "      <th>274061</th>\n",
              "      <th>274301</th>\n",
              "      <th>274308</th>\n",
              "      <th>274808</th>\n",
              "      <th>275970</th>\n",
              "      <th>277427</th>\n",
              "      <th>277478</th>\n",
              "      <th>277639</th>\n",
              "      <th>278418</th>\n",
              "    </tr>\n",
              "    <tr>\n",
              "      <th>isbn</th>\n",
              "      <th></th>\n",
              "      <th></th>\n",
              "      <th></th>\n",
              "      <th></th>\n",
              "      <th></th>\n",
              "      <th></th>\n",
              "      <th></th>\n",
              "      <th></th>\n",
              "      <th></th>\n",
              "      <th></th>\n",
              "      <th></th>\n",
              "      <th></th>\n",
              "      <th></th>\n",
              "      <th></th>\n",
              "      <th></th>\n",
              "      <th></th>\n",
              "      <th></th>\n",
              "      <th></th>\n",
              "      <th></th>\n",
              "      <th></th>\n",
              "      <th></th>\n",
              "      <th></th>\n",
              "      <th></th>\n",
              "      <th></th>\n",
              "      <th></th>\n",
              "      <th></th>\n",
              "      <th></th>\n",
              "      <th></th>\n",
              "      <th></th>\n",
              "      <th></th>\n",
              "      <th></th>\n",
              "      <th></th>\n",
              "      <th></th>\n",
              "      <th></th>\n",
              "      <th></th>\n",
              "      <th></th>\n",
              "      <th></th>\n",
              "      <th></th>\n",
              "      <th></th>\n",
              "      <th></th>\n",
              "      <th></th>\n",
              "      <th></th>\n",
              "      <th></th>\n",
              "      <th></th>\n",
              "      <th></th>\n",
              "      <th></th>\n",
              "      <th></th>\n",
              "      <th></th>\n",
              "      <th></th>\n",
              "      <th></th>\n",
              "      <th></th>\n",
              "      <th></th>\n",
              "      <th></th>\n",
              "      <th></th>\n",
              "      <th></th>\n",
              "      <th></th>\n",
              "      <th></th>\n",
              "      <th></th>\n",
              "      <th></th>\n",
              "      <th></th>\n",
              "      <th></th>\n",
              "      <th></th>\n",
              "      <th></th>\n",
              "      <th></th>\n",
              "      <th></th>\n",
              "      <th></th>\n",
              "      <th></th>\n",
              "      <th></th>\n",
              "      <th></th>\n",
              "      <th></th>\n",
              "      <th></th>\n",
              "      <th></th>\n",
              "      <th></th>\n",
              "      <th></th>\n",
              "      <th></th>\n",
              "      <th></th>\n",
              "      <th></th>\n",
              "      <th></th>\n",
              "      <th></th>\n",
              "      <th></th>\n",
              "      <th></th>\n",
              "    </tr>\n",
              "  </thead>\n",
              "  <tbody>\n",
              "    <tr>\n",
              "      <th>0446672211</th>\n",
              "      <td>0.0</td>\n",
              "      <td>0.0</td>\n",
              "      <td>0.0</td>\n",
              "      <td>0.0</td>\n",
              "      <td>10.0</td>\n",
              "      <td>0.0</td>\n",
              "      <td>0.0</td>\n",
              "      <td>0.0</td>\n",
              "      <td>0.0</td>\n",
              "      <td>0.0</td>\n",
              "      <td>0.0</td>\n",
              "      <td>0.0</td>\n",
              "      <td>8.0</td>\n",
              "      <td>8.0</td>\n",
              "      <td>0.0</td>\n",
              "      <td>0.0</td>\n",
              "      <td>0.0</td>\n",
              "      <td>0.0</td>\n",
              "      <td>0.0</td>\n",
              "      <td>0.0</td>\n",
              "      <td>0.0</td>\n",
              "      <td>0.0</td>\n",
              "      <td>0.0</td>\n",
              "      <td>0.0</td>\n",
              "      <td>0.0</td>\n",
              "      <td>10.0</td>\n",
              "      <td>0.0</td>\n",
              "      <td>0.0</td>\n",
              "      <td>0.0</td>\n",
              "      <td>0.0</td>\n",
              "      <td>0.0</td>\n",
              "      <td>9.0</td>\n",
              "      <td>0.0</td>\n",
              "      <td>0.0</td>\n",
              "      <td>0.0</td>\n",
              "      <td>0.0</td>\n",
              "      <td>0.0</td>\n",
              "      <td>0.0</td>\n",
              "      <td>0.0</td>\n",
              "      <td>0.0</td>\n",
              "      <td>...</td>\n",
              "      <td>0.0</td>\n",
              "      <td>0.0</td>\n",
              "      <td>0.0</td>\n",
              "      <td>0.0</td>\n",
              "      <td>0.0</td>\n",
              "      <td>0.0</td>\n",
              "      <td>0.0</td>\n",
              "      <td>0.0</td>\n",
              "      <td>0.0</td>\n",
              "      <td>0.0</td>\n",
              "      <td>0.0</td>\n",
              "      <td>0.0</td>\n",
              "      <td>0.0</td>\n",
              "      <td>0.0</td>\n",
              "      <td>0.0</td>\n",
              "      <td>0.0</td>\n",
              "      <td>0.0</td>\n",
              "      <td>0.0</td>\n",
              "      <td>0.0</td>\n",
              "      <td>0.0</td>\n",
              "      <td>0.0</td>\n",
              "      <td>0.0</td>\n",
              "      <td>0.0</td>\n",
              "      <td>5.0</td>\n",
              "      <td>0.0</td>\n",
              "      <td>0.0</td>\n",
              "      <td>0.0</td>\n",
              "      <td>10.0</td>\n",
              "      <td>0.0</td>\n",
              "      <td>0.0</td>\n",
              "      <td>0.0</td>\n",
              "      <td>0.0</td>\n",
              "      <td>0.0</td>\n",
              "      <td>0.0</td>\n",
              "      <td>10.0</td>\n",
              "      <td>0.0</td>\n",
              "      <td>0.0</td>\n",
              "      <td>0.0</td>\n",
              "      <td>0.0</td>\n",
              "      <td>0.0</td>\n",
              "    </tr>\n",
              "  </tbody>\n",
              "</table>\n",
              "<p>1 rows × 882 columns</p>\n",
              "</div>"
            ],
            "text/plain": [
              "user        254     2276    2766    2977    ...  277427  277478  277639  278418\n",
              "isbn                                        ...                                \n",
              "0446672211     0.0     0.0     0.0     0.0  ...     0.0     0.0     0.0     0.0\n",
              "\n",
              "[1 rows x 882 columns]"
            ]
          },
          "metadata": {
            "tags": []
          },
          "execution_count": 51
        }
      ]
    },
    {
      "cell_type": "code",
      "metadata": {
        "id": "f5ZUd-L1SQz7"
      },
      "source": [
        "# function to return recommended books - this will be tested\n",
        "def get_recommends(book = \"\"):\n",
        "  recommended_books = []\n",
        "\n",
        "  recommended_books.append(book)\n",
        "\n",
        "  target = df_books[df_books.title == book]\n",
        "  target_isbn = target.isbn.values[0]\n",
        "\n",
        "  query_target = user_rating_pivot[user_rating_pivot.index == target_isbn]\n",
        "\n",
        "  # print(query_target)\n",
        "  query_target_vector = query_target.values\n",
        "  # print(query_target_vector)\n",
        "  query_target_vector = query_target_vector.reshape(1, -1)\n",
        "  # print(query_target_vector)\n",
        "\n",
        "  distances, indices = model_knn.kneighbors(query_target_vector, n_neighbors = 5)\n",
        "  distances = distances.flatten()\n",
        "  # print(distances)\n",
        "\n",
        "  indices = indices.flatten()\n",
        "  # print(indices)\n",
        "\n",
        "  book_items = []\n",
        "  for i in range(0, len(distances)):\n",
        "    if i == 0:\n",
        "      print('Recommendations for {0}:\\n'.format(user_rating_pivot.index[query_index]))\n",
        "    else:\n",
        "      book_distance = distances[i]\n",
        "      book_isbn = user_rating_pivot.index[indices[i]]\n",
        "      book_object = df_books[df_books.isbn == book_isbn]\n",
        "      book_title = book_object.title.values[0]\n",
        "\n",
        "      print('{0}: {1}, with distance of {2}:'.format(i, book_isbn, book_distance))\n",
        "      one_book = []\n",
        "      one_book.append(book_title)\n",
        "      one_book.append(book_distance)\n",
        "\n",
        "      book_items.append(one_book)\n",
        "\n",
        "  # print(book_items)\n",
        "  book_items.sort(key=lambda x: x[1], reverse=True)\n",
        "\n",
        "  recommended_books.append(book_items)\n",
        "\n",
        "  return recommended_books\n",
        "\n",
        "# books = get_recommends(\"Where the Heart Is (Oprah's Book Club (Paperback))\")\n",
        "# print(books)"
      ],
      "execution_count": 71,
      "outputs": []
    },
    {
      "cell_type": "markdown",
      "metadata": {
        "id": "eat9A2TKawHU"
      },
      "source": [
        "Use the cell below to test your function. The `test_book_recommendation()` function will inform you if you passed the challenge or need to keep trying."
      ]
    },
    {
      "cell_type": "code",
      "metadata": {
        "id": "jd2SLCh8oxMh",
        "colab": {
          "base_uri": "https://localhost:8080/"
        },
        "outputId": "4df24971-6609-4bbb-f605-cb6291010366"
      },
      "source": [
        "books = get_recommends(\"Where the Heart Is (Oprah's Book Club (Paperback))\")\n",
        "print(books)\n",
        "\n",
        "def test_book_recommendation():\n",
        "  test_pass = True\n",
        "  recommends = get_recommends(\"Where the Heart Is (Oprah's Book Club (Paperback))\")\n",
        "  if recommends[0] != \"Where the Heart Is (Oprah's Book Club (Paperback))\":\n",
        "    test_pass = False\n",
        "  recommended_books = [\"I'll Be Seeing You\", 'The Weight of Water', 'The Surgeon', 'I Know This Much Is True']\n",
        "  recommended_books_dist = [0.8, 0.77, 0.77, 0.77]\n",
        "  for i in range(2): \n",
        "    if recommends[1][i][0] not in recommended_books:\n",
        "      test_pass = False\n",
        "    if abs(recommends[1][i][1] - recommended_books_dist[i]) >= 0.05:\n",
        "      test_pass = False\n",
        "  if test_pass:\n",
        "    print(\"You passed the challenge! 🎉🎉🎉🎉🎉\")\n",
        "  else:\n",
        "    print(\"You havn't passed yet. Keep trying!\")\n",
        "\n",
        "test_book_recommendation()"
      ],
      "execution_count": 72,
      "outputs": [
        {
          "output_type": "stream",
          "text": [
            "Recommendations for 0316781010:\n",
            "\n",
            "1: 0316666343, with distance of 0.7230184078216553:\n",
            "2: 0060987561, with distance of 0.7677075266838074:\n",
            "3: 0345447840, with distance of 0.7699410915374756:\n",
            "4: 0316782505, with distance of 0.7708583474159241:\n",
            "[\"Where the Heart Is (Oprah's Book Club (Paperback))\", [['The Weight of Water', 0.77085835], ['The Surgeon', 0.7699411], ['I Know This Much Is True', 0.7677075], ['The Lovely Bones: A Novel', 0.7230184]]]\n",
            "Recommendations for 0316781010:\n",
            "\n",
            "1: 0316666343, with distance of 0.7230184078216553:\n",
            "2: 0060987561, with distance of 0.7677075266838074:\n",
            "3: 0345447840, with distance of 0.7699410915374756:\n",
            "4: 0316782505, with distance of 0.7708583474159241:\n",
            "You passed the challenge! 🎉🎉🎉🎉🎉\n"
          ],
          "name": "stdout"
        }
      ]
    }
  ]
}