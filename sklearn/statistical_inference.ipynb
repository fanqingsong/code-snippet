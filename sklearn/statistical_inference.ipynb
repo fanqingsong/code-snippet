{
 "cells": [
  {
   "cell_type": "code",
   "execution_count": 1,
   "metadata": {},
   "outputs": [
    {
     "data": {
      "text/plain": [
       "(150, 4)"
      ]
     },
     "execution_count": 1,
     "metadata": {},
     "output_type": "execute_result"
    }
   ],
   "source": [
    "from sklearn import datasets\n",
    "iris = datasets.load_iris()\n",
    "data = iris.data\n",
    "data.shape"
   ]
  },
  {
   "cell_type": "code",
   "execution_count": 3,
   "metadata": {},
   "outputs": [
    {
     "name": "stdout",
     "output_type": "stream",
     "text": [
      "(1797, 8, 8)\n"
     ]
    },
    {
     "data": {
      "text/plain": [
       "<matplotlib.image.AxesImage at 0x1df5140df60>"
      ]
     },
     "execution_count": 3,
     "metadata": {},
     "output_type": "execute_result"
    },
    {
     "data": {
      "image/png": "[encoded data removed]",
      "text/plain": [
       "<Figure size 432x288 with 1 Axes>"
      ]
     },
     "metadata": {
      "needs_background": "light"
     },
     "output_type": "display_data"
    }
   ],
   "source": [
    "digits = datasets.load_digits()\n",
    "print(digits.images.shape)\n",
    "\n",
    "import matplotlib.pyplot as plt \n",
    "plt.imshow(digits.images[-1],\n",
    "           cmap=plt.cm.gray_r) "
   ]
  },
  {
   "cell_type": "code",
   "execution_count": 6,
   "metadata": {},
   "outputs": [
    {
     "name": "stdout",
     "output_type": "stream",
     "text": [
      "[[ 0.  0.  5. ...  0.  0.  0.]\n",
      " [ 0.  0.  0. ... 10.  0.  0.]\n",
      " [ 0.  0.  0. ... 16.  9.  0.]\n",
      " ...\n",
      " [ 0.  0.  1. ...  6.  0.  0.]\n",
      " [ 0.  0.  2. ... 12.  0.  0.]\n",
      " [ 0.  0. 10. ... 12.  1.  0.]]\n",
      "(1797, 64)\n"
     ]
    }
   ],
   "source": [
    "data = digits.images.reshape(\n",
    "    (digits.images.shape[0], -1)\n",
    ")\n",
    "print(data)\n",
    "print(data.shape)"
   ]
  },
  {
   "cell_type": "code",
   "execution_count": 20,
   "metadata": {},
   "outputs": [
    {
     "name": "stdout",
     "output_type": "stream",
     "text": [
      "原始数组：\n",
      "[ 0  1  2  3  4  5  6  7  8  9 10 11 12 13 14 15]\n",
      "\n",
      "\n",
      "修改后的数组：\n",
      "[[[ 0  1]\n",
      "  [ 2  3]]\n",
      "\n",
      " [[ 4  5]\n",
      "  [ 6  7]]\n",
      "\n",
      " [[ 8  9]\n",
      "  [10 11]]\n",
      "\n",
      " [[12 13]\n",
      "  [14 15]]]\n",
      "[ 0  1  2  3  4  5  6  7  8  9 10 11 12 13 14 15]\n",
      "[[ 0  1  2  3  4  5  6  7  8  9 10 11 12 13 14 15]]\n",
      "[[ 0  1  2  3]\n",
      " [ 4  5  6  7]\n",
      " [ 8  9 10 11]\n",
      " [12 13 14 15]]\n"
     ]
    }
   ],
   "source": [
    "\n",
    "import numpy as np\n",
    " \n",
    "a = np.arange(16)\n",
    "print ('原始数组：')\n",
    "print (a)\n",
    "print ('\\n')\n",
    " \n",
    "b = a.reshape((4,2,2))\n",
    "print ('修改后的数组：')\n",
    "print (b)\n",
    "\n",
    "print(b.reshape((-1)))\n",
    "print(b.reshape((1, -1)))\n",
    "\n",
    "print(b.reshape((4, -1)))"
   ]
  },
  {
   "cell_type": "code",
   "execution_count": 21,
   "metadata": {},
   "outputs": [
    {
     "ename": "NameError",
     "evalue": "name 'Estimator' is not defined",
     "output_type": "error",
     "traceback": [
      "\u001b[1;31m---------------------------------------------------------------------------\u001b[0m",
      "\u001b[1;31mNameError\u001b[0m                                 Traceback (most recent call last)",
      "\u001b[1;32m<ipython-input-21-71bf8905a44e>\u001b[0m in \u001b[0;36m<module>\u001b[1;34m\u001b[0m\n\u001b[1;32m----> 1\u001b[1;33m \u001b[0mestimator\u001b[0m \u001b[1;33m=\u001b[0m \u001b[0mEstimator\u001b[0m\u001b[1;33m(\u001b[0m\u001b[0mparam1\u001b[0m\u001b[1;33m=\u001b[0m\u001b[1;36m1\u001b[0m\u001b[1;33m,\u001b[0m \u001b[0mparam2\u001b[0m\u001b[1;33m=\u001b[0m\u001b[1;36m2\u001b[0m\u001b[1;33m)\u001b[0m\u001b[1;33m\u001b[0m\u001b[1;33m\u001b[0m\u001b[0m\n\u001b[0m\u001b[0;32m      2\u001b[0m \u001b[0mestimator\u001b[0m\u001b[1;33m.\u001b[0m\u001b[0mparam1\u001b[0m\u001b[1;33m\u001b[0m\u001b[1;33m\u001b[0m\u001b[0m\n",
      "\u001b[1;31mNameError\u001b[0m: name 'Estimator' is not defined"
     ]
    }
   ],
   "source": [
    "estimator = Estimator(param1=1, param2=2)\n",
    "estimator.param1"
   ]
  },
  {
   "cell_type": "code",
   "execution_count": 22,
   "metadata": {},
   "outputs": [
    {
     "data": {
      "text/plain": [
       "array([0, 1, 2])"
      ]
     },
     "execution_count": 22,
     "metadata": {},
     "output_type": "execute_result"
    }
   ],
   "source": [
    "import numpy as np\n",
    "from sklearn import datasets\n",
    "iris_X, iris_y = datasets.load_iris(return_X_y=True)\n",
    "np.unique(iris_y)"
   ]
  },
  {
   "cell_type": "code",
   "execution_count": 25,
   "metadata": {},
   "outputs": [
    {
     "name": "stdout",
     "output_type": "stream",
     "text": [
      "[114  62  33 107   7 100  40  86  76  71 134  51  73  54  63  37  78  90\n",
      "  45  16 121  66  24   8 126  22  44  97  93  26 137  84  27 127 132  59\n",
      "  18  83  61  92 112   2 141  43  10  60 116 144 119 108  69 135  56  80\n",
      " 123 133 106 146  50 147  85  30 101  94  64  89  91 125  48  13 111  95\n",
      "  20  15  52   3 149  98   6  68 109  96  12 102 120 104 128  46  11 110\n",
      " 124  41 148   1 113 139  42   4 129  17  38   5  53 143 105   0  34  28\n",
      "  55  75  35  23  74  31 118  57 131  65  32 138  14 122  19  29 130  49\n",
      " 136  99  82  79 115 145  72  77  25  81 140 142  39  58  88  70  87  36\n",
      "  21   9 103  67 117  47]\n",
      "[[5.6 3.  4.1 1.3]\n",
      " [5.9 3.2 4.8 1.8]\n",
      " [6.3 2.3 4.4 1.3]\n",
      " [5.5 3.5 1.3 0.2]\n",
      " [5.1 3.7 1.5 0.4]\n",
      " [4.9 3.1 1.5 0.1]\n",
      " [6.3 2.9 5.6 1.8]\n",
      " [5.8 2.7 4.1 1. ]\n",
      " [7.7 3.8 6.7 2.2]\n",
      " [4.6 3.2 1.4 0.2]] [1 1 1 0 0 0 2 1 2 0]\n",
      "[1 2 1 0 0 0 2 1 2 0]\n"
     ]
    },
    {
     "data": {
      "text/plain": [
       "array([1, 1, 1, 0, 0, 0, 2, 1, 2, 0])"
      ]
     },
     "execution_count": 25,
     "metadata": {},
     "output_type": "execute_result"
    }
   ],
   "source": [
    "# Split iris data in train and test data\n",
    "# A random permutation, to split the data randomly\n",
    "np.random.seed(0)\n",
    "\n",
    "indices = np.random.permutation(len(iris_X))\n",
    "print(indices)\n",
    "\n",
    "iris_X_train = iris_X[indices[:-10]]\n",
    "iris_y_train = iris_y[indices[:-10]]\n",
    "\n",
    "\n",
    "iris_X_test = iris_X[indices[-10:]]\n",
    "iris_y_test = iris_y[indices[-10:]]\n",
    "print(iris_X_test, iris_y_test)\n",
    "\n",
    "# Create and fit a nearest-neighbor classifier\n",
    "from sklearn.neighbors import KNeighborsClassifier\n",
    "knn = KNeighborsClassifier()\n",
    "\n",
    "knn.fit(iris_X_train, iris_y_train)\n",
    "\n",
    "result = knn.predict(iris_X_test)\n",
    "print(result)\n",
    "\n",
    "iris_y_test"
   ]
  },
  {
   "cell_type": "code",
   "execution_count": 27,
   "metadata": {},
   "outputs": [
    {
     "name": "stdout",
     "output_type": "stream",
     "text": [
      "[[-0.07816532  0.05068012  0.07786339  0.05285819  0.07823631  0.0644473\n",
      "   0.02655027 -0.00259226  0.04067226 -0.00936191]\n",
      " [ 0.0090156   0.05068012 -0.03961813  0.0287581   0.03833367  0.0735286\n",
      "  -0.07285395  0.1081111   0.01556684 -0.04664087]\n",
      " [ 0.00175052  0.05068012  0.01103904 -0.01944209 -0.01670444 -0.00381907\n",
      "  -0.04708248  0.03430886  0.02405258  0.02377494]\n",
      " [-0.07816532 -0.04464164 -0.04069594 -0.08141377 -0.10063757 -0.11279473\n",
      "   0.02286863 -0.0763945  -0.02028875 -0.05078298]\n",
      " [ 0.03081083  0.05068012 -0.03422907  0.0436772   0.05759701  0.06883138\n",
      "  -0.03235593  0.05755657  0.03546194  0.08590655]\n",
      " [-0.03457486  0.05068012  0.00564998 -0.00567061 -0.07311851 -0.06269098\n",
      "  -0.00658447 -0.03949338 -0.04542096  0.03205916]\n",
      " [ 0.04897352  0.05068012  0.08864151  0.0872869   0.03558177  0.02154596\n",
      "  -0.02499266  0.03430886  0.06604821  0.13146972]\n",
      " [-0.04183994 -0.04464164 -0.03315126 -0.02288496  0.04658939  0.04158746\n",
      "   0.05600338 -0.02473293 -0.02595242 -0.03835666]\n",
      " [-0.00914709 -0.04464164 -0.05686312 -0.05042793  0.02182224  0.04534524\n",
      "  -0.02867429  0.03430886 -0.00991896 -0.01764613]\n",
      " [ 0.07076875  0.05068012 -0.03099563  0.02187235 -0.03734373 -0.04703355\n",
      "   0.03391355 -0.03949338 -0.01495648 -0.0010777 ]\n",
      " [ 0.0090156  -0.04464164  0.05522933 -0.00567061  0.05759701  0.04471895\n",
      "  -0.00290283  0.02323852  0.05568355  0.10661708]\n",
      " [-0.02730979 -0.04464164 -0.06009656 -0.02977071  0.04658939  0.01998022\n",
      "   0.12227286 -0.03949338 -0.05140054 -0.00936191]\n",
      " [ 0.01628068 -0.04464164  0.00133873  0.00810087  0.0053108   0.01089891\n",
      "   0.03023191 -0.03949338 -0.04542096  0.03205916]\n",
      " [-0.01277963 -0.04464164 -0.02345095 -0.04009932 -0.01670444  0.00463594\n",
      "  -0.01762938 -0.00259226 -0.03845911 -0.03835666]\n",
      " [-0.05637009 -0.04464164 -0.07410811 -0.05042793 -0.02496016 -0.04703355\n",
      "   0.09281975 -0.0763945  -0.0611766  -0.04664087]\n",
      " [ 0.04170844  0.05068012  0.01966154  0.05974393 -0.00569682 -0.00256647\n",
      "  -0.02867429 -0.00259226  0.03119299  0.00720652]\n",
      " [-0.00551455  0.05068012 -0.01590626 -0.06764228  0.0493413   0.07916528\n",
      "  -0.02867429  0.03430886 -0.01811827  0.04448548]\n",
      " [ 0.04170844  0.05068012 -0.01590626  0.01728186 -0.03734373 -0.01383982\n",
      "  -0.02499266 -0.01107952 -0.04687948  0.01549073]\n",
      " [-0.04547248 -0.04464164  0.03906215  0.00121513  0.01631843  0.01528299\n",
      "  -0.02867429  0.02655962  0.04452837 -0.02593034]\n",
      " [-0.04547248 -0.04464164 -0.0730303  -0.08141377  0.08374012  0.02780893\n",
      "   0.17381578 -0.03949338 -0.00421986  0.00306441]] [233.  91. 111. 152. 120.  67. 310.  94. 183.  66. 173.  72.  49.  64.\n",
      "  48. 178. 104. 132. 220.  57.]\n"
     ]
    }
   ],
   "source": [
    "diabetes_X, diabetes_y = datasets.load_diabetes(return_X_y=True)\n",
    "diabetes_X_train = diabetes_X[:-20]\n",
    "diabetes_X_test  = diabetes_X[-20:]\n",
    "\n",
    "diabetes_y_train = diabetes_y[:-20]\n",
    "diabetes_y_test  = diabetes_y[-20:]\n",
    "\n",
    "\n",
    "print(diabetes_X_test, diabetes_y_test)"
   ]
  },
  {
   "cell_type": "code",
   "execution_count": 29,
   "metadata": {},
   "outputs": [
    {
     "name": "stdout",
     "output_type": "stream",
     "text": [
      "[ 3.03499549e-01 -2.37639315e+02  5.10530605e+02  3.27736980e+02\n",
      " -8.14131709e+02  4.92814588e+02  1.02848452e+02  1.84606489e+02\n",
      "  7.43519617e+02  7.60951722e+01]\n",
      "2004.5676026898211\n"
     ]
    },
    {
     "data": {
      "text/plain": [
       "0.5850753022690574"
      ]
     },
     "execution_count": 29,
     "metadata": {},
     "output_type": "execute_result"
    }
   ],
   "source": [
    "from sklearn import linear_model\n",
    "regr = linear_model.LinearRegression()\n",
    "regr.fit(diabetes_X_train, diabetes_y_train)\n",
    "\n",
    "print(regr.coef_)\n",
    "\n",
    "\n",
    "\n",
    "\n",
    "# The mean square error\n",
    "mse = np.mean((regr.predict(diabetes_X_test) - diabetes_y_test)**2)\n",
    "print(mse)\n",
    "\n",
    "# Explained variance score: 1 is perfect prediction\n",
    "# and 0 means that there is no linear relationship\n",
    "# between X and y.\n",
    "regr.score(diabetes_X_test, diabetes_y_test)"
   ]
  },
  {
   "cell_type": "code",
   "execution_count": 32,
   "metadata": {},
   "outputs": [
    {
     "name": "stdout",
     "output_type": "stream",
     "text": [
      "[[0.5]\n",
      " [1. ]]\n",
      "-------------------\n",
      "[0.5, 1]\n",
      "-------------------\n",
      "[[0]\n",
      " [2]]\n",
      "-------------------\n",
      "[[0.67640523]\n",
      " [1.04001572]]\n",
      "-------------------\n",
      "[[0.5978738 ]\n",
      " [1.22408932]]\n",
      "-------------------\n",
      "[[0.6867558 ]\n",
      " [0.90227221]]\n",
      "-------------------\n",
      "[[0.59500884]\n",
      " [0.98486428]]\n",
      "-------------------\n",
      "[[0.48967811]\n",
      " [1.04105985]]\n",
      "-------------------\n",
      "[[0.51440436]\n",
      " [1.14542735]]\n",
      "-------------------\n"
     ]
    },
    {
     "data": {
      "image/png": "[encoded data removed]",
      "text/plain": [
       "<Figure size 432x288 with 1 Axes>"
      ]
     },
     "metadata": {
      "needs_background": "light"
     },
     "output_type": "display_data"
    }
   ],
   "source": [
    "X = np.c_[ .5, 1].T\n",
    "print(X)\n",
    "print(\"-------------------\")\n",
    "\n",
    "y = [.5, 1]\n",
    "print(y)\n",
    "print(\"-------------------\")\n",
    "\n",
    "test = np.c_[ 0, 2].T\n",
    "print(test)\n",
    "print(\"-------------------\")\n",
    "\n",
    "regr = linear_model.LinearRegression()\n",
    "\n",
    "import matplotlib.pyplot as plt \n",
    "plt.figure() \n",
    "\n",
    "np.random.seed(0)\n",
    "\n",
    "for _ in range(6): \n",
    "    this_X = .1 * np.random.normal(size=(2, 1)) + X\n",
    "    print(this_X)\n",
    "    print(\"-------------------\")\n",
    "    \n",
    "    regr.fit(this_X, y)\n",
    "    plt.plot(test, regr.predict(test)) \n",
    "    plt.scatter(this_X, y, s=3)  "
   ]
  },
  {
   "cell_type": "code",
   "execution_count": 35,
   "metadata": {},
   "outputs": [
    {
     "data": {
      "image/png": "[encoded data removed]",
      "text/plain": [
       "<Figure size 432x288 with 1 Axes>"
      ]
     },
     "metadata": {
      "needs_background": "light"
     },
     "output_type": "display_data"
    }
   ],
   "source": [
    "regr = linear_model.Ridge(alpha=.1)\n",
    "\n",
    "plt.figure() \n",
    "\n",
    "np.random.seed(0)\n",
    "for _ in range(6): \n",
    "    this_X = .1 * np.random.normal(size=(2, 1)) + X\n",
    "    regr.fit(this_X, y)\n",
    "    plt.plot(test, regr.predict(test)) \n",
    "    \n",
    "    plt.scatter(this_X, y, s=3) "
   ]
  },
  {
   "cell_type": "code",
   "execution_count": 38,
   "metadata": {},
   "outputs": [
    {
     "name": "stdout",
     "output_type": "stream",
     "text": [
      "[0.0001     0.00039811 0.00158489 0.00630957 0.02511886 0.1       ]\n",
      "[0.5851110683883529, 0.5852073015444674, 0.585467754069849, 0.5855512036503914, 0.583071708555416, 0.5705899943728008]\n"
     ]
    },
    {
     "data": {
      "text/plain": [
       "[<matplotlib.lines.Line2D at 0x1df53aa1c18>]"
      ]
     },
     "execution_count": 38,
     "metadata": {},
     "output_type": "execute_result"
    },
    {
     "data": {
      "image/png": "[encoded data removed]",
      "text/plain": [
       "<Figure size 432x288 with 1 Axes>"
      ]
     },
     "metadata": {
      "needs_background": "light"
     },
     "output_type": "display_data"
    }
   ],
   "source": [
    "alphas = np.logspace(-4, -1, 6)\n",
    "print(alphas)\n",
    "\n",
    "tests = [regr.set_params(alpha=alpha)\n",
    "           .fit(diabetes_X_train, diabetes_y_train)\n",
    "           .score(diabetes_X_test, diabetes_y_test)\n",
    "       for alpha in alphas]\n",
    "print(tests)\n",
    "\n",
    "\n",
    "plt.figure() \n",
    "plt.plot(tests) "
   ]
  },
  {
   "cell_type": "code",
   "execution_count": 42,
   "metadata": {},
   "outputs": [
    {
     "name": "stdout",
     "output_type": "stream",
     "text": [
      "[0.0001     0.00039811 0.00158489 0.00630957 0.02511886 0.1       ]\n",
      "[0.5851191069162227, 0.5852471364906051, 0.5857189539179355, 0.5873009485452739, 0.5887622418309262, 0.5828450029681681]\n",
      "0.025118864315095794\n",
      "[   0.         -212.43764548  517.19478111  313.77959962 -160.8303982\n",
      "   -0.         -187.19554705   69.38229038  508.66011217   71.84239008]\n"
     ]
    }
   ],
   "source": [
    "regr = linear_model.Lasso()\n",
    "\n",
    "print(alphas)\n",
    "\n",
    "scores = [regr.set_params(alpha=alpha)\n",
    "              .fit(diabetes_X_train, diabetes_y_train)\n",
    "              .score(diabetes_X_test, diabetes_y_test)\n",
    "          for alpha in alphas]\n",
    "\n",
    "print(scores)\n",
    "\n",
    "best_alpha = alphas[scores.index(max(scores))]\n",
    "print(best_alpha)\n",
    "\n",
    "regr.alpha = best_alpha\n",
    "\n",
    "regr.fit(diabetes_X_train, diabetes_y_train)\n",
    "\n",
    "print(regr.coef_)"
   ]
  },
  {
   "cell_type": "code",
   "execution_count": 43,
   "metadata": {},
   "outputs": [
    {
     "data": {
      "text/plain": [
       "LogisticRegression(C=100000.0)"
      ]
     },
     "execution_count": 43,
     "metadata": {},
     "output_type": "execute_result"
    }
   ],
   "source": [
    "log = linear_model.LogisticRegression(C=1e5)\n",
    "log.fit(iris_X_train, iris_y_train)"
   ]
  },
  {
   "cell_type": "code",
   "execution_count": 47,
   "metadata": {},
   "outputs": [
    {
     "name": "stdout",
     "output_type": "stream",
     "text": [
      "\n",
      "================================\n",
      "Digits Classification Exercise\n",
      "================================\n",
      "\n",
      "A tutorial exercise regarding the use of classification techniques on\n",
      "the Digits dataset.\n",
      "\n",
      "This exercise is used in the :ref:`clf_tut` part of the\n",
      ":ref:`supervised_learning_tut` section of the\n",
      ":ref:`stat_learn_tut_index`.\n",
      "\n",
      "[[ 0.  0.  5. ...  0.  0.  0.]\n",
      " [ 0.  0.  0. ... 10.  0.  0.]\n",
      " [ 0.  0.  0. ... 16.  9.  0.]\n",
      " ...\n",
      " [ 0.  0.  1. ...  6.  0.  0.]\n",
      " [ 0.  0.  2. ... 12.  0.  0.]\n",
      " [ 0.  0. 10. ... 12.  1.  0.]]\n",
      "16.0\n",
      "KNN score: 0.961111\n",
      "LogisticRegression score: 0.933333\n"
     ]
    }
   ],
   "source": [
    "\"\"\"\n",
    "================================\n",
    "Digits Classification Exercise\n",
    "================================\n",
    "\n",
    "A tutorial exercise regarding the use of classification techniques on\n",
    "the Digits dataset.\n",
    "\n",
    "This exercise is used in the :ref:`clf_tut` part of the\n",
    ":ref:`supervised_learning_tut` section of the\n",
    ":ref:`stat_learn_tut_index`.\n",
    "\"\"\"\n",
    "print(__doc__)\n",
    "\n",
    "from sklearn import datasets, neighbors, linear_model\n",
    "\n",
    "X_digits, y_digits = datasets.load_digits(return_X_y=True)\n",
    "\n",
    "print(X_digits)\n",
    "print(X_digits.max())\n",
    "X_digits = X_digits / X_digits.max()\n",
    "\n",
    "n_samples = len(X_digits)\n",
    "\n",
    "X_train = X_digits[:int(.9 * n_samples)]\n",
    "y_train = y_digits[:int(.9 * n_samples)]\n",
    "\n",
    "X_test = X_digits[int(.9 * n_samples):]\n",
    "y_test = y_digits[int(.9 * n_samples):]\n",
    "\n",
    "knn = neighbors.KNeighborsClassifier()\n",
    "\n",
    "logistic = linear_model.LogisticRegression(max_iter=1000)\n",
    "\n",
    "\n",
    "print('KNN score: %f' % knn.fit(X_train, y_train).score(X_test, y_test))\n",
    "\n",
    "\n",
    "print('LogisticRegression score: %f'\n",
    "      % logistic.fit(X_train, y_train).score(X_test, y_test))\n"
   ]
  },
  {
   "cell_type": "code",
   "execution_count": 48,
   "metadata": {},
   "outputs": [
    {
     "name": "stdout",
     "output_type": "stream",
     "text": [
      "\n",
      "================================\n",
      "Digits Classification Exercise\n",
      "================================\n",
      "\n",
      "A tutorial exercise regarding the use of classification techniques on\n",
      "the Digits dataset.\n",
      "\n",
      "This exercise is used in the :ref:`clf_tut` part of the\n",
      ":ref:`supervised_learning_tut` section of the\n",
      ":ref:`stat_learn_tut_index`.\n",
      "\n"
     ]
    },
    {
     "data": {
      "image/png": "[encoded data removed]",
      "text/plain": [
       "<Figure size 432x288 with 4 Axes>"
      ]
     },
     "metadata": {},
     "output_type": "display_data"
    }
   ],
   "source": [
    "print(__doc__)\n",
    "\n",
    "import numpy as np\n",
    "import matplotlib.pyplot as plt\n",
    "from sklearn import svm, datasets\n",
    "\n",
    "\n",
    "def make_meshgrid(x, y, h=.02):\n",
    "    \"\"\"Create a mesh of points to plot in\n",
    "\n",
    "    Parameters\n",
    "    ----------\n",
    "    x: data to base x-axis meshgrid on\n",
    "    y: data to base y-axis meshgrid on\n",
    "    h: stepsize for meshgrid, optional\n",
    "\n",
    "    Returns\n",
    "    -------\n",
    "    xx, yy : ndarray\n",
    "    \"\"\"\n",
    "    x_min, x_max = x.min() - 1, x.max() + 1\n",
    "    y_min, y_max = y.min() - 1, y.max() + 1\n",
    "    xx, yy = np.meshgrid(np.arange(x_min, x_max, h),\n",
    "                         np.arange(y_min, y_max, h))\n",
    "    return xx, yy\n",
    "\n",
    "\n",
    "def plot_contours(ax, clf, xx, yy, **params):\n",
    "    \"\"\"Plot the decision boundaries for a classifier.\n",
    "\n",
    "    Parameters\n",
    "    ----------\n",
    "    ax: matplotlib axes object\n",
    "    clf: a classifier\n",
    "    xx: meshgrid ndarray\n",
    "    yy: meshgrid ndarray\n",
    "    params: dictionary of params to pass to contourf, optional\n",
    "    \"\"\"\n",
    "    Z = clf.predict(np.c_[xx.ravel(), yy.ravel()])\n",
    "    Z = Z.reshape(xx.shape)\n",
    "    out = ax.contourf(xx, yy, Z, **params)\n",
    "    return out\n",
    "\n",
    "\n",
    "# import some data to play with\n",
    "iris = datasets.load_iris()\n",
    "# Take the first two features. We could avoid this by using a two-dim dataset\n",
    "X = iris.data[:, :2]\n",
    "y = iris.target\n",
    "\n",
    "# we create an instance of SVM and fit out data. We do not scale our\n",
    "# data since we want to plot the support vectors\n",
    "C = 1.0  # SVM regularization parameter\n",
    "models = (svm.SVC(kernel='linear', C=C),\n",
    "          svm.LinearSVC(C=C, max_iter=10000),\n",
    "          svm.SVC(kernel='rbf', gamma=0.7, C=C),\n",
    "          svm.SVC(kernel='poly', degree=3, gamma='auto', C=C))\n",
    "models = (clf.fit(X, y) for clf in models)\n",
    "\n",
    "# title for the plots\n",
    "titles = ('SVC with linear kernel',\n",
    "          'LinearSVC (linear kernel)',\n",
    "          'SVC with RBF kernel',\n",
    "          'SVC with polynomial (degree 3) kernel')\n",
    "\n",
    "# Set-up 2x2 grid for plotting.\n",
    "fig, sub = plt.subplots(2, 2)\n",
    "plt.subplots_adjust(wspace=0.4, hspace=0.4)\n",
    "\n",
    "X0, X1 = X[:, 0], X[:, 1]\n",
    "xx, yy = make_meshgrid(X0, X1)\n",
    "\n",
    "for clf, title, ax in zip(models, titles, sub.flatten()):\n",
    "    plot_contours(ax, clf, xx, yy,\n",
    "                  cmap=plt.cm.coolwarm, alpha=0.8)\n",
    "    ax.scatter(X0, X1, c=y, cmap=plt.cm.coolwarm, s=20, edgecolors='k')\n",
    "    ax.set_xlim(xx.min(), xx.max())\n",
    "    ax.set_ylim(yy.min(), yy.max())\n",
    "    ax.set_xlabel('Sepal length')\n",
    "    ax.set_ylabel('Sepal width')\n",
    "    ax.set_xticks(())\n",
    "    ax.set_yticks(())\n",
    "    ax.set_title(title)\n",
    "\n",
    "plt.show()"
   ]
  },
  {
   "cell_type": "code",
   "execution_count": 49,
   "metadata": {},
   "outputs": [
    {
     "data": {
      "text/plain": [
       "SVC(kernel='linear')"
      ]
     },
     "execution_count": 49,
     "metadata": {},
     "output_type": "execute_result"
    }
   ],
   "source": [
    "from sklearn import svm\n",
    "svc = svm.SVC(kernel='linear')\n",
    "svc.fit(iris_X_train, iris_y_train)"
   ]
  },
  {
   "cell_type": "code",
   "execution_count": 51,
   "metadata": {},
   "outputs": [
    {
     "name": "stdout",
     "output_type": "stream",
     "text": [
      "\n",
      "================================\n",
      "SVM Exercise\n",
      "================================\n",
      "\n",
      "A tutorial exercise for using different SVM kernels.\n",
      "\n",
      "This exercise is used in the :ref:`using_kernels_tut` part of the\n",
      ":ref:`supervised_learning_tut` section of the :ref:`stat_learn_tut_index`.\n",
      "\n"
     ]
    },
    {
     "data": {
      "image/png": "[encoded data removed]",
      "text/plain": [
       "<Figure size 432x288 with 1 Axes>"
      ]
     },
     "metadata": {
      "needs_background": "light"
     },
     "output_type": "display_data"
    },
    {
     "data": {
      "image/png": "[encoded data removed]",
      "text/plain": [
       "<Figure size 432x288 with 1 Axes>"
      ]
     },
     "metadata": {
      "needs_background": "light"
     },
     "output_type": "display_data"
    },
    {
     "data": {
      "image/png": "[encoded data removed]",
      "text/plain": [
       "<Figure size 432x288 with 1 Axes>"
      ]
     },
     "metadata": {
      "needs_background": "light"
     },
     "output_type": "display_data"
    }
   ],
   "source": [
    "\"\"\"\n",
    "================================\n",
    "SVM Exercise\n",
    "================================\n",
    "\n",
    "A tutorial exercise for using different SVM kernels.\n",
    "\n",
    "This exercise is used in the :ref:`using_kernels_tut` part of the\n",
    ":ref:`supervised_learning_tut` section of the :ref:`stat_learn_tut_index`.\n",
    "\"\"\"\n",
    "print(__doc__)\n",
    "\n",
    "\n",
    "import numpy as np\n",
    "import matplotlib.pyplot as plt\n",
    "from sklearn import datasets, svm\n",
    "\n",
    "iris = datasets.load_iris()\n",
    "X = iris.data\n",
    "y = iris.target\n",
    "\n",
    "X = X[y != 0, :2]\n",
    "y = y[y != 0]\n",
    "\n",
    "n_sample = len(X)\n",
    "\n",
    "np.random.seed(0)\n",
    "order = np.random.permutation(n_sample)\n",
    "X = X[order]\n",
    "y = y[order].astype(float)\n",
    "\n",
    "X_train = X[:int(.9 * n_sample)]\n",
    "y_train = y[:int(.9 * n_sample)]\n",
    "\n",
    "X_test = X[int(.9 * n_sample):]\n",
    "y_test = y[int(.9 * n_sample):]\n",
    "\n",
    "\n",
    "# fit the model\n",
    "for kernel in ('linear', 'rbf', 'poly'):\n",
    "    clf = svm.SVC(kernel=kernel, gamma=10)\n",
    "    clf.fit(X_train, y_train)\n",
    "\n",
    "    plt.figure()\n",
    "    \n",
    "    plt.clf()\n",
    "    \n",
    "    plt.scatter(X[:, 0], X[:, 1], c=y, zorder=10, cmap=plt.cm.Paired,\n",
    "                edgecolor='k', s=20)\n",
    "\n",
    "    # Circle out the test data\n",
    "    plt.scatter(X_test[:, 0], X_test[:, 1], s=80, facecolors='none',\n",
    "                zorder=10, edgecolor='k')\n",
    "\n",
    "    plt.axis('tight')\n",
    "    \n",
    "    x_min = X[:, 0].min()\n",
    "    x_max = X[:, 0].max()\n",
    "    \n",
    "    y_min = X[:, 1].min()\n",
    "    y_max = X[:, 1].max()\n",
    "\n",
    "    XX, YY = np.mgrid[x_min:x_max:200j, y_min:y_max:200j]\n",
    "    \n",
    "    Z = clf.decision_function(np.c_[XX.ravel(), YY.ravel()])\n",
    "\n",
    "    # Put the result into a color plot\n",
    "    Z = Z.reshape(XX.shape)\n",
    "    plt.pcolormesh(XX, YY, Z > 0, cmap=plt.cm.Paired)\n",
    "    plt.contour(XX, YY, Z, colors=['k', 'k', 'k'],\n",
    "                linestyles=['--', '-', '--'], levels=[-.5, 0, .5])\n",
    "\n",
    "    plt.title(kernel)\n",
    "plt.show()\n"
   ]
  },
  {
   "cell_type": "code",
   "execution_count": 1,
   "metadata": {},
   "outputs": [
    {
     "data": {
      "text/plain": [
       "0.98"
      ]
     },
     "execution_count": 1,
     "metadata": {},
     "output_type": "execute_result"
    }
   ],
   "source": [
    "from sklearn import datasets, svm\n",
    "X_digits, y_digits = datasets.load_digits(return_X_y=True)\n",
    "svc = svm.SVC(C=1, kernel='linear')\n",
    "svc.fit(X_digits[:-100], y_digits[:-100]).score(X_digits[-100:], y_digits[-100:])\n"
   ]
  },
  {
   "cell_type": "code",
   "execution_count": 2,
   "metadata": {},
   "outputs": [
    {
     "name": "stdout",
     "output_type": "stream",
     "text": [
      "[0.9348914858096828, 0.9565943238731218, 0.9398998330550918]\n"
     ]
    }
   ],
   "source": [
    "import numpy as np\n",
    "X_folds = np.array_split(X_digits, 3)\n",
    "y_folds = np.array_split(y_digits, 3)\n",
    "scores = list()\n",
    "for k in range(3):\n",
    "    # We use 'list' to copy, in order to 'pop' later on\n",
    "    X_train = list(X_folds)\n",
    "    X_test = X_train.pop(k)\n",
    "    X_train = np.concatenate(X_train)\n",
    "    y_train = list(y_folds)\n",
    "    y_test = y_train.pop(k)\n",
    "    y_train = np.concatenate(y_train)\n",
    "    scores.append(svc.fit(X_train, y_train).score(X_test, y_test))\n",
    "print(scores)"
   ]
  },
  {
   "cell_type": "code",
   "execution_count": 3,
   "metadata": {},
   "outputs": [
    {
     "name": "stdout",
     "output_type": "stream",
     "text": [
      "Train: [2 3 4 5 6 7 8 9] | test: [0 1]\n",
      "Train: [0 1 4 5 6 7 8 9] | test: [2 3]\n",
      "Train: [0 1 2 3 6 7 8 9] | test: [4 5]\n",
      "Train: [0 1 2 3 4 5 8 9] | test: [6 7]\n",
      "Train: [0 1 2 3 4 5 6 7] | test: [8 9]\n"
     ]
    }
   ],
   "source": [
    "from sklearn.model_selection import KFold, cross_val_score\n",
    "X = [\"a\", \"a\", \"a\", \"b\", \"b\", \"c\", \"c\", \"c\", \"c\", \"c\"]\n",
    "k_fold = KFold(n_splits=5)\n",
    "for train_indices, test_indices in k_fold.split(X):\n",
    "     print('Train: %s | test: %s' % (train_indices, test_indices))"
   ]
  },
  {
   "cell_type": "code",
   "execution_count": 4,
   "metadata": {},
   "outputs": [
    {
     "data": {
      "text/plain": [
       "[0.9638888888888889,\n",
       " 0.9222222222222223,\n",
       " 0.9637883008356546,\n",
       " 0.9637883008356546,\n",
       " 0.9303621169916435]"
      ]
     },
     "execution_count": 4,
     "metadata": {},
     "output_type": "execute_result"
    }
   ],
   "source": [
    "[svc.fit(X_digits[train], y_digits[train]).score(X_digits[test], y_digits[test])\n",
    " for train, test in k_fold.split(X_digits)]"
   ]
  },
  {
   "cell_type": "code",
   "execution_count": 5,
   "metadata": {},
   "outputs": [
    {
     "data": {
      "text/plain": [
       "array([0.96388889, 0.92222222, 0.9637883 , 0.9637883 , 0.93036212])"
      ]
     },
     "execution_count": 5,
     "metadata": {},
     "output_type": "execute_result"
    }
   ],
   "source": [
    "cross_val_score(svc, X_digits, y_digits, cv=k_fold, n_jobs=-1)"
   ]
  },
  {
   "cell_type": "code",
   "execution_count": 6,
   "metadata": {},
   "outputs": [
    {
     "data": {
      "text/plain": [
       "array([0.96578289, 0.92708922, 0.96681476, 0.96362897, 0.93192644])"
      ]
     },
     "execution_count": 6,
     "metadata": {},
     "output_type": "execute_result"
    }
   ],
   "source": [
    "cross_val_score(svc, X_digits, y_digits, cv=k_fold,\n",
    "                scoring='precision_macro')"
   ]
  },
  {
   "cell_type": "code",
   "execution_count": 7,
   "metadata": {},
   "outputs": [],
   "source": [
    "import numpy as np\n",
    "from sklearn.model_selection import cross_val_score\n",
    "from sklearn import datasets, svm\n",
    "\n",
    "X, y = datasets.load_digits(return_X_y=True)\n",
    "\n",
    "svc = svm.SVC(kernel='linear')\n",
    "C_s = np.logspace(-10, 0, 10)\n",
    "\n",
    "scores = list()"
   ]
  },
  {
   "cell_type": "code",
   "execution_count": 9,
   "metadata": {},
   "outputs": [
    {
     "name": "stdout",
     "output_type": "stream",
     "text": [
      "Automatically created module for IPython interactive environment\n"
     ]
    },
    {
     "data": {
      "image/png": "[encoded data removed]",
      "text/plain": [
       "<Figure size 432x288 with 1 Axes>"
      ]
     },
     "metadata": {
      "needs_background": "light"
     },
     "output_type": "display_data"
    }
   ],
   "source": [
    "print(__doc__)\n",
    "\n",
    "\n",
    "import numpy as np\n",
    "from sklearn.model_selection import cross_val_score\n",
    "from sklearn import datasets, svm\n",
    "\n",
    "X, y = datasets.load_digits(return_X_y=True)\n",
    "\n",
    "svc = svm.SVC(kernel='linear')\n",
    "C_s = np.logspace(-10, 0, 10)\n",
    "\n",
    "scores = list()\n",
    "scores_std = list()\n",
    "for C in C_s:\n",
    "    svc.C = C\n",
    "    this_scores = cross_val_score(svc, X, y, n_jobs=1)\n",
    "    scores.append(np.mean(this_scores))\n",
    "    scores_std.append(np.std(this_scores))\n",
    "\n",
    "# Do the plotting\n",
    "import matplotlib.pyplot as plt\n",
    "plt.figure()\n",
    "plt.semilogx(C_s, scores)\n",
    "plt.semilogx(C_s, np.array(scores) + np.array(scores_std), 'b--')\n",
    "plt.semilogx(C_s, np.array(scores) - np.array(scores_std), 'b--')\n",
    "locs, labels = plt.yticks()\n",
    "plt.yticks(locs, list(map(lambda x: \"%g\" % x, locs)))\n",
    "plt.ylabel('CV score')\n",
    "plt.xlabel('Parameter C')\n",
    "plt.ylim(0, 1.1)\n",
    "plt.show()"
   ]
  },
  {
   "cell_type": "code",
   "execution_count": 11,
   "metadata": {},
   "outputs": [
    {
     "name": "stdout",
     "output_type": "stream",
     "text": [
      "0.95\n",
      "0.0021544346900318843\n"
     ]
    },
    {
     "data": {
      "text/plain": [
       "0.946047678795483"
      ]
     },
     "execution_count": 11,
     "metadata": {},
     "output_type": "execute_result"
    }
   ],
   "source": [
    "from sklearn.model_selection import GridSearchCV, cross_val_score\n",
    "Cs = np.logspace(-6, -1, 10)\n",
    "clf = GridSearchCV(estimator=svc, param_grid=dict(C=Cs),\n",
    "                   n_jobs=-1)\n",
    "\n",
    "clf.fit(X_digits[:1000], y_digits[:1000])        \n",
    "\n",
    "print(clf.best_score_)\n",
    "\n",
    "print(clf.best_estimator_.C)\n",
    "\n",
    "\n",
    "# Prediction performance on test set is not as good as on train set\n",
    "clf.score(X_digits[1000:], y_digits[1000:])      "
   ]
  },
  {
   "cell_type": "code",
   "execution_count": 12,
   "metadata": {},
   "outputs": [
    {
     "data": {
      "text/plain": [
       "array([0.94722222, 0.91666667, 0.96657382, 0.97493036, 0.93593315])"
      ]
     },
     "execution_count": 12,
     "metadata": {},
     "output_type": "execute_result"
    }
   ],
   "source": [
    "cross_val_score(clf, X_digits, y_digits) "
   ]
  },
  {
   "cell_type": "code",
   "execution_count": 13,
   "metadata": {},
   "outputs": [
    {
     "data": {
      "text/plain": [
       "0.003753767152692203"
      ]
     },
     "execution_count": 13,
     "metadata": {},
     "output_type": "execute_result"
    }
   ],
   "source": [
    "from sklearn import linear_model, datasets\n",
    "lasso = linear_model.LassoCV()\n",
    "X_diabetes, y_diabetes = datasets.load_diabetes(return_X_y=True)\n",
    "lasso.fit(X_diabetes, y_diabetes)\n",
    "\n",
    "# The estimator chose automatically its lambda:\n",
    "lasso.alpha_"
   ]
  },
  {
   "cell_type": "code",
   "execution_count": 14,
   "metadata": {},
   "outputs": [
    {
     "name": "stdout",
     "output_type": "stream",
     "text": [
      "Automatically created module for IPython interactive environment\n",
      "Answer to the bonus question: how much can you trust the selection of alpha?\n",
      "\n",
      "Alpha parameters maximising the generalization score on different\n",
      "subsets of the data:\n",
      "[fold 0] alpha: 0.05968, score: 0.54209\n",
      "[fold 1] alpha: 0.04520, score: 0.15523\n",
      "[fold 2] alpha: 0.07880, score: 0.45193\n",
      "\n",
      "Answer: Not very much since we obtained different alphas for different\n",
      "subsets of the data and moreover, the scores for these alphas differ\n",
      "quite substantially.\n"
     ]
    },
    {
     "data": {
      "image/png": "[encoded data removed]",
      "text/plain": [
       "<Figure size 576x432 with 1 Axes>"
      ]
     },
     "metadata": {
      "needs_background": "light"
     },
     "output_type": "display_data"
    }
   ],
   "source": [
    "print(__doc__)\n",
    "\n",
    "import numpy as np\n",
    "import matplotlib.pyplot as plt\n",
    "\n",
    "from sklearn import datasets\n",
    "from sklearn.linear_model import LassoCV\n",
    "from sklearn.linear_model import Lasso\n",
    "from sklearn.model_selection import KFold\n",
    "from sklearn.model_selection import GridSearchCV\n",
    "\n",
    "X, y = datasets.load_diabetes(return_X_y=True)\n",
    "X = X[:150]\n",
    "y = y[:150]\n",
    "\n",
    "lasso = Lasso(random_state=0, max_iter=10000)\n",
    "alphas = np.logspace(-4, -0.5, 30)\n",
    "\n",
    "tuned_parameters = [{'alpha': alphas}]\n",
    "n_folds = 5\n",
    "\n",
    "clf = GridSearchCV(lasso, tuned_parameters, cv=n_folds, refit=False)\n",
    "clf.fit(X, y)\n",
    "\n",
    "scores = clf.cv_results_['mean_test_score']\n",
    "scores_std = clf.cv_results_['std_test_score']\n",
    "\n",
    "plt.figure().set_size_inches(8, 6)\n",
    "plt.semilogx(alphas, scores)\n",
    "\n",
    "# plot error lines showing +/- std. errors of the scores\n",
    "std_error = scores_std / np.sqrt(n_folds)\n",
    "\n",
    "plt.semilogx(alphas, scores + std_error, 'b--')\n",
    "plt.semilogx(alphas, scores - std_error, 'b--')\n",
    "\n",
    "# alpha=0.2 controls the translucency of the fill color\n",
    "plt.fill_between(alphas, scores + std_error, scores - std_error, alpha=0.2)\n",
    "\n",
    "plt.ylabel('CV score +/- std error')\n",
    "plt.xlabel('alpha')\n",
    "plt.axhline(np.max(scores), linestyle='--', color='.5')\n",
    "plt.xlim([alphas[0], alphas[-1]])\n",
    "\n",
    "# #############################################################################\n",
    "# Bonus: how much can you trust the selection of alpha?\n",
    "\n",
    "# To answer this question we use the LassoCV object that sets its alpha\n",
    "# parameter automatically from the data by internal cross-validation (i.e. it\n",
    "# performs cross-validation on the training data it receives).\n",
    "# We use external cross-validation to see how much the automatically obtained\n",
    "# alphas differ across different cross-validation folds.\n",
    "lasso_cv = LassoCV(alphas=alphas, random_state=0, max_iter=10000)\n",
    "k_fold = KFold(3)\n",
    "\n",
    "print(\"Answer to the bonus question:\",\n",
    "      \"how much can you trust the selection of alpha?\")\n",
    "print()\n",
    "print(\"Alpha parameters maximising the generalization score on different\")\n",
    "print(\"subsets of the data:\")\n",
    "for k, (train, test) in enumerate(k_fold.split(X, y)):\n",
    "    lasso_cv.fit(X[train], y[train])\n",
    "    print(\"[fold {0}] alpha: {1:.5f}, score: {2:.5f}\".\n",
    "          format(k, lasso_cv.alpha_, lasso_cv.score(X[test], y[test])))\n",
    "print()\n",
    "print(\"Answer: Not very much since we obtained different alphas for different\")\n",
    "print(\"subsets of the data and moreover, the scores for these alphas differ\")\n",
    "print(\"quite substantially.\")\n",
    "\n",
    "plt.show()"
   ]
  },
  {
   "cell_type": "code",
   "execution_count": 15,
   "metadata": {},
   "outputs": [
    {
     "name": "stdout",
     "output_type": "stream",
     "text": [
      "[0 0 0 0 0 2 2 2 2 2 1 1 1 1 1]\n",
      "[0 0 0 0 0 1 1 1 1 1 2 2 2 2 2]\n"
     ]
    }
   ],
   "source": [
    "from sklearn import cluster, datasets\n",
    "X_iris, y_iris = datasets.load_iris(return_X_y=True)\n",
    "\n",
    "k_means = cluster.KMeans(n_clusters=3)\n",
    "k_means.fit(X_iris)\n",
    "\n",
    "print(k_means.labels_[::10])\n",
    "\n",
    "print(y_iris[::10])"
   ]
  },
  {
   "cell_type": "code",
   "execution_count": 17,
   "metadata": {},
   "outputs": [
    {
     "name": "stdout",
     "output_type": "stream",
     "text": [
      "[[114]\n",
      " [130]\n",
      " [145]\n",
      " ...\n",
      " [142]\n",
      " [141]\n",
      " [140]]\n",
      "[ 28.68574967 155.30249952 116.93734808  77.32292075 195.41684458]\n",
      "[2 2 1 ... 1 1 1]\n",
      "[[116.93734808 116.93734808 155.30249952 ... 116.93734808 116.93734808\n",
      "  155.30249952]\n",
      " [ 77.32292075 116.93734808 116.93734808 ... 116.93734808 116.93734808\n",
      "  155.30249952]\n",
      " [ 77.32292075  77.32292075 116.93734808 ... 116.93734808 116.93734808\n",
      "  155.30249952]\n",
      " ...\n",
      " [116.93734808 116.93734808 116.93734808 ... 155.30249952 155.30249952\n",
      "  155.30249952]\n",
      " [ 77.32292075 116.93734808 116.93734808 ... 155.30249952 155.30249952\n",
      "  155.30249952]\n",
      " [ 77.32292075 116.93734808 116.93734808 ... 155.30249952 155.30249952\n",
      "  155.30249952]]\n"
     ]
    }
   ],
   "source": [
    "import scipy as sp\n",
    "try:\n",
    "   face = sp.face(gray=True)\n",
    "except AttributeError:\n",
    "   from scipy import misc\n",
    "   face = misc.face(gray=True)\n",
    "X = face.reshape((-1, 1)) # We need an (n_sample, n_feature) array\n",
    "print(X)\n",
    "k_means = cluster.KMeans(n_clusters=5, n_init=1)\n",
    "k_means.fit(X)\n",
    "\n",
    "values = k_means.cluster_centers_.squeeze()\n",
    "print(values)\n",
    "\n",
    "labels = k_means.labels_\n",
    "print(labels)\n",
    "\n",
    "face_compressed = np.choose(labels, values)\n",
    "face_compressed.shape = face.shape\n",
    "print(face_compressed)\n"
   ]
  },
  {
   "cell_type": "code",
   "execution_count": 20,
   "metadata": {},
   "outputs": [
    {
     "name": "stdout",
     "output_type": "stream",
     "text": [
      "[[-9.33252729e-01  6.00538646e-01 -3.32714082e-01]\n",
      " [ 5.67792382e-03 -1.27117186e+00 -1.26549393e+00]\n",
      " [-1.10451358e+00 -6.81383362e-01 -1.78589694e+00]\n",
      " [-5.07794900e-01 -9.45774318e-01 -1.45356922e+00]\n",
      " [-2.73172035e-01  1.58134933e+00  1.30817730e+00]\n",
      " [-1.13560968e+00 -6.45472244e-01 -1.78108193e+00]\n",
      " [-4.61751447e-01 -4.05201188e-01 -8.66952635e-01]\n",
      " [ 2.01059494e+00  1.60494939e+00  3.61554433e+00]\n",
      " [-1.81842122e-01 -8.95595881e-01 -1.07743800e+00]\n",
      " [-9.32152013e-01 -7.56896368e-01 -1.68904838e+00]\n",
      " [-3.22162133e-01  5.57605389e-01  2.35443256e-01]\n",
      " [-1.37953608e+00  4.55191748e-01 -9.24344327e-01]\n",
      " [ 1.23323310e+00  8.21487563e-02  1.31538186e+00]\n",
      " [ 1.56897286e+00 -8.78028497e-01  6.90944366e-01]\n",
      " [-4.39374630e-01 -1.21163954e+00 -1.65101417e+00]\n",
      " [-1.67876654e+00  1.35035287e+00 -3.28413665e-01]\n",
      " [-1.81161093e-01 -1.07737745e+00 -1.25853854e+00]\n",
      " [-4.29907863e-01 -5.22405871e-01 -9.52313735e-01]\n",
      " [ 3.65798082e-02 -6.26479410e-01 -5.89899601e-01]\n",
      " [-2.46006806e-02  3.74759707e-01  3.50159026e-01]\n",
      " [-1.45336122e-01  8.84562856e-01  7.39226734e-01]\n",
      " [-5.91299779e-01  9.99777518e-01  4.08477739e-01]\n",
      " [-9.10892554e-01 -3.10514991e-01 -1.22140754e+00]\n",
      " [ 2.60137402e-01 -1.23805372e+00 -9.77916319e-01]\n",
      " [-8.45032469e-01 -2.10241497e-01 -1.05527397e+00]\n",
      " [ 2.27701886e+00  4.13510716e-01  2.69052957e+00]\n",
      " [ 1.19524745e+00 -5.08133409e-01  6.87114037e-01]\n",
      " [ 7.87855758e-01  6.52885186e-01  1.44074094e+00]\n",
      " [-4.54882262e-01  1.13293018e+00  6.78047917e-01]\n",
      " [-7.09915658e-01  3.56751916e-01 -3.53163742e-01]\n",
      " [-6.99927724e-01  9.08627401e-01  2.08699677e-01]\n",
      " [-8.89447970e-01  6.04300858e-01 -2.85147112e-01]\n",
      " [ 9.53010823e-01 -7.78762031e-01  1.74248792e-01]\n",
      " [ 2.01044174e+00  5.61816405e-01  2.57225815e+00]\n",
      " [ 1.13308202e+00  5.05945350e-01  1.63902737e+00]\n",
      " [ 1.22248735e+00 -2.91537147e-02  1.19333364e+00]\n",
      " [-1.66385663e+00 -2.09201496e-01 -1.87305813e+00]\n",
      " [-5.28001431e-01 -5.27543608e-01 -1.05554504e+00]\n",
      " [ 3.72883745e-01 -8.07247044e-02  2.92159040e-01]\n",
      " [ 3.63661334e-01  8.65709194e-01  1.22937053e+00]\n",
      " [ 2.76097828e-01 -3.38600107e-01 -6.25022792e-02]\n",
      " [-7.67772357e-01  1.88648104e+00  1.11870868e+00]\n",
      " [ 5.25289876e-01  1.04140607e+00  1.56669595e+00]\n",
      " [-1.27628273e+00 -8.46439007e-01 -2.12272174e+00]\n",
      " [ 1.50656823e+00  3.76457193e-01  1.88302543e+00]\n",
      " [-7.71754858e-01 -1.12533305e+00 -1.89708790e+00]\n",
      " [-1.50117454e+00  1.21699331e+00 -2.84181225e-01]\n",
      " [ 4.82241703e-01 -4.57559624e-01  2.46820790e-02]\n",
      " [-1.29023088e+00  1.42097531e+00  1.30744434e-01]\n",
      " [ 3.97003638e-01 -6.18655069e-01 -2.21651430e-01]\n",
      " [ 1.07880803e-01 -6.12955756e-01 -5.05074954e-01]\n",
      " [-1.04420523e+00 -2.45687991e-01 -1.28989322e+00]\n",
      " [ 1.60743114e+00  4.91478900e-01  2.09891004e+00]\n",
      " [-1.73227040e-01 -1.06177797e+00 -1.23500501e+00]\n",
      " [-3.37615639e-02  1.26717747e+00  1.23341591e+00]\n",
      " [ 1.71499433e+00  5.50893463e-01  2.26588779e+00]\n",
      " [ 7.17342061e-01 -2.44984688e+00 -1.73250482e+00]\n",
      " [-1.63209124e+00 -7.25450297e-01 -2.35754154e+00]\n",
      " [ 1.44467323e+00  2.17871233e+00  3.62338556e+00]\n",
      " [ 7.36906302e-01 -9.64214863e-01 -2.27308561e-01]\n",
      " [-1.52092372e+00 -4.09651731e-02 -1.56188889e+00]\n",
      " [ 2.18310640e-01 -5.33559432e-01 -3.15248792e-01]\n",
      " [-3.51026405e-01 -1.62771574e+00 -1.97874214e+00]\n",
      " [-6.75499956e-01 -1.47552438e+00 -2.15102433e+00]\n",
      " [ 4.29912893e-02 -8.18314287e-01 -7.75322998e-01]\n",
      " [-6.92545562e-01 -2.15548892e+00 -2.84803448e+00]\n",
      " [-1.48992121e+00  2.61770788e-01 -1.22815042e+00]\n",
      " [-8.14050662e-02  9.74063479e-01  8.92658413e-01]\n",
      " [-2.15342670e+00 -8.90046485e-02 -2.24243135e+00]\n",
      " [ 1.31169188e+00  7.79458775e-01  2.09115065e+00]\n",
      " [-1.55880212e+00  2.45654515e-01 -1.31314761e+00]\n",
      " [-6.32559642e-01  1.43723334e-01 -4.88836308e-01]\n",
      " [ 3.52661115e-01  1.86849158e-01  5.39510274e-01]\n",
      " [-2.32000053e-01 -1.29925455e+00 -1.53125460e+00]\n",
      " [ 1.40822784e+00  9.81937794e-01  2.39016563e+00]\n",
      " [ 5.67119102e-01  3.32700025e-01  8.99819127e-01]\n",
      " [-1.58453541e+00 -9.86809593e-01 -2.57134501e+00]\n",
      " [-3.81172606e-01  2.64292304e-01 -1.16880302e-01]\n",
      " [ 7.12844130e-01 -7.15160764e-01 -2.31663381e-03]\n",
      " [-2.36088625e+00 -8.50916372e-01 -3.21180262e+00]\n",
      " [ 4.40095971e-01 -3.00391454e+00 -2.56381857e+00]\n",
      " [-1.45854229e+00  4.65703913e-01 -9.92838373e-01]\n",
      " [ 2.06646321e+00 -1.89612497e-01  1.87685072e+00]\n",
      " [-3.06601871e-01 -7.16720855e-01 -1.02332273e+00]\n",
      " [ 9.46438559e-01 -7.58360534e-01  1.88078025e-01]\n",
      " [ 1.24327366e-01 -2.07414305e-01 -8.30869391e-02]\n",
      " [-2.03202558e+00 -4.44397147e-01 -2.47642273e+00]\n",
      " [ 5.74822175e-01 -1.46599424e+00 -8.91172068e-01]\n",
      " [-2.95192437e-02  1.08709561e-01  7.91903178e-02]\n",
      " [ 5.05845371e-03  1.29830152e-01  1.34888605e-01]\n",
      " [-3.89877966e-01 -1.17663242e-01 -5.07541208e-01]\n",
      " [-1.36011096e-01  1.34268896e+00  1.20667786e+00]\n",
      " [-6.26871256e-01 -1.04016095e+00 -1.66703220e+00]\n",
      " [-1.68831191e-01 -9.06741672e-01 -1.07557286e+00]\n",
      " [ 8.42741606e-01 -1.49350118e+00 -6.50759570e-01]\n",
      " [ 1.64807174e+00 -2.04133500e+00 -3.93263258e-01]\n",
      " [-7.42805507e-02  1.64589296e-01  9.03087454e-02]\n",
      " [ 5.36053277e-01  1.25002895e-01  6.61056171e-01]\n",
      " [ 7.16258931e-01 -8.34911530e-01 -1.18652599e-01]\n",
      " [ 1.60664621e+00  5.46664501e-01  2.15331071e+00]]\n",
      "[3.15729711e+00 9.57952665e-01 1.19835755e-31]\n",
      "[[-2.24295685e-01 -1.13846150e+00]\n",
      " [-1.23868180e+00  9.17259795e-01]\n",
      " [-1.95081944e+00 -2.42074036e-01]\n",
      " [-1.50609391e+00  3.39850949e-01]\n",
      " [ 1.76700244e+00 -1.49194761e+00]\n",
      " [-1.94793185e+00 -2.89733476e-01]\n",
      " [-8.11201936e-01 -5.45897555e-02]\n",
      " [ 4.68839193e+00 -7.57644894e-02]\n",
      " [-1.03401449e+00  5.05316346e-01]\n",
      " [-1.82135289e+00 -7.46560472e-02]\n",
      " [ 4.99417679e-01 -7.20948973e-01]\n",
      " [-9.60903357e-01 -1.30498486e+00]\n",
      " [ 1.91027323e+00  6.28520313e-01]\n",
      " [ 1.20500554e+00  1.59142281e+00]\n",
      " [-1.73247386e+00  5.91052613e-01]\n",
      " [-2.85937273e-01 -2.19403292e+00]\n",
      " [-1.24720906e+00  6.48111596e-01]\n",
      " [-9.08869931e-01  5.72066296e-02]\n",
      " [-4.40368606e-01  4.31763116e-01]\n",
      " [ 6.61126187e-01 -3.90819563e-01]\n",
      " [ 1.10847116e+00 -8.65932655e-01]\n",
      " [ 6.79093627e-01 -1.23632141e+00]\n",
      " [-1.26877875e+00 -4.10897138e-01]\n",
      " [-8.77275877e-01  1.05117425e+00]\n",
      " [-1.06725474e+00 -4.48055773e-01]\n",
      " [ 3.62297644e+00  1.02471267e+00]\n",
      " [ 1.16705569e+00  1.06695399e+00]\n",
      " [ 2.01803965e+00 -9.82549972e-02]\n",
      " [ 1.00873292e+00 -1.25490601e+00]\n",
      " [-2.28392948e-01 -8.07232247e-01]\n",
      " [ 4.34124757e-01 -1.23317485e+00]\n",
      " [-1.64363577e-01 -1.11388976e+00]\n",
      " [ 5.41455262e-01  1.12673107e+00]\n",
      " [ 3.45985331e+00  7.41098649e-01]\n",
      " [ 2.28242190e+00  2.33696838e-01]\n",
      " [ 1.76559348e+00  7.08939522e-01]\n",
      " [-2.10350411e+00 -9.63256969e-01]\n",
      " [-1.03920729e+00 -3.92146587e-04]\n",
      " [ 6.28393420e-01  2.15606427e-01]\n",
      " [ 1.73118455e+00 -5.31413831e-01]\n",
      " [ 2.02100862e-01  3.56767838e-01]\n",
      " [ 1.49963824e+00 -2.04162895e+00]\n",
      " [ 2.14286503e+00 -5.67480542e-01]\n",
      " [-2.36281774e+00 -2.20711660e-01]\n",
      " [ 2.60316061e+00  5.69733838e-01]\n",
      " [-2.05197879e+00  3.14657411e-01]\n",
      " [-2.17961013e-01 -1.97802498e+00]\n",
      " [ 3.23209996e-01  5.79434301e-01]\n",
      " [ 2.89510379e-01 -2.00526416e+00]\n",
      " [ 2.55124445e-02  6.52054104e-01]\n",
      " [-3.34103353e-01  4.65963083e-01]\n",
      " [-1.36135256e+00 -5.45415498e-01]\n",
      " [ 2.86640101e+00  5.43013547e-01]\n",
      " [-1.21878716e+00  6.40878598e-01]\n",
      " [ 1.70038841e+00 -1.09549689e+00]\n",
      " [ 3.07265050e+00  5.64052711e-01]\n",
      " [-1.72493510e+00  2.28744137e+00]\n",
      " [-2.67116683e+00 -5.38986913e-01]\n",
      " [ 4.64698900e+00 -8.80636265e-01]\n",
      " [ 4.92639872e-02  1.13621654e+00]\n",
      " [-1.72429675e+00 -1.00522536e+00]\n",
      " [-1.00692148e-01  4.73153792e-01]\n",
      " [-2.11048592e+00  9.72415064e-01]\n",
      " [-2.34238993e+00  6.49387239e-01]\n",
      " [-6.58140833e-01  5.86031780e-01]\n",
      " [-3.16468158e+00  1.17121280e+00]\n",
      " [-1.32852798e+00 -1.22284584e+00]\n",
      " [ 1.29486541e+00 -8.95866029e-01]\n",
      " [-2.58226545e+00 -1.36494128e+00]\n",
      " [ 2.83080237e+00  1.31689997e-01]\n",
      " [-1.43477988e+00 -1.25349502e+00]\n",
      " [-3.81233099e-01 -5.91797654e-01]\n",
      " [ 9.17853199e-01 -6.65557097e-03]\n",
      " [-1.57289557e+00  7.89943857e-01]\n",
      " [ 3.19154604e+00  3.37568223e-02]\n",
      " [ 1.36132485e+00  1.38400205e-02]\n",
      " [-2.91867667e+00 -3.04421270e-01]\n",
      " [ 7.92579529e-02 -5.28302935e-01]\n",
      " [ 3.12050949e-01  9.26046813e-01]\n",
      " [-3.74231427e+00 -8.98554800e-01]\n",
      " [-2.72865807e+00  2.54720883e+00]\n",
      " [-1.04862789e+00 -1.36284959e+00]\n",
      " [ 2.64598670e+00  1.36479443e+00]\n",
      " [-9.81453869e-01  2.86850983e-01]\n",
      " [ 5.57151859e-01  1.10662435e+00]\n",
      " [ 1.64281525e-01  1.58683477e-01]\n",
      " [-2.84694025e+00 -1.01034112e+00]\n",
      " [-7.46973192e-01  1.42737787e+00]\n",
      " [ 3.41606044e-01 -1.85544647e-01]\n",
      " [ 4.10287609e-01 -1.80364073e-01]\n",
      " [-3.81544939e-01 -2.34632267e-01]\n",
      " [ 1.65975407e+00 -1.21886919e+00]\n",
      " [-1.76811239e+00  3.38968570e-01]\n",
      " [-1.03065402e+00  5.22218979e-01]\n",
      " [-4.39902358e-01  1.61722813e+00]\n",
      " [-6.46290882e-02  2.55218954e+00]\n",
      " [ 3.50693523e-01 -2.57427583e-01]\n",
      " [ 1.07738914e+00  1.56988354e-01]\n",
      " [ 1.75364712e-01  1.02197823e+00]\n",
      " [ 2.93039046e+00  4.99300277e-01]]\n"
     ]
    }
   ],
   "source": [
    "# Create a signal with only 2 useful dimensions\n",
    "x1 = np.random.normal(size=100)\n",
    "x2 = np.random.normal(size=100)\n",
    "x3 = x1 + x2\n",
    "X = np.c_[x1, x2, x3]\n",
    "print(X)\n",
    "\n",
    "\n",
    "\n",
    "from sklearn import decomposition\n",
    "pca = decomposition.PCA()\n",
    "pca.fit(X)\n",
    "\n",
    "print(pca.explained_variance_)  \n",
    "\n",
    "\n",
    "# As we can see, only the 2 first components are useful\n",
    "pca.n_components = 2\n",
    "X_reduced = pca.fit_transform(X)\n",
    "X_reduced.shape\n",
    "print(X_reduced)"
   ]
  },
  {
   "cell_type": "code",
   "execution_count": 21,
   "metadata": {},
   "outputs": [
    {
     "data": {
      "text/plain": [
       "True"
      ]
     },
     "execution_count": 21,
     "metadata": {},
     "output_type": "execute_result"
    }
   ],
   "source": [
    "# Generate sample data\n",
    "import numpy as np\n",
    "from scipy import signal\n",
    "time = np.linspace(0, 10, 2000)\n",
    "s1 = np.sin(2 * time)  # Signal 1 : sinusoidal signal\n",
    "s2 = np.sign(np.sin(3 * time))  # Signal 2 : square signal\n",
    "s3 = signal.sawtooth(2 * np.pi * time)  # Signal 3: saw tooth signal\n",
    "S = np.c_[s1, s2, s3]\n",
    "S += 0.2 * np.random.normal(size=S.shape)  # Add noise\n",
    "S /= S.std(axis=0)  # Standardize data\n",
    "# Mix data\n",
    "A = np.array([[1, 1, 1], [0.5, 2, 1], [1.5, 1, 2]])  # Mixing matrix\n",
    "X = np.dot(S, A.T)  # Generate observations\n",
    "\n",
    "# Compute ICA\n",
    "ica = decomposition.FastICA()\n",
    "S_ = ica.fit_transform(X)  # Get the estimated sources\n",
    "A_ = ica.mixing_.T\n",
    "np.allclose(X,  np.dot(S_, A_) + ica.mean_)"
   ]
  },
  {
   "cell_type": "code",
   "execution_count": 22,
   "metadata": {},
   "outputs": [
    {
     "name": "stdout",
     "output_type": "stream",
     "text": [
      "Best parameter (CV score=0.920):\n",
      "{'logistic__C': 0.046415888336127774, 'pca__n_components': 45}\n"
     ]
    },
    {
     "data": {
      "text/plain": [
       "<matplotlib.legend.Legend at 0x189758d4438>"
      ]
     },
     "execution_count": 22,
     "metadata": {},
     "output_type": "execute_result"
    },
    {
     "data": {
      "image/png": "[encoded data removed]",
      "text/plain": [
       "<Figure size 432x432 with 2 Axes>"
      ]
     },
     "metadata": {
      "needs_background": "light"
     },
     "output_type": "display_data"
    }
   ],
   "source": [
    "import numpy as np\n",
    "import matplotlib.pyplot as plt\n",
    "import pandas as pd\n",
    "\n",
    "from sklearn import datasets\n",
    "from sklearn.decomposition import PCA\n",
    "from sklearn.linear_model import LogisticRegression\n",
    "from sklearn.pipeline import Pipeline\n",
    "from sklearn.model_selection import GridSearchCV\n",
    "\n",
    "\n",
    "# Define a pipeline to search for the best combination of PCA truncation\n",
    "# and classifier regularization.\n",
    "pca = PCA()\n",
    "# set the tolerance to a large value to make the example faster\n",
    "logistic = LogisticRegression(max_iter=10000, tol=0.1)\n",
    "pipe = Pipeline(steps=[('pca', pca), ('logistic', logistic)])\n",
    "\n",
    "X_digits, y_digits = datasets.load_digits(return_X_y=True)\n",
    "\n",
    "# Parameters of pipelines can be set using ‘__’ separated parameter names:\n",
    "param_grid = {\n",
    "    'pca__n_components': [5, 15, 30, 45, 64],\n",
    "    'logistic__C': np.logspace(-4, 4, 4),\n",
    "}\n",
    "search = GridSearchCV(pipe, param_grid, n_jobs=-1)\n",
    "search.fit(X_digits, y_digits)\n",
    "print(\"Best parameter (CV score=%0.3f):\" % search.best_score_)\n",
    "print(search.best_params_)\n",
    "\n",
    "# Plot the PCA spectrum\n",
    "pca.fit(X_digits)\n",
    "\n",
    "fig, (ax0, ax1) = plt.subplots(nrows=2, sharex=True, figsize=(6, 6))\n",
    "ax0.plot(np.arange(1, pca.n_components_ + 1),\n",
    "         pca.explained_variance_ratio_, '+', linewidth=2)\n",
    "ax0.set_ylabel('PCA explained variance ratio')\n",
    "\n",
    "ax0.axvline(search.best_estimator_.named_steps['pca'].n_components,\n",
    "            linestyle=':', label='n_components chosen')\n",
    "ax0.legend(prop=dict(size=12))"
   ]
  },
  {
   "cell_type": "code",
   "execution_count": null,
   "metadata": {},
   "outputs": [
    {
     "name": "stderr",
     "output_type": "stream",
     "text": [
      "2021-01-04 00:03:29,216 Downloading LFW metadata: https://ndownloader.figshare.com/files/5976012\n"
     ]
    },
    {
     "name": "stdout",
     "output_type": "stream",
     "text": [
      "\n",
      "===================================================\n",
      "Faces recognition example using eigenfaces and SVMs\n",
      "===================================================\n",
      "\n",
      "The dataset used in this example is a preprocessed excerpt of the\n",
      "\"Labeled Faces in the Wild\", aka LFW_:\n",
      "\n",
      "  http://vis-www.cs.umass.edu/lfw/lfw-funneled.tgz (233MB)\n",
      "\n",
      ".. _LFW: http://vis-www.cs.umass.edu/lfw/\n",
      "\n",
      "Expected results for the top 5 most represented people in the dataset:\n",
      "\n",
      "================== ============ ======= ========== =======\n",
      "                   precision    recall  f1-score   support\n",
      "================== ============ ======= ========== =======\n",
      "     Ariel Sharon       0.67      0.92      0.77        13\n",
      "     Colin Powell       0.75      0.78      0.76        60\n",
      "  Donald Rumsfeld       0.78      0.67      0.72        27\n",
      "    George W Bush       0.86      0.86      0.86       146\n",
      "Gerhard Schroeder       0.76      0.76      0.76        25\n",
      "      Hugo Chavez       0.67      0.67      0.67        15\n",
      "       Tony Blair       0.81      0.69      0.75        36\n",
      "\n",
      "      avg / total       0.80      0.80      0.80       322\n",
      "================== ============ ======= ========== =======\n",
      "\n",
      "\n"
     ]
    },
    {
     "name": "stderr",
     "output_type": "stream",
     "text": [
      "2021-01-04 00:03:32,320 Downloading LFW metadata: https://ndownloader.figshare.com/files/5976009\n",
      "2021-01-04 00:03:35,184 Downloading LFW metadata: https://ndownloader.figshare.com/files/5976006\n",
      "2021-01-04 00:03:38,518 Downloading LFW data (~200MB): https://ndownloader.figshare.com/files/5976015\n"
     ]
    }
   ],
   "source": [
    "\"\"\"\n",
    "===================================================\n",
    "Faces recognition example using eigenfaces and SVMs\n",
    "===================================================\n",
    "\n",
    "The dataset used in this example is a preprocessed excerpt of the\n",
    "\"Labeled Faces in the Wild\", aka LFW_:\n",
    "\n",
    "  http://vis-www.cs.umass.edu/lfw/lfw-funneled.tgz (233MB)\n",
    "\n",
    ".. _LFW: http://vis-www.cs.umass.edu/lfw/\n",
    "\n",
    "Expected results for the top 5 most represented people in the dataset:\n",
    "\n",
    "================== ============ ======= ========== =======\n",
    "                   precision    recall  f1-score   support\n",
    "================== ============ ======= ========== =======\n",
    "     Ariel Sharon       0.67      0.92      0.77        13\n",
    "     Colin Powell       0.75      0.78      0.76        60\n",
    "  Donald Rumsfeld       0.78      0.67      0.72        27\n",
    "    George W Bush       0.86      0.86      0.86       146\n",
    "Gerhard Schroeder       0.76      0.76      0.76        25\n",
    "      Hugo Chavez       0.67      0.67      0.67        15\n",
    "       Tony Blair       0.81      0.69      0.75        36\n",
    "\n",
    "      avg / total       0.80      0.80      0.80       322\n",
    "================== ============ ======= ========== =======\n",
    "\n",
    "\"\"\"\n",
    "from time import time\n",
    "import logging\n",
    "import matplotlib.pyplot as plt\n",
    "\n",
    "from sklearn.model_selection import train_test_split\n",
    "from sklearn.model_selection import GridSearchCV\n",
    "from sklearn.datasets import fetch_lfw_people\n",
    "from sklearn.metrics import classification_report\n",
    "from sklearn.metrics import confusion_matrix\n",
    "from sklearn.decomposition import PCA\n",
    "from sklearn.svm import SVC\n",
    "\n",
    "\n",
    "print(__doc__)\n",
    "\n",
    "# Display progress logs on stdout\n",
    "logging.basicConfig(level=logging.INFO, format='%(asctime)s %(message)s')\n",
    "\n",
    "\n",
    "# #############################################################################\n",
    "# Download the data, if not already on disk and load it as numpy arrays\n",
    "\n",
    "lfw_people = fetch_lfw_people(min_faces_per_person=70, resize=0.4)\n",
    "\n",
    "# introspect the images arrays to find the shapes (for plotting)\n",
    "n_samples, h, w = lfw_people.images.shape\n",
    "\n",
    "# for machine learning we use the 2 data directly (as relative pixel\n",
    "# positions info is ignored by this model)\n",
    "X = lfw_people.data\n",
    "n_features = X.shape[1]\n",
    "\n",
    "# the label to predict is the id of the person\n",
    "y = lfw_people.target\n",
    "target_names = lfw_people.target_names\n",
    "n_classes = target_names.shape[0]\n",
    "\n",
    "print(\"Total dataset size:\")\n",
    "print(\"n_samples: %d\" % n_samples)\n",
    "print(\"n_features: %d\" % n_features)\n",
    "print(\"n_classes: %d\" % n_classes)\n",
    "\n",
    "\n",
    "# #############################################################################\n",
    "# Split into a training set and a test set using a stratified k fold\n",
    "\n",
    "# split into a training and testing set\n",
    "X_train, X_test, y_train, y_test = train_test_split(\n",
    "    X, y, test_size=0.25, random_state=42)\n",
    "\n",
    "\n",
    "# #############################################################################\n",
    "# Compute a PCA (eigenfaces) on the face dataset (treated as unlabeled\n",
    "# dataset): unsupervised feature extraction / dimensionality reduction\n",
    "n_components = 150\n",
    "\n",
    "print(\"Extracting the top %d eigenfaces from %d faces\"\n",
    "      % (n_components, X_train.shape[0]))\n",
    "t0 = time()\n",
    "pca = PCA(n_components=n_components, svd_solver='randomized',\n",
    "          whiten=True).fit(X_train)\n",
    "print(\"done in %0.3fs\" % (time() - t0))\n",
    "\n",
    "eigenfaces = pca.components_.reshape((n_components, h, w))\n",
    "\n",
    "print(\"Projecting the input data on the eigenfaces orthonormal basis\")\n",
    "t0 = time()\n",
    "X_train_pca = pca.transform(X_train)\n",
    "X_test_pca = pca.transform(X_test)\n",
    "print(\"done in %0.3fs\" % (time() - t0))\n",
    "\n",
    "\n",
    "# #############################################################################\n",
    "# Train a SVM classification model\n",
    "\n",
    "print(\"Fitting the classifier to the training set\")\n",
    "t0 = time()\n",
    "param_grid = {'C': [1e3, 5e3, 1e4, 5e4, 1e5],\n",
    "              'gamma': [0.0001, 0.0005, 0.001, 0.005, 0.01, 0.1], }\n",
    "clf = GridSearchCV(\n",
    "    SVC(kernel='rbf', class_weight='balanced'), param_grid\n",
    ")\n",
    "clf = clf.fit(X_train_pca, y_train)\n",
    "print(\"done in %0.3fs\" % (time() - t0))\n",
    "print(\"Best estimator found by grid search:\")\n",
    "print(clf.best_estimator_)\n",
    "\n",
    "\n",
    "# #############################################################################\n",
    "# Quantitative evaluation of the model quality on the test set\n",
    "\n",
    "print(\"Predicting people's names on the test set\")\n",
    "t0 = time()\n",
    "y_pred = clf.predict(X_test_pca)\n",
    "print(\"done in %0.3fs\" % (time() - t0))\n",
    "\n",
    "print(classification_report(y_test, y_pred, target_names=target_names))\n",
    "print(confusion_matrix(y_test, y_pred, labels=range(n_classes)))\n",
    "\n",
    "\n",
    "# #############################################################################\n",
    "# Qualitative evaluation of the predictions using matplotlib\n",
    "\n",
    "def plot_gallery(images, titles, h, w, n_row=3, n_col=4):\n",
    "    \"\"\"Helper function to plot a gallery of portraits\"\"\"\n",
    "    plt.figure(figsize=(1.8 * n_col, 2.4 * n_row))\n",
    "    plt.subplots_adjust(bottom=0, left=.01, right=.99, top=.90, hspace=.35)\n",
    "    for i in range(n_row * n_col):\n",
    "        plt.subplot(n_row, n_col, i + 1)\n",
    "        plt.imshow(images[i].reshape((h, w)), cmap=plt.cm.gray)\n",
    "        plt.title(titles[i], size=12)\n",
    "        plt.xticks(())\n",
    "        plt.yticks(())\n",
    "\n",
    "\n",
    "# plot the result of the prediction on a portion of the test set\n",
    "\n",
    "def title(y_pred, y_test, target_names, i):\n",
    "    pred_name = target_names[y_pred[i]].rsplit(' ', 1)[-1]\n",
    "    true_name = target_names[y_test[i]].rsplit(' ', 1)[-1]\n",
    "    return 'predicted: %s\\ntrue:      %s' % (pred_name, true_name)\n",
    "\n",
    "prediction_titles = [title(y_pred, y_test, target_names, i)\n",
    "                     for i in range(y_pred.shape[0])]\n",
    "\n",
    "plot_gallery(X_test, prediction_titles, h, w)\n",
    "\n",
    "# plot the gallery of the most significative eigenfaces\n",
    "\n",
    "eigenface_titles = [\"eigenface %d\" % i for i in range(eigenfaces.shape[0])]\n",
    "plot_gallery(eigenfaces, eigenface_titles, h, w)\n",
    "\n",
    "plt.show()"
   ]
  },
  {
   "cell_type": "code",
   "execution_count": null,
   "metadata": {},
   "outputs": [],
   "source": []
  }
 ],
 "metadata": {
  "kernelspec": {
   "display_name": "Python 3",
   "language": "python",
   "name": "python3"
  },
  "language_info": {
   "codemirror_mode": {
    "name": "ipython",
    "version": 3
   },
   "file_extension": ".py",
   "mimetype": "text/x-python",
   "name": "python",
   "nbconvert_exporter": "python",
   "pygments_lexer": "ipython3",
   "version": "3.7.3"
  }
 },
 "nbformat": 4,
 "nbformat_minor": 2
}
