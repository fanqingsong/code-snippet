{
 "cells": [
  {
   "cell_type": "code",
   "execution_count": null,
   "metadata": {},
   "outputs": [],
   "source": [
    "import numpy as np\n",
    "import matplotlib.pyplot as plt\n",
    "\n",
    "from skimage import data, img_as_float\n",
    "from skimage.metrics import structural_similarity as ssim\n",
    "from skimage.metrics import mean_squared_error\n",
    "\n",
    "\n",
    "img = img_as_float(data.camera())\n",
    "rows, cols = img.shape\n",
    "\n",
    "noise = np.ones_like(img) * 0.2 * (img.max() - img.min())\n",
    "noise[np.random.random(size=noise.shape) > 0.5] *= -1\n",
    "\n",
    "img_noise = img + noise\n",
    "img_const = img + abs(noise)\n",
    "\n",
    "fig, axes = plt.subplots(nrows=1, ncols=3, figsize=(10, 4),\n",
    "                         sharex=True, sharey=True)\n",
    "ax = axes.ravel()\n",
    "\n",
    "mse_none = mean_squared_error(img, img)\n",
    "ssim_none = ssim(img, img, data_range=img.max() - img.min())\n",
    "\n",
    "mse_noise = mean_squared_error(img, img_noise)\n",
    "ssim_noise = ssim(img, img_noise,\n",
    "                  data_range=img_noise.max() - img_noise.min())\n",
    "\n",
    "mse_const = mean_squared_error(img, img_const)\n",
    "ssim_const = ssim(img, img_const,\n",
    "                  data_range=img_const.max() - img_const.min())\n",
    "\n",
    "label = 'MSE: {:.2f}, SSIM: {:.2f}'\n",
    "\n",
    "ax[0].imshow(img, cmap=plt.cm.gray, vmin=0, vmax=1)\n",
    "ax[0].set_xlabel(label.format(mse_none, ssim_none))\n",
    "ax[0].set_title('Original image')\n",
    "\n",
    "ax[1].imshow(img_noise, cmap=plt.cm.gray, vmin=0, vmax=1)\n",
    "ax[1].set_xlabel(label.format(mse_noise, ssim_noise))\n",
    "ax[1].set_title('Image with noise')\n",
    "\n",
    "ax[2].imshow(img_const, cmap=plt.cm.gray, vmin=0, vmax=1)\n",
    "ax[2].set_xlabel(label.format(mse_const, ssim_const))\n",
    "ax[2].set_title('Image plus constant')\n",
    "\n",
    "plt.tight_layout()\n",
    "plt.show()"
   ]
  }
 ],
 "metadata": {
  "kernelspec": {
   "display_name": "Python 3",
   "language": "python",
   "name": "python3"
  },
  "language_info": {
   "codemirror_mode": {
    "name": "ipython",
    "version": 3
   },
   "file_extension": ".py",
   "mimetype": "text/x-python",
   "name": "python",
   "nbconvert_exporter": "python",
   "pygments_lexer": "ipython3",
   "version": "3.7.3"
  }
 },
 "nbformat": 4,
 "nbformat_minor": 2
}
