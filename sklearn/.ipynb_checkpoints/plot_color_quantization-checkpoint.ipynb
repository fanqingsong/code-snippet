{
 "cells": [
  {
   "cell_type": "code",
   "execution_count": 1,
   "metadata": {},
   "outputs": [
    {
     "name": "stdout",
     "output_type": "stream",
     "text": [
      "Automatically created module for IPython interactive environment\n",
      "Fitting model on a small sub-sample of the data\n",
      "done in 0.613s.\n",
      "Predicting color indices on the full image (k-means)\n",
      "done in 0.036s.\n",
      "Predicting color indices on the full image (random)\n",
      "done in 0.346s.\n"
     ]
    },
    {
     "data": {
      "text/plain": [
       "<Figure size 640x480 with 1 Axes>"
      ]
     },
     "metadata": {},
     "output_type": "display_data"
    },
    {
     "data": {
      "text/plain": [
       "<Figure size 640x480 with 1 Axes>"
      ]
     },
     "metadata": {},
     "output_type": "display_data"
    },
    {
     "data": {
      "text/plain": [
       "<Figure size 640x480 with 1 Axes>"
      ]
     },
     "metadata": {},
     "output_type": "display_data"
    }
   ],
   "source": [
    "# Authors: Robert Layton <robertlayton@gmail.com>\n",
    "#          Olivier Grisel <olivier.grisel@ensta.org>\n",
    "#          Mathieu Blondel <mathieu@mblondel.org>\n",
    "#\n",
    "# License: BSD 3 clause\n",
    "\n",
    "print(__doc__)\n",
    "import numpy as np\n",
    "import matplotlib.pyplot as plt\n",
    "from sklearn.cluster import KMeans\n",
    "from sklearn.metrics import pairwise_distances_argmin\n",
    "from sklearn.datasets import load_sample_image\n",
    "from sklearn.utils import shuffle\n",
    "from time import time\n",
    "\n",
    "n_colors = 64\n",
    "\n",
    "# Load the Summer Palace photo\n",
    "china = load_sample_image(\"china.jpg\")\n",
    "\n",
    "\n",
    "# Convert to floats instead of the default 8 bits integer coding. Dividing by\n",
    "# 255 is important so that plt.imshow behaves works well on float data (need to\n",
    "# be in the range [0-1])\n",
    "china = np.array(china, dtype=np.float64) / 255\n",
    "\n",
    "# Load Image and transform to a 2D numpy array.\n",
    "w, h, d = original_shape = tuple(china.shape)\n",
    "assert d == 3\n",
    "image_array = np.reshape(china, (w * h, d))\n",
    "\n",
    "print(\"Fitting model on a small sub-sample of the data\")\n",
    "t0 = time()\n",
    "image_array_sample = shuffle(image_array, random_state=0)[:1000]\n",
    "kmeans = KMeans(n_clusters=n_colors, random_state=0).fit(image_array_sample)\n",
    "print(\"done in %0.3fs.\" % (time() - t0))\n",
    "\n",
    "# Get labels for all points\n",
    "print(\"Predicting color indices on the full image (k-means)\")\n",
    "t0 = time()\n",
    "labels = kmeans.predict(image_array)\n",
    "print(\"done in %0.3fs.\" % (time() - t0))\n",
    "\n",
    "\n",
    "codebook_random = shuffle(image_array, random_state=0)[:n_colors]\n",
    "print(\"Predicting color indices on the full image (random)\")\n",
    "t0 = time()\n",
    "labels_random = pairwise_distances_argmin(codebook_random,\n",
    "                                          image_array,\n",
    "                                          axis=0)\n",
    "print(\"done in %0.3fs.\" % (time() - t0))\n",
    "\n",
    "\n",
    "def recreate_image(codebook, labels, w, h):\n",
    "    \"\"\"Recreate the (compressed) image from the code book & labels\"\"\"\n",
    "    d = codebook.shape[1]\n",
    "    image = np.zeros((w, h, d))\n",
    "    label_idx = 0\n",
    "    for i in range(w):\n",
    "        for j in range(h):\n",
    "            image[i][j] = codebook[labels[label_idx]]\n",
    "            label_idx += 1\n",
    "    return image\n",
    "\n",
    "# Display all results, alongside original image\n",
    "plt.figure(1)\n",
    "plt.clf()\n",
    "plt.axis('off')\n",
    "plt.title('Original image (96,615 colors)')\n",
    "plt.imshow(china)\n",
    "\n",
    "plt.figure(2)\n",
    "plt.clf()\n",
    "plt.axis('off')\n",
    "plt.title('Quantized image (64 colors, K-Means)')\n",
    "plt.imshow(recreate_image(kmeans.cluster_centers_, labels, w, h))\n",
    "\n",
    "plt.figure(3)\n",
    "plt.clf()\n",
    "plt.axis('off')\n",
    "plt.title('Quantized image (64 colors, Random)')\n",
    "plt.imshow(recreate_image(codebook_random, labels_random, w, h))\n",
    "plt.show()"
   ]
  },
  {
   "cell_type": "code",
   "execution_count": 3,
   "metadata": {},
   "outputs": [
    {
     "data": {
      "text/plain": [
       "array([[[174, 201, 231],\n",
       "        [174, 201, 231],\n",
       "        [174, 201, 231],\n",
       "        ...,\n",
       "        [250, 251, 255],\n",
       "        [250, 251, 255],\n",
       "        [250, 251, 255]],\n",
       "\n",
       "       [[172, 199, 229],\n",
       "        [173, 200, 230],\n",
       "        [173, 200, 230],\n",
       "        ...,\n",
       "        [251, 252, 255],\n",
       "        [251, 252, 255],\n",
       "        [251, 252, 255]],\n",
       "\n",
       "       [[174, 201, 231],\n",
       "        [174, 201, 231],\n",
       "        [174, 201, 231],\n",
       "        ...,\n",
       "        [252, 253, 255],\n",
       "        [252, 253, 255],\n",
       "        [252, 253, 255]],\n",
       "\n",
       "       ...,\n",
       "\n",
       "       [[ 88,  80,   7],\n",
       "        [147, 138,  69],\n",
       "        [122, 116,  38],\n",
       "        ...,\n",
       "        [ 39,  42,  33],\n",
       "        [  8,  14,   2],\n",
       "        [  6,  12,   0]],\n",
       "\n",
       "       [[122, 112,  41],\n",
       "        [129, 120,  53],\n",
       "        [118, 112,  36],\n",
       "        ...,\n",
       "        [  9,  12,   3],\n",
       "        [  9,  15,   3],\n",
       "        [ 16,  24,   9]],\n",
       "\n",
       "       [[116, 103,  35],\n",
       "        [104,  93,  31],\n",
       "        [108, 102,  28],\n",
       "        ...,\n",
       "        [ 43,  49,  39],\n",
       "        [ 13,  21,   6],\n",
       "        [ 15,  24,   7]]], dtype=uint8)"
      ]
     },
     "execution_count": 3,
     "metadata": {},
     "output_type": "execute_result"
    }
   ],
   "source": [
    "china = load_sample_image(\"china.jpg\")\n",
    "china"
   ]
  },
  {
   "cell_type": "code",
   "execution_count": 8,
   "metadata": {},
   "outputs": [
    {
     "name": "stdout",
     "output_type": "stream",
     "text": [
      "273280\n",
      "[[174 201 231]\n",
      " [174 201 231]\n",
      " [174 201 231]\n",
      " ...\n",
      " [ 43  49  39]\n",
      " [ 13  21   6]\n",
      " [ 15  24   7]]\n",
      "273280\n"
     ]
    }
   ],
   "source": [
    "w, h, d = original_shape = tuple(china.shape)\n",
    "print(w*h)\n",
    "china = np.reshape(china, (w*h, d))\n",
    "print(china)\n",
    "print(len(china))\n"
   ]
  },
  {
   "cell_type": "code",
   "execution_count": null,
   "metadata": {},
   "outputs": [],
   "source": []
  }
 ],
 "metadata": {
  "kernelspec": {
   "display_name": "Python 3",
   "language": "python",
   "name": "python3"
  },
  "language_info": {
   "codemirror_mode": {
    "name": "ipython",
    "version": 3
   },
   "file_extension": ".py",
   "mimetype": "text/x-python",
   "name": "python",
   "nbconvert_exporter": "python",
   "pygments_lexer": "ipython3",
   "version": "3.7.3"
  }
 },
 "nbformat": 4,
 "nbformat_minor": 2
}
