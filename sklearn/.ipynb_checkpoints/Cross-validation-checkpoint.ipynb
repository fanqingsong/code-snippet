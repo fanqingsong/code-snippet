{
 "cells": [
  {
   "cell_type": "code",
   "execution_count": 3,
   "metadata": {},
   "outputs": [
    {
     "name": "stdout",
     "output_type": "stream",
     "text": [
      "aa\n"
     ]
    }
   ],
   "source": [
    "print(\"aa\")"
   ]
  },
  {
   "cell_type": "raw",
   "metadata": {},
   "source": [
    "# learning curve for ridge logistic"
   ]
  },
  {
   "cell_type": "code",
   "execution_count": 4,
   "metadata": {},
   "outputs": [
    {
     "name": "stderr",
     "output_type": "stream",
     "text": [
      "C:\\Users\\efnxqng\\AppData\\Roaming\\Python\\Python37\\site-packages\\sklearn\\utils\\validation.py:70: FutureWarning: Pass param_name=alpha, param_range=[1.e-07 1.e-02 1.e+03] as keyword args. From version 0.25 passing these as positional arguments will result in an error\n",
      "  FutureWarning)\n"
     ]
    },
    {
     "data": {
      "text/plain": [
       "array([[0.9055033 , 0.84185935, 0.94569793, 0.96231017, 0.93366144],\n",
       "       [0.90550088, 0.84184574, 0.94568969, 0.96233172, 0.93366806],\n",
       "       [0.46706558, 0.25698974, 0.50496293, 0.49826404, 0.52500014]])"
      ]
     },
     "execution_count": 4,
     "metadata": {},
     "output_type": "execute_result"
    }
   ],
   "source": [
    "import numpy as np\n",
    "from sklearn.model_selection import validation_curve\n",
    "from sklearn.datasets import load_iris\n",
    "from sklearn.linear_model import Ridge\n",
    "\n",
    "np.random.seed(0)\n",
    "X, y = load_iris(return_X_y=True)\n",
    "indices = np.arange(y.shape[0])\n",
    "np.random.shuffle(indices)\n",
    "X, y = X[indices], y[indices]\n",
    "\n",
    "train_scores, valid_scores = validation_curve(Ridge(), X, y, \"alpha\",\n",
    "                                              np.logspace(-7, 3, 3),\n",
    "                                              cv=5)\n",
    "train_scores\n",
    "\n",
    "\n",
    "\n",
    "valid_scores"
   ]
  },
  {
   "cell_type": "code",
   "execution_count": null,
   "metadata": {},
   "outputs": [],
   "source": []
  }
 ],
 "metadata": {
  "kernelspec": {
   "display_name": "Python 3",
   "language": "python",
   "name": "python3"
  },
  "language_info": {
   "codemirror_mode": {
    "name": "ipython",
    "version": 3
   },
   "file_extension": ".py",
   "mimetype": "text/x-python",
   "name": "python",
   "nbconvert_exporter": "python",
   "pygments_lexer": "ipython3",
   "version": "3.7.3"
  }
 },
 "nbformat": 4,
 "nbformat_minor": 2
}
