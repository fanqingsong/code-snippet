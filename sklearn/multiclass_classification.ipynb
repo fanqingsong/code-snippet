{
 "cells": [
  {
   "cell_type": "code",
   "execution_count": 3,
   "metadata": {},
   "outputs": [
    {
     "name": "stdout",
     "output_type": "stream",
     "text": [
      "['apple' 'pear' 'apple' 'orange']\n",
      "multiclass\n"
     ]
    }
   ],
   "source": [
    "import numpy as np\n",
    "from sklearn.utils.multiclass import type_of_target\n",
    "\n",
    "y = np.array(['apple', 'pear', 'apple', 'orange'])\n",
    "print(y)\n",
    "\n",
    "print(type_of_target(y))\n"
   ]
  },
  {
   "cell_type": "code",
   "execution_count": 2,
   "metadata": {},
   "outputs": [
    {
     "name": "stdout",
     "output_type": "stream",
     "text": [
      "[[1 0 0]\n",
      " [0 0 1]\n",
      " [1 0 0]\n",
      " [0 1 0]]\n",
      "  (0, 0)\t1\n",
      "  (1, 2)\t1\n",
      "  (2, 0)\t1\n",
      "  (3, 1)\t1\n"
     ]
    }
   ],
   "source": [
    "import numpy as np\n",
    "from sklearn.preprocessing import LabelBinarizer\n",
    "y = np.array(['apple', 'pear', 'apple', 'orange'])\n",
    "y_dense = LabelBinarizer().fit_transform(y)\n",
    "print(y_dense)\n",
    "\n",
    "\n",
    "from scipy import sparse\n",
    "y_sparse = sparse.csr_matrix(y_dense)\n",
    "print(y_sparse)"
   ]
  },
  {
   "cell_type": "code",
   "execution_count": 1,
   "metadata": {},
   "outputs": [
    {
     "name": "stderr",
     "output_type": "stream",
     "text": [
      "C:\\Users\\efnxqng\\AppData\\Roaming\\Python\\Python37\\site-packages\\sklearn\\svm\\_base.py:977: ConvergenceWarning: Liblinear failed to converge, increase the number of iterations.\n",
      "  \"the number of iterations.\", ConvergenceWarning)\n",
      "C:\\Users\\efnxqng\\AppData\\Roaming\\Python\\Python37\\site-packages\\sklearn\\svm\\_base.py:977: ConvergenceWarning: Liblinear failed to converge, increase the number of iterations.\n",
      "  \"the number of iterations.\", ConvergenceWarning)\n"
     ]
    },
    {
     "data": {
      "text/plain": [
       "array([0, 0, 0, 0, 0, 0, 0, 0, 0, 0, 0, 0, 0, 0, 0, 0, 0, 0, 0, 0, 0, 0,\n",
       "       0, 0, 0, 0, 0, 0, 0, 0, 0, 0, 0, 0, 0, 0, 0, 0, 0, 0, 0, 0, 0, 0,\n",
       "       0, 0, 0, 0, 0, 0, 1, 1, 1, 1, 1, 1, 1, 1, 1, 1, 1, 1, 1, 1, 1, 1,\n",
       "       1, 1, 1, 1, 2, 1, 1, 1, 1, 1, 1, 1, 1, 1, 1, 1, 1, 2, 2, 1, 1, 1,\n",
       "       1, 1, 1, 1, 1, 1, 1, 1, 1, 1, 1, 1, 2, 2, 2, 2, 2, 2, 2, 2, 2, 2,\n",
       "       2, 2, 2, 2, 2, 2, 2, 2, 2, 2, 2, 2, 2, 2, 2, 2, 2, 2, 2, 1, 2, 2,\n",
       "       2, 1, 2, 2, 2, 2, 2, 2, 2, 2, 2, 2, 2, 2, 2, 2, 2, 2])"
      ]
     },
     "execution_count": 1,
     "metadata": {},
     "output_type": "execute_result"
    }
   ],
   "source": [
    "from sklearn import datasets\n",
    "from sklearn.multiclass import OneVsRestClassifier\n",
    "from sklearn.svm import LinearSVC\n",
    "X, y = datasets.load_iris(return_X_y=True)\n",
    "OneVsRestClassifier(LinearSVC(random_state=0)).fit(X, y).predict(X)"
   ]
  },
  {
   "cell_type": "code",
   "execution_count": 2,
   "metadata": {},
   "outputs": [
    {
     "name": "stdout",
     "output_type": "stream",
     "text": [
      "[1 0 1 2 0 2 1 2 0 1 1 0 2 1 0 1 2 0 1 0 0 1 0 2 0 0 2 0 1 1 2 1 0 2 0 0 0\n",
      " 1 1 2 2 1 0 1 0 2 0 0 0 2 0 1 2 0 2 2 1 2 1 0 2 2 2 1 0 1 1 1 0 2 0 2 2 1\n",
      " 0 0 0 0 0 1 2 0 2 0 2 2 2 1 0 1 2 1 1 1 0 2 0 2 1 1 0 1 1 0 0 0 2 2 2 2 1\n",
      " 0 0 1 2 0 0 0 0 2 2 2 1 0 1 2 2 0 1 0 2 1 0 0 2 0 0 0 0 1 1 1 0 0 1 1 2 0\n",
      " 0 1 1 1 2 1 0 0 2 2 1 0 2 1 2 2 1 0 2 0 2 1 0 0 0 0 0 1 2 0 2 1 0 1 0 0 1\n",
      " 0 0 0 1 0 1 2 1 0 0 1 1 0 2 1 1 0 1 1 0 0 0 1 2 2 0 2 0 1 0 2 2 0 0 2 2 1\n",
      " 2 2 1 0 1 1 2 1 1 1 1 2 1 1 1 1 2 0 2 2 2 2 0 0 0 1 2 2 2 0 2 2 2 2 1 2 0\n",
      " 1 1 0 1 2 1 2 0 2 0 0 0 2 1 1 0 0 1 1 2 0 1 1 1 1 2 0 0 0 1 2 0 0 1 0 0 2\n",
      " 0 0 2 1 2 0 2 2 0 2 0 2 1 1 2 2 1 2 0 1 2 2 2 0 0 0 1 2 1 0 2 1 0 1 2 0 0\n",
      " 1 1 2 0 1 0 0 1 2 1 1 2 2 0 2 1 1 0 1 0 0 0 0 0 0 1 2 2 0 0 0 1 0 0 1 2 1\n",
      " 0 2 1 0 1 0 1 1 1 0 1 0 2 0 1 1 0 1 1 1 1 0 0 0 1 2 2 2 0 0 0 1 1 1 1 0 2\n",
      " 2 0 1 2 1 0 2 0 0 1 1 0 2 2 0 2 2 0 1 0 0 0 0 1 0 0 2 1 0 0 2 1 0 0 2 1 1\n",
      " 2 0 0 2 0 1 0 0 0 2 0 0 0 1 0 1 0 1 0 0 0 1 0 0 1 2 1 2 0 0 2 1 2 0 0 1 2\n",
      " 2 1 2 1 1 1 0 2 2 1 1 2 2 1 0 2 0 1 1 1 0 1 1 0 0 0 1 0 2 2 1 2 2 1 2 2 2\n",
      " 2 2 0 1 0 0 1 1 0 1 0 2 1 0 0 0 0 1 2 1 1 0 0 1 0 0 1 2 1 2 0 1 1 1 2 0 1\n",
      " 1 0 0 2 1 0 2 0 1 1 2 0 0 2 1 1 2 0 1 2 0 2 1 2 2 2 2 2 0 2 0 0 2 0 2 2 0\n",
      " 2 0 0 2 0 0 2 0 1 0 1 2 0 0 1 0 0 2 2 2 0 1 1 0 0 0 2 2 0 0 1 2 0 2 0 1 1\n",
      " 1 2 2 0 2 1 0 0 2 2 0 1 1 2 0 0 0 1 1 0 1 0 0 2 0 2 0 0 2 1 2 2 2 2 1 1 1\n",
      " 2 0 1 0 0 2 0 1 0 0 0 0 2 0 0 1 1 0 0 1 0 0 2 1 1 2 0 0 2 2 0 0 1 1 2 1 0\n",
      " 2 2 2 0 0 2 0 0 2 1 0 2 2 0 0 1 0 1 0 1 1 2 1 0 0 1 0 1 1 0 1 1 1 2 1 2 1\n",
      " 0 1 1 2 0 1 0 0 0 0 1 1 2 1 0 2 0 1 2 0 0 0 1 1 0 0 0 0 0 0 0 0 0 0 2 1 0\n",
      " 1 2 2 0 1 2 0 2 1 1 1 1 1 0 0 0 0 0 0 1 2 2 1 0 0 1 2 0 2 1 0 0 0 1 2 0 1\n",
      " 1 0 2 1 2 0 0 2 2 1 2 1 0 2 2 0 1 2 1 2 0 2 0 2 2 1 2 0 0 1 2 2 1 1 2 0 1\n",
      " 2 0 0 2 0 2 2 0 0 2 2 0 0 0 0 1 0 0 0 0 0 2 2 2 2 2 2 1 2 0 0 0 2 1 1 0 2\n",
      " 1 1 0 1 2 2 1 0 2 0 0 0 2 1 2 0 1 1 1 1 1 1 1 1 1 0 0 1 2 1 2 0 1 2 2 1 0\n",
      " 0 1 0 1 0 0 2 1 1 2 1 0 1 1 0 2 2 0 0 2 1 1 2 1 2 2 2 2 2 0 0 0 1 1 0 0 2\n",
      " 1 0 0 1 1 1 0 1 2 0 2 1 0 2 1 1 2 2 1 2 1 0 0 1 0 2 1 0 1 1 2 0 1 2 1 1 2\n",
      " 1]\n"
     ]
    }
   ],
   "source": [
    "# logistic regression for multi-class classification using built-in one-vs-rest\n",
    "from sklearn.datasets import make_classification\n",
    "from sklearn.linear_model import LogisticRegression\n",
    "# define dataset\n",
    "X, y = make_classification(n_samples=1000, n_features=10, n_informative=5, n_redundant=5, n_classes=3, random_state=1)\n",
    "# define model\n",
    "model = LogisticRegression(multi_class='ovr')\n",
    "# fit model\n",
    "model.fit(X, y)\n",
    "# make predictions\n",
    "yhat = model.predict(X)\n",
    "print(yhat)"
   ]
  },
  {
   "cell_type": "code",
   "execution_count": 4,
   "metadata": {},
   "outputs": [
    {
     "name": "stdout",
     "output_type": "stream",
     "text": [
      "[1 0 1 2 0 2 1 2 0 1 1 0 2 1 0 1 2 0 1 0 0 1 0 2 0 0 2 0 1 1 2 1 0 2 0 0 0\n",
      " 1 1 2 2 1 0 1 0 2 0 0 0 2 0 1 2 0 2 2 1 2 1 0 2 2 2 1 0 1 1 1 0 2 0 2 2 1\n",
      " 0 0 0 0 0 1 2 0 2 0 2 2 2 1 0 1 2 1 1 1 0 2 0 2 1 1 0 1 1 0 0 0 2 2 2 2 1\n",
      " 0 0 1 2 0 0 0 0 2 2 2 1 0 1 2 2 0 1 0 2 1 0 0 2 0 0 0 0 1 1 1 0 0 1 1 2 0\n",
      " 0 1 1 1 2 1 0 0 2 2 1 0 2 1 2 2 1 0 2 0 2 1 0 0 0 0 0 1 2 0 2 1 0 1 0 0 1\n",
      " 0 0 0 1 0 1 2 1 0 0 1 1 0 2 1 1 0 1 1 0 0 0 1 2 2 0 2 0 1 0 2 2 0 0 2 2 1\n",
      " 2 2 1 0 1 1 2 1 1 1 1 2 1 1 1 1 2 0 2 2 2 2 0 0 0 1 2 2 2 0 2 2 2 2 1 2 0\n",
      " 1 1 0 1 2 1 2 0 2 0 0 0 2 1 1 0 0 1 1 2 0 1 1 1 1 2 0 0 0 1 2 0 0 1 0 0 2\n",
      " 0 0 2 1 2 0 2 2 0 2 0 2 1 1 2 2 1 2 0 1 2 2 2 0 0 0 1 2 1 0 2 1 0 1 2 0 0\n",
      " 1 1 2 0 1 0 0 1 2 1 1 2 2 0 2 1 1 0 1 0 0 0 0 0 0 1 2 2 0 0 0 1 0 0 1 2 1\n",
      " 0 2 1 0 1 0 1 1 1 0 1 0 2 0 1 1 0 1 1 1 1 0 0 0 1 2 2 2 0 0 0 1 1 1 1 0 2\n",
      " 2 0 1 2 1 0 2 0 0 1 1 0 2 2 0 2 2 0 1 0 0 0 0 1 0 0 2 1 0 0 2 1 0 0 2 1 1\n",
      " 2 0 0 2 0 1 0 0 0 2 0 0 0 1 0 1 0 1 0 0 0 1 0 0 1 2 1 2 0 0 2 1 2 0 0 1 2\n",
      " 2 1 2 1 1 1 0 2 2 1 1 2 2 1 0 2 0 1 1 1 0 1 1 0 0 0 1 0 2 2 1 2 2 1 2 2 2\n",
      " 2 2 0 1 0 0 1 1 0 1 0 2 1 0 0 0 0 1 2 1 1 0 0 1 0 0 1 2 1 2 0 1 1 1 2 0 1\n",
      " 1 0 0 2 1 0 2 0 1 1 2 0 0 2 1 1 2 0 1 2 0 2 1 2 2 2 2 2 0 2 0 0 2 0 2 2 0\n",
      " 2 0 0 2 0 0 2 0 1 0 1 2 0 0 1 0 0 2 2 2 0 1 1 0 0 0 2 2 0 0 1 2 0 2 0 1 1\n",
      " 1 2 2 0 2 1 0 0 2 2 0 1 1 2 0 0 0 1 1 0 1 0 0 2 0 2 0 0 2 1 2 2 2 2 1 1 1\n",
      " 2 0 1 0 0 2 0 1 0 0 0 0 2 0 0 1 1 0 0 1 0 0 2 1 1 2 0 0 2 2 0 0 1 1 2 1 0\n",
      " 2 2 2 0 0 2 0 0 2 1 0 2 2 0 0 1 0 1 0 1 1 2 1 0 0 1 0 1 1 0 1 1 1 2 1 2 1\n",
      " 0 1 1 2 0 1 0 0 0 0 1 1 2 1 0 2 0 1 2 0 0 0 1 1 0 0 0 0 0 0 0 0 0 0 2 1 0\n",
      " 1 2 2 0 1 2 0 2 1 1 1 1 1 0 0 0 0 0 0 1 2 2 1 0 0 1 2 0 2 1 0 0 0 1 2 0 1\n",
      " 1 0 2 1 2 0 0 2 2 1 2 1 0 2 2 0 1 2 1 2 0 2 0 2 2 1 2 0 0 1 2 2 1 1 2 0 1\n",
      " 2 0 0 2 0 2 2 0 0 2 2 0 0 0 0 1 0 0 0 0 0 2 2 2 2 2 2 1 2 0 0 0 2 1 1 0 2\n",
      " 1 1 0 1 2 2 1 0 2 0 0 0 2 1 2 0 1 1 1 1 1 1 1 1 1 0 0 1 2 1 2 0 1 2 2 1 0\n",
      " 0 1 0 1 0 0 2 1 1 2 1 0 1 1 0 2 2 0 0 2 1 1 2 1 2 2 2 2 2 0 0 0 1 1 0 0 2\n",
      " 1 0 0 1 1 1 0 1 2 0 2 1 0 2 1 1 2 2 1 2 1 0 0 1 0 2 1 0 1 1 2 0 1 2 1 1 2\n",
      " 1]\n"
     ]
    }
   ],
   "source": [
    "# logistic regression for multi-class classification using a one-vs-rest\n",
    "from sklearn.datasets import make_classification\n",
    "from sklearn.linear_model import LogisticRegression\n",
    "from sklearn.multiclass import OneVsRestClassifier\n",
    "# define dataset\n",
    "X, y = make_classification(n_samples=1000, n_features=10, n_informative=5, n_redundant=5, n_classes=3, random_state=1)\n",
    "# define model\n",
    "model = LogisticRegression()\n",
    "# define the ovr strategy\n",
    "ovr = OneVsRestClassifier(model)\n",
    "# fit model\n",
    "ovr.fit(X, y)\n",
    "# make predictions\n",
    "yhat = ovr.predict(X)\n",
    "print(yhat)"
   ]
  },
  {
   "cell_type": "code",
   "execution_count": 6,
   "metadata": {},
   "outputs": [
    {
     "name": "stdout",
     "output_type": "stream",
     "text": [
      "[1 0 1 2 0 2 2 2 0 0 1 0 2 2 0 1 2 0 1 0 0 0 0 2 0 0 2 0 1 1 2 1 0 2 0 0 0\n",
      " 1 2 2 2 1 0 0 1 1 0 0 1 1 0 1 2 1 1 2 2 2 1 0 2 2 2 1 0 1 1 0 0 0 2 1 1 0\n",
      " 0 0 2 0 2 1 2 0 0 0 1 2 2 2 0 1 2 2 1 0 0 1 1 2 0 1 0 0 1 1 1 0 2 2 2 2 1\n",
      " 2 0 2 2 0 0 0 0 1 2 2 1 2 2 2 2 0 1 0 2 1 0 0 2 2 0 0 0 1 1 0 0 2 0 1 2 0\n",
      " 2 1 2 0 0 1 0 0 2 2 1 2 2 1 2 0 1 2 2 0 2 1 0 0 2 0 0 0 2 0 2 1 0 0 0 0 0\n",
      " 0 0 0 1 0 1 2 1 0 0 1 1 0 0 1 1 1 2 1 0 0 2 1 2 2 1 2 0 0 0 2 2 2 0 2 2 1\n",
      " 1 2 1 1 1 1 2 1 0 1 1 2 1 1 1 1 2 0 2 2 1 1 2 0 0 0 1 1 2 2 2 2 1 2 1 1 0\n",
      " 1 1 1 1 2 1 2 0 2 0 0 0 2 1 1 0 0 1 2 2 0 1 0 0 1 1 1 1 2 1 2 0 2 1 0 0 1\n",
      " 0 0 2 1 1 0 2 2 0 0 0 2 1 0 2 2 1 1 0 1 0 2 2 0 0 0 1 2 1 1 1 2 0 1 2 1 0\n",
      " 1 1 2 0 1 0 0 1 2 0 1 2 2 2 2 0 1 0 1 0 0 2 0 0 0 1 2 1 0 0 0 1 0 0 1 0 1\n",
      " 0 2 0 0 1 0 1 1 1 0 0 2 2 2 1 2 0 1 1 1 1 0 0 0 1 2 2 1 0 2 0 1 0 1 1 0 1\n",
      " 2 0 0 2 1 0 2 0 0 1 2 0 2 2 0 2 2 2 0 0 2 2 2 1 0 0 1 1 0 2 2 1 0 0 2 2 1\n",
      " 2 0 0 1 0 0 0 0 0 2 1 0 0 1 2 1 1 0 0 0 0 1 0 0 1 2 1 0 0 0 1 1 2 2 0 1 2\n",
      " 2 0 2 2 0 1 0 2 2 1 1 2 2 2 0 2 2 1 0 1 0 1 1 1 1 0 1 0 1 1 0 2 2 1 2 2 2\n",
      " 2 2 0 1 0 0 0 1 1 1 2 1 1 2 0 0 0 1 0 1 0 0 0 0 0 0 1 2 1 2 0 1 0 1 2 2 2\n",
      " 1 1 0 2 0 0 2 0 2 0 0 0 0 2 0 1 1 0 1 2 0 1 1 1 2 2 2 2 0 0 0 0 2 0 2 2 0\n",
      " 2 0 0 2 0 0 2 0 1 0 1 2 0 0 0 0 0 1 2 2 0 0 1 1 0 1 2 2 2 0 1 1 0 1 2 1 1\n",
      " 0 2 2 0 2 1 0 0 2 2 2 0 2 1 0 0 0 2 1 0 1 1 0 2 0 2 0 0 0 1 2 2 2 2 0 1 2\n",
      " 2 2 0 1 2 2 0 1 0 0 0 0 2 0 0 1 1 0 0 0 0 0 2 1 1 2 1 0 1 2 1 0 2 0 2 1 0\n",
      " 0 2 2 2 0 1 0 0 2 1 0 1 2 0 0 1 0 1 0 1 2 2 1 0 1 0 0 2 1 0 1 1 1 1 1 1 0\n",
      " 2 0 2 0 0 1 0 0 0 0 0 1 2 0 0 2 0 1 0 0 0 0 1 1 1 0 0 0 0 0 0 0 0 2 2 1 0\n",
      " 1 1 2 0 0 0 0 2 1 1 1 1 1 2 0 0 0 0 0 0 2 2 0 0 0 0 2 0 2 0 2 0 2 1 1 0 1\n",
      " 1 0 2 1 2 0 0 1 2 1 1 2 0 2 2 0 1 2 1 2 0 2 0 1 2 1 1 0 0 0 2 2 1 1 2 0 2\n",
      " 2 0 0 2 0 2 2 0 0 1 2 2 0 0 0 0 0 0 0 0 0 1 2 2 2 2 2 1 0 2 0 0 2 1 1 0 2\n",
      " 1 0 0 1 1 2 1 2 1 0 0 0 2 1 2 0 0 1 1 0 1 1 1 0 2 0 0 1 2 2 1 0 2 2 2 1 2\n",
      " 0 0 0 1 2 0 2 1 1 2 1 0 1 1 0 2 2 0 2 2 1 2 2 1 2 2 2 1 2 2 0 0 1 1 0 0 2\n",
      " 1 0 0 2 1 1 0 2 2 0 2 1 1 2 1 1 1 2 0 2 1 0 0 1 0 2 1 0 1 1 2 0 2 2 1 0 2\n",
      " 1]\n"
     ]
    }
   ],
   "source": [
    "# SVM for multi-class classification using built-in one-vs-one\n",
    "from sklearn.datasets import make_classification\n",
    "from sklearn.svm import SVC\n",
    "# define dataset\n",
    "X, y = make_classification(n_samples=1000, n_features=10, n_informative=5, n_redundant=5, n_classes=3, random_state=1)\n",
    "# define model\n",
    "model = SVC(decision_function_shape='ovo')\n",
    "# fit model\n",
    "model.fit(X, y)\n",
    "# make predictions\n",
    "yhat = model.predict(X)\n",
    "print(yhat)"
   ]
  },
  {
   "cell_type": "code",
   "execution_count": 7,
   "metadata": {},
   "outputs": [
    {
     "name": "stdout",
     "output_type": "stream",
     "text": [
      "[1 0 1 2 0 2 2 2 0 0 1 0 2 2 0 1 2 0 1 0 0 0 0 2 0 0 2 0 1 1 2 1 0 2 0 0 0\n",
      " 1 2 2 2 1 0 0 1 1 0 0 1 1 0 1 2 1 1 2 2 2 1 0 2 2 2 1 0 1 1 0 0 0 2 1 1 0\n",
      " 0 0 2 0 2 1 2 0 0 0 1 2 2 2 0 1 2 2 1 0 0 1 1 2 0 1 0 0 1 1 1 0 2 2 2 2 1\n",
      " 2 0 2 2 0 0 0 0 1 2 2 1 2 2 2 2 0 1 0 2 1 0 0 2 2 0 0 0 1 1 0 0 2 0 1 2 0\n",
      " 2 1 2 0 0 1 0 0 2 2 1 2 2 1 2 0 1 2 2 0 2 1 0 0 2 0 0 0 2 0 2 1 0 0 0 0 0\n",
      " 0 0 0 1 0 1 2 1 0 0 1 1 0 0 1 1 1 2 1 0 0 2 1 2 2 1 2 0 0 0 2 2 2 0 2 2 1\n",
      " 1 2 1 1 1 1 2 1 0 1 1 2 1 1 1 1 2 0 2 2 1 1 2 0 0 0 1 1 2 2 2 2 1 2 1 1 0\n",
      " 1 1 1 1 2 1 2 0 2 0 0 0 2 1 1 0 0 1 2 2 0 1 0 0 1 1 1 1 2 1 2 0 2 1 0 0 1\n",
      " 0 0 2 1 1 0 2 2 0 1 0 2 1 0 2 2 1 1 0 1 0 2 2 0 0 0 1 2 1 1 1 2 0 1 2 1 0\n",
      " 1 1 2 0 1 0 0 1 2 0 1 2 2 2 2 0 1 0 1 0 0 2 0 0 0 1 2 1 0 0 0 1 0 0 1 0 1\n",
      " 0 2 0 0 1 0 1 1 1 0 0 2 2 2 1 2 0 1 1 1 1 0 0 0 1 2 2 1 0 2 0 1 0 1 1 0 1\n",
      " 2 0 0 2 1 0 2 0 0 1 2 0 2 2 0 2 2 2 0 0 2 2 2 1 0 0 1 1 0 2 2 1 0 0 2 2 1\n",
      " 2 2 0 1 0 0 0 0 0 2 1 0 0 1 2 1 1 0 0 0 0 1 0 0 1 2 1 1 0 0 1 1 2 2 0 1 2\n",
      " 2 0 2 2 0 1 0 2 2 1 1 2 2 2 0 2 2 1 0 1 0 1 1 1 1 0 1 0 1 1 0 2 2 1 2 2 2\n",
      " 2 2 0 1 0 0 0 1 1 1 2 1 1 2 0 0 0 1 0 1 0 0 0 0 0 0 1 2 1 2 0 1 0 1 2 2 0\n",
      " 1 1 0 2 0 0 2 0 2 0 0 0 0 2 0 1 1 0 1 2 0 1 1 1 2 2 2 2 0 0 0 0 2 0 2 2 0\n",
      " 2 0 0 2 0 0 2 0 1 0 1 2 0 0 0 0 0 1 2 2 0 0 1 1 0 1 2 2 2 0 1 1 0 1 2 1 1\n",
      " 0 2 2 0 2 1 0 0 2 2 2 0 2 1 0 0 0 2 1 0 1 1 0 2 0 2 0 0 0 1 2 2 2 2 0 1 2\n",
      " 2 2 0 1 2 2 0 1 0 0 0 0 2 0 0 1 1 0 0 0 0 0 2 1 1 2 1 0 1 2 1 0 2 0 2 1 0\n",
      " 0 2 2 2 0 1 0 0 2 1 0 1 2 0 0 1 0 1 0 1 2 2 1 0 1 0 0 2 1 0 1 1 1 1 1 1 0\n",
      " 2 0 2 0 0 1 0 0 0 0 0 1 2 0 0 2 0 1 0 0 0 0 1 1 1 0 0 0 0 0 0 0 0 2 2 1 0\n",
      " 1 1 2 0 0 0 0 2 1 1 1 1 1 2 0 0 0 0 0 0 2 2 0 0 0 0 2 0 2 0 2 0 2 1 1 0 1\n",
      " 1 0 2 1 2 0 0 1 2 1 1 2 0 2 2 0 1 2 1 2 0 2 0 1 2 1 1 0 0 0 2 2 1 1 2 0 2\n",
      " 2 0 0 2 0 2 2 0 0 1 2 2 0 0 0 0 0 0 0 0 0 1 2 2 2 2 2 1 0 2 0 0 2 1 1 0 2\n",
      " 1 0 0 1 1 2 1 2 1 0 0 0 2 1 2 0 0 1 1 0 1 1 1 0 2 0 0 1 2 2 1 0 2 2 2 1 2\n",
      " 0 0 0 1 2 0 2 1 1 2 1 0 1 1 0 2 2 0 2 2 1 2 2 1 2 2 2 1 2 2 0 0 1 1 0 0 2\n",
      " 1 0 0 2 1 1 0 2 2 0 2 1 1 2 1 1 1 2 0 2 1 0 0 1 0 2 1 0 1 1 2 2 2 2 1 0 2\n",
      " 1]\n"
     ]
    }
   ],
   "source": [
    "# SVM for multi-class classification using one-vs-one\n",
    "from sklearn.datasets import make_classification\n",
    "from sklearn.svm import SVC\n",
    "from sklearn.multiclass import OneVsOneClassifier\n",
    "# define dataset\n",
    "X, y = make_classification(n_samples=1000, n_features=10, n_informative=5, n_redundant=5, n_classes=3, random_state=1)\n",
    "# define model\n",
    "model = SVC()\n",
    "# define ovo strategy\n",
    "ovo = OneVsOneClassifier(model)\n",
    "# fit model\n",
    "ovo.fit(X, y)\n",
    "# make predictions\n",
    "yhat = ovo.predict(X)\n",
    "print(yhat)"
   ]
  },
  {
   "cell_type": "code",
   "execution_count": 8,
   "metadata": {},
   "outputs": [
    {
     "name": "stderr",
     "output_type": "stream",
     "text": [
      "C:\\Users\\efnxqng\\AppData\\Roaming\\Python\\Python37\\site-packages\\sklearn\\svm\\_base.py:977: ConvergenceWarning: Liblinear failed to converge, increase the number of iterations.\n",
      "  \"the number of iterations.\", ConvergenceWarning)\n"
     ]
    },
    {
     "data": {
      "text/plain": [
       "array([0, 0, 0, 0, 0, 0, 0, 0, 0, 0, 0, 0, 0, 0, 0, 0, 0, 0, 0, 0, 0, 0,\n",
       "       0, 0, 0, 0, 0, 0, 0, 0, 0, 0, 0, 0, 0, 0, 0, 0, 0, 0, 0, 0, 0, 0,\n",
       "       0, 0, 0, 0, 0, 0, 1, 1, 1, 1, 1, 1, 1, 1, 1, 1, 1, 1, 1, 1, 1, 1,\n",
       "       1, 1, 1, 1, 2, 1, 2, 1, 1, 1, 1, 1, 1, 1, 1, 1, 1, 2, 1, 1, 1, 1,\n",
       "       1, 1, 1, 1, 1, 1, 1, 1, 1, 1, 1, 1, 2, 2, 2, 2, 2, 2, 2, 2, 2, 2,\n",
       "       2, 2, 2, 2, 2, 2, 2, 2, 2, 2, 2, 2, 2, 2, 2, 2, 2, 2, 2, 2, 2, 2,\n",
       "       2, 2, 2, 2, 2, 2, 2, 2, 2, 2, 2, 2, 2, 2, 2, 2, 2, 2])"
      ]
     },
     "execution_count": 8,
     "metadata": {},
     "output_type": "execute_result"
    }
   ],
   "source": [
    "from sklearn import datasets\n",
    "from sklearn.multiclass import OneVsOneClassifier\n",
    "from sklearn.svm import LinearSVC\n",
    "X, y = datasets.load_iris(return_X_y=True)\n",
    "OneVsOneClassifier(LinearSVC(random_state=0)).fit(X, y).predict(X)"
   ]
  },
  {
   "cell_type": "code",
   "execution_count": 9,
   "metadata": {},
   "outputs": [
    {
     "name": "stderr",
     "output_type": "stream",
     "text": [
      "C:\\Users\\efnxqng\\AppData\\Roaming\\Python\\Python37\\site-packages\\sklearn\\svm\\_base.py:977: ConvergenceWarning: Liblinear failed to converge, increase the number of iterations.\n",
      "  \"the number of iterations.\", ConvergenceWarning)\n",
      "C:\\Users\\efnxqng\\AppData\\Roaming\\Python\\Python37\\site-packages\\sklearn\\svm\\_base.py:977: ConvergenceWarning: Liblinear failed to converge, increase the number of iterations.\n",
      "  \"the number of iterations.\", ConvergenceWarning)\n",
      "C:\\Users\\efnxqng\\AppData\\Roaming\\Python\\Python37\\site-packages\\sklearn\\svm\\_base.py:977: ConvergenceWarning: Liblinear failed to converge, increase the number of iterations.\n",
      "  \"the number of iterations.\", ConvergenceWarning)\n"
     ]
    },
    {
     "data": {
      "text/plain": [
       "array([0, 0, 0, 0, 0, 0, 0, 0, 0, 0, 0, 0, 0, 0, 0, 0, 0, 0, 0, 0, 0, 0,\n",
       "       0, 0, 0, 0, 0, 0, 0, 0, 0, 0, 0, 0, 0, 0, 0, 0, 0, 0, 0, 0, 0, 0,\n",
       "       0, 0, 0, 0, 0, 0, 1, 1, 1, 1, 1, 1, 2, 1, 1, 1, 1, 1, 1, 1, 1, 1,\n",
       "       2, 1, 1, 1, 2, 1, 1, 1, 1, 1, 1, 2, 1, 1, 1, 1, 1, 2, 2, 2, 1, 1,\n",
       "       1, 1, 1, 1, 1, 1, 1, 1, 1, 1, 1, 1, 2, 2, 2, 2, 2, 2, 2, 2, 2, 2,\n",
       "       2, 2, 2, 2, 2, 2, 2, 2, 2, 1, 2, 2, 2, 2, 2, 2, 2, 2, 2, 1, 2, 2,\n",
       "       2, 1, 1, 2, 2, 2, 2, 2, 2, 2, 2, 2, 2, 2, 2, 2, 2, 2])"
      ]
     },
     "execution_count": 9,
     "metadata": {},
     "output_type": "execute_result"
    }
   ],
   "source": [
    "from sklearn import datasets\n",
    "from sklearn.multiclass import OutputCodeClassifier\n",
    "from sklearn.svm import LinearSVC\n",
    "X, y = datasets.load_iris(return_X_y=True)\n",
    "clf = OutputCodeClassifier(LinearSVC(random_state=0),\n",
    "                           code_size=2, random_state=0)\n",
    "clf.fit(X, y).predict(X)"
   ]
  },
  {
   "cell_type": "code",
   "execution_count": 10,
   "metadata": {},
   "outputs": [
    {
     "name": "stdout",
     "output_type": "stream",
     "text": [
      "(1000, 20) (1000,)\n",
      "Counter({2: 335, 1: 333, 0: 332})\n"
     ]
    }
   ],
   "source": [
    "# multi-class classification dataset\n",
    "from collections import Counter\n",
    "from sklearn.datasets import make_classification\n",
    "# define dataset\n",
    "X, y = make_classification(n_samples=1000, n_features=20, n_informative=15, n_redundant=5, random_state=1, n_classes=3)\n",
    "# summarize the dataset\n",
    "print(X.shape, y.shape)\n",
    "# summarize the number of classes\n",
    "print(Counter(y))"
   ]
  },
  {
   "cell_type": "code",
   "execution_count": 11,
   "metadata": {},
   "outputs": [
    {
     "name": "stdout",
     "output_type": "stream",
     "text": [
      "Accuracy: 0.766 (0.037)\n"
     ]
    }
   ],
   "source": [
    "# evaluate error-correcting output codes for multi-class classification\n",
    "from numpy import mean\n",
    "from numpy import std\n",
    "from sklearn.datasets import make_classification\n",
    "from sklearn.model_selection import cross_val_score\n",
    "from sklearn.model_selection import RepeatedStratifiedKFold\n",
    "from sklearn.linear_model import LogisticRegression\n",
    "from sklearn.multiclass import OutputCodeClassifier\n",
    "# define dataset\n",
    "X, y = make_classification(n_samples=1000, n_features=20, n_informative=15, n_redundant=5, random_state=1, n_classes=3)\n",
    "# define the binary classification model\n",
    "model = LogisticRegression()\n",
    "# define the ecoc model\n",
    "ecoc = OutputCodeClassifier(model, code_size=2, random_state=1)\n",
    "# define the evaluation procedure\n",
    "cv = RepeatedStratifiedKFold(n_splits=10, n_repeats=3, random_state=1)\n",
    "# evaluate the model and collect the scores\n",
    "n_scores = cross_val_score(ecoc, X, y, scoring='accuracy', cv=cv, n_jobs=-1)\n",
    "# summarize the performance\n",
    "print('Accuracy: %.3f (%.3f)' % (mean(n_scores), std(n_scores)))"
   ]
  },
  {
   "cell_type": "code",
   "execution_count": 12,
   "metadata": {},
   "outputs": [
    {
     "name": "stdout",
     "output_type": "stream",
     "text": [
      "Predicted Class: 0\n"
     ]
    }
   ],
   "source": [
    "# use error-correcting output codes model as a final model and make a prediction\n",
    "from sklearn.datasets import make_classification\n",
    "from sklearn.linear_model import LogisticRegression\n",
    "from sklearn.multiclass import OutputCodeClassifier\n",
    "# define dataset\n",
    "X, y = make_classification(n_samples=1000, n_features=20, n_informative=15, n_redundant=5, random_state=1, n_classes=3)\n",
    "# define the binary classification model\n",
    "model = LogisticRegression()\n",
    "# define the ecoc model\n",
    "ecoc = OutputCodeClassifier(model, code_size=2, random_state=1)\n",
    "# fit the model on the whole dataset\n",
    "ecoc.fit(X, y)\n",
    "# make a single prediction\n",
    "row = [[0.04339387, 2.75542632, -3.79522705, -0.71310994, -3.08888853, -1.2963487, -1.92065166, -3.15609907, 1.37532356, 3.61293237, 1.00353523, -3.77126962, 2.26638828, -10.22368666, -0.35137382, 1.84443763, 3.7040748, 2.50964286, 2.18839505, -2.31211692]]\n",
    "yhat = ecoc.predict(row)\n",
    "print('Predicted Class: %d' % yhat[0])"
   ]
  },
  {
   "cell_type": "code",
   "execution_count": 13,
   "metadata": {},
   "outputs": [
    {
     "name": "stdout",
     "output_type": "stream",
     "text": [
      "样本数量:150, 特征数量:4\n"
     ]
    },
    {
     "name": "stderr",
     "output_type": "stream",
     "text": [
      "C:\\Users\\efnxqng\\AppData\\Roaming\\Python\\Python37\\site-packages\\sklearn\\svm\\_base.py:977: ConvergenceWarning: Liblinear failed to converge, increase the number of iterations.\n",
      "  \"the number of iterations.\", ConvergenceWarning)\n",
      "C:\\Users\\efnxqng\\AppData\\Roaming\\Python\\Python37\\site-packages\\sklearn\\svm\\_base.py:977: ConvergenceWarning: Liblinear failed to converge, increase the number of iterations.\n",
      "  \"the number of iterations.\", ConvergenceWarning)\n",
      "C:\\Users\\efnxqng\\AppData\\Roaming\\Python\\Python37\\site-packages\\sklearn\\svm\\_base.py:977: ConvergenceWarning: Liblinear failed to converge, increase the number of iterations.\n",
      "  \"the number of iterations.\", ConvergenceWarning)\n",
      "C:\\Users\\efnxqng\\AppData\\Roaming\\Python\\Python37\\site-packages\\sklearn\\svm\\_base.py:977: ConvergenceWarning: Liblinear failed to converge, increase the number of iterations.\n",
      "  \"the number of iterations.\", ConvergenceWarning)\n",
      "C:\\Users\\efnxqng\\AppData\\Roaming\\Python\\Python37\\site-packages\\sklearn\\svm\\_base.py:977: ConvergenceWarning: Liblinear failed to converge, increase the number of iterations.\n",
      "  \"the number of iterations.\", ConvergenceWarning)\n",
      "C:\\Users\\efnxqng\\AppData\\Roaming\\Python\\Python37\\site-packages\\sklearn\\svm\\_base.py:977: ConvergenceWarning: Liblinear failed to converge, increase the number of iterations.\n",
      "  \"the number of iterations.\", ConvergenceWarning)\n",
      "C:\\Users\\efnxqng\\AppData\\Roaming\\Python\\Python37\\site-packages\\sklearn\\svm\\_base.py:977: ConvergenceWarning: Liblinear failed to converge, increase the number of iterations.\n",
      "  \"the number of iterations.\", ConvergenceWarning)\n",
      "C:\\Users\\efnxqng\\AppData\\Roaming\\Python\\Python37\\site-packages\\sklearn\\svm\\_base.py:977: ConvergenceWarning: Liblinear failed to converge, increase the number of iterations.\n",
      "  \"the number of iterations.\", ConvergenceWarning)\n",
      "C:\\Users\\efnxqng\\AppData\\Roaming\\Python\\Python37\\site-packages\\sklearn\\svm\\_base.py:977: ConvergenceWarning: Liblinear failed to converge, increase the number of iterations.\n",
      "  \"the number of iterations.\", ConvergenceWarning)\n",
      "C:\\Users\\efnxqng\\AppData\\Roaming\\Python\\Python37\\site-packages\\sklearn\\svm\\_base.py:977: ConvergenceWarning: Liblinear failed to converge, increase the number of iterations.\n",
      "  \"the number of iterations.\", ConvergenceWarning)\n",
      "C:\\Users\\efnxqng\\AppData\\Roaming\\Python\\Python37\\site-packages\\sklearn\\svm\\_base.py:977: ConvergenceWarning: Liblinear failed to converge, increase the number of iterations.\n",
      "  \"the number of iterations.\", ConvergenceWarning)\n",
      "C:\\Users\\efnxqng\\AppData\\Roaming\\Python\\Python37\\site-packages\\sklearn\\svm\\_base.py:977: ConvergenceWarning: Liblinear failed to converge, increase the number of iterations.\n",
      "  \"the number of iterations.\", ConvergenceWarning)\n",
      "C:\\Users\\efnxqng\\AppData\\Roaming\\Python\\Python37\\site-packages\\sklearn\\svm\\_base.py:977: ConvergenceWarning: Liblinear failed to converge, increase the number of iterations.\n",
      "  \"the number of iterations.\", ConvergenceWarning)\n",
      "C:\\Users\\efnxqng\\AppData\\Roaming\\Python\\Python37\\site-packages\\sklearn\\svm\\_base.py:977: ConvergenceWarning: Liblinear failed to converge, increase the number of iterations.\n",
      "  \"the number of iterations.\", ConvergenceWarning)\n",
      "C:\\Users\\efnxqng\\AppData\\Roaming\\Python\\Python37\\site-packages\\sklearn\\svm\\_base.py:977: ConvergenceWarning: Liblinear failed to converge, increase the number of iterations.\n",
      "  \"the number of iterations.\", ConvergenceWarning)\n",
      "C:\\Users\\efnxqng\\AppData\\Roaming\\Python\\Python37\\site-packages\\sklearn\\svm\\_base.py:977: ConvergenceWarning: Liblinear failed to converge, increase the number of iterations.\n",
      "  \"the number of iterations.\", ConvergenceWarning)\n",
      "C:\\Users\\efnxqng\\AppData\\Roaming\\Python\\Python37\\site-packages\\sklearn\\svm\\_base.py:977: ConvergenceWarning: Liblinear failed to converge, increase the number of iterations.\n",
      "  \"the number of iterations.\", ConvergenceWarning)\n",
      "C:\\Users\\efnxqng\\AppData\\Roaming\\Python\\Python37\\site-packages\\sklearn\\svm\\_base.py:977: ConvergenceWarning: Liblinear failed to converge, increase the number of iterations.\n",
      "  \"the number of iterations.\", ConvergenceWarning)\n",
      "C:\\Users\\efnxqng\\AppData\\Roaming\\Python\\Python37\\site-packages\\sklearn\\svm\\_base.py:977: ConvergenceWarning: Liblinear failed to converge, increase the number of iterations.\n",
      "  \"the number of iterations.\", ConvergenceWarning)\n",
      "C:\\Users\\efnxqng\\AppData\\Roaming\\Python\\Python37\\site-packages\\sklearn\\svm\\_base.py:977: ConvergenceWarning: Liblinear failed to converge, increase the number of iterations.\n",
      "  \"the number of iterations.\", ConvergenceWarning)\n",
      "C:\\Users\\efnxqng\\AppData\\Roaming\\Python\\Python37\\site-packages\\sklearn\\svm\\_base.py:977: ConvergenceWarning: Liblinear failed to converge, increase the number of iterations.\n",
      "  \"the number of iterations.\", ConvergenceWarning)\n",
      "C:\\Users\\efnxqng\\AppData\\Roaming\\Python\\Python37\\site-packages\\sklearn\\svm\\_base.py:977: ConvergenceWarning: Liblinear failed to converge, increase the number of iterations.\n",
      "  \"the number of iterations.\", ConvergenceWarning)\n",
      "C:\\Users\\efnxqng\\AppData\\Roaming\\Python\\Python37\\site-packages\\sklearn\\svm\\_base.py:977: ConvergenceWarning: Liblinear failed to converge, increase the number of iterations.\n",
      "  \"the number of iterations.\", ConvergenceWarning)\n",
      "C:\\Users\\efnxqng\\AppData\\Roaming\\Python\\Python37\\site-packages\\sklearn\\svm\\_base.py:977: ConvergenceWarning: Liblinear failed to converge, increase the number of iterations.\n",
      "  \"the number of iterations.\", ConvergenceWarning)\n",
      "C:\\Users\\efnxqng\\AppData\\Roaming\\Python\\Python37\\site-packages\\sklearn\\svm\\_base.py:977: ConvergenceWarning: Liblinear failed to converge, increase the number of iterations.\n",
      "  \"the number of iterations.\", ConvergenceWarning)\n",
      "C:\\Users\\efnxqng\\AppData\\Roaming\\Python\\Python37\\site-packages\\sklearn\\svm\\_base.py:977: ConvergenceWarning: Liblinear failed to converge, increase the number of iterations.\n",
      "  \"the number of iterations.\", ConvergenceWarning)\n",
      "C:\\Users\\efnxqng\\AppData\\Roaming\\Python\\Python37\\site-packages\\sklearn\\svm\\_base.py:977: ConvergenceWarning: Liblinear failed to converge, increase the number of iterations.\n",
      "  \"the number of iterations.\", ConvergenceWarning)\n",
      "C:\\Users\\efnxqng\\AppData\\Roaming\\Python\\Python37\\site-packages\\sklearn\\svm\\_base.py:977: ConvergenceWarning: Liblinear failed to converge, increase the number of iterations.\n",
      "  \"the number of iterations.\", ConvergenceWarning)\n",
      "C:\\Users\\efnxqng\\AppData\\Roaming\\Python\\Python37\\site-packages\\sklearn\\svm\\_base.py:977: ConvergenceWarning: Liblinear failed to converge, increase the number of iterations.\n",
      "  \"the number of iterations.\", ConvergenceWarning)\n",
      "C:\\Users\\efnxqng\\AppData\\Roaming\\Python\\Python37\\site-packages\\sklearn\\svm\\_base.py:977: ConvergenceWarning: Liblinear failed to converge, increase the number of iterations.\n",
      "  \"the number of iterations.\", ConvergenceWarning)\n",
      "C:\\Users\\efnxqng\\AppData\\Roaming\\Python\\Python37\\site-packages\\sklearn\\svm\\_base.py:977: ConvergenceWarning: Liblinear failed to converge, increase the number of iterations.\n",
      "  \"the number of iterations.\", ConvergenceWarning)\n",
      "C:\\Users\\efnxqng\\AppData\\Roaming\\Python\\Python37\\site-packages\\sklearn\\svm\\_base.py:977: ConvergenceWarning: Liblinear failed to converge, increase the number of iterations.\n",
      "  \"the number of iterations.\", ConvergenceWarning)\n",
      "C:\\Users\\efnxqng\\AppData\\Roaming\\Python\\Python37\\site-packages\\sklearn\\svm\\_base.py:977: ConvergenceWarning: Liblinear failed to converge, increase the number of iterations.\n",
      "  \"the number of iterations.\", ConvergenceWarning)\n",
      "C:\\Users\\efnxqng\\AppData\\Roaming\\Python\\Python37\\site-packages\\sklearn\\svm\\_base.py:977: ConvergenceWarning: Liblinear failed to converge, increase the number of iterations.\n",
      "  \"the number of iterations.\", ConvergenceWarning)\n",
      "C:\\Users\\efnxqng\\AppData\\Roaming\\Python\\Python37\\site-packages\\sklearn\\svm\\_base.py:977: ConvergenceWarning: Liblinear failed to converge, increase the number of iterations.\n",
      "  \"the number of iterations.\", ConvergenceWarning)\n",
      "C:\\Users\\efnxqng\\AppData\\Roaming\\Python\\Python37\\site-packages\\sklearn\\svm\\_base.py:977: ConvergenceWarning: Liblinear failed to converge, increase the number of iterations.\n",
      "  \"the number of iterations.\", ConvergenceWarning)\n",
      "C:\\Users\\efnxqng\\AppData\\Roaming\\Python\\Python37\\site-packages\\sklearn\\svm\\_base.py:977: ConvergenceWarning: Liblinear failed to converge, increase the number of iterations.\n",
      "  \"the number of iterations.\", ConvergenceWarning)\n",
      "C:\\Users\\efnxqng\\AppData\\Roaming\\Python\\Python37\\site-packages\\sklearn\\svm\\_base.py:977: ConvergenceWarning: Liblinear failed to converge, increase the number of iterations.\n",
      "  \"the number of iterations.\", ConvergenceWarning)\n",
      "C:\\Users\\efnxqng\\AppData\\Roaming\\Python\\Python37\\site-packages\\sklearn\\svm\\_base.py:977: ConvergenceWarning: Liblinear failed to converge, increase the number of iterations.\n",
      "  \"the number of iterations.\", ConvergenceWarning)\n",
      "C:\\Users\\efnxqng\\AppData\\Roaming\\Python\\Python37\\site-packages\\sklearn\\svm\\_base.py:977: ConvergenceWarning: Liblinear failed to converge, increase the number of iterations.\n",
      "  \"the number of iterations.\", ConvergenceWarning)\n",
      "C:\\Users\\efnxqng\\AppData\\Roaming\\Python\\Python37\\site-packages\\sklearn\\svm\\_base.py:977: ConvergenceWarning: Liblinear failed to converge, increase the number of iterations.\n",
      "  \"the number of iterations.\", ConvergenceWarning)\n",
      "C:\\Users\\efnxqng\\AppData\\Roaming\\Python\\Python37\\site-packages\\sklearn\\svm\\_base.py:977: ConvergenceWarning: Liblinear failed to converge, increase the number of iterations.\n",
      "  \"the number of iterations.\", ConvergenceWarning)\n",
      "C:\\Users\\efnxqng\\AppData\\Roaming\\Python\\Python37\\site-packages\\sklearn\\svm\\_base.py:977: ConvergenceWarning: Liblinear failed to converge, increase the number of iterations.\n",
      "  \"the number of iterations.\", ConvergenceWarning)\n",
      "C:\\Users\\efnxqng\\AppData\\Roaming\\Python\\Python37\\site-packages\\sklearn\\svm\\_base.py:977: ConvergenceWarning: Liblinear failed to converge, increase the number of iterations.\n",
      "  \"the number of iterations.\", ConvergenceWarning)\n",
      "C:\\Users\\efnxqng\\AppData\\Roaming\\Python\\Python37\\site-packages\\sklearn\\svm\\_base.py:977: ConvergenceWarning: Liblinear failed to converge, increase the number of iterations.\n",
      "  \"the number of iterations.\", ConvergenceWarning)\n",
      "C:\\Users\\efnxqng\\AppData\\Roaming\\Python\\Python37\\site-packages\\sklearn\\svm\\_base.py:977: ConvergenceWarning: Liblinear failed to converge, increase the number of iterations.\n",
      "  \"the number of iterations.\", ConvergenceWarning)\n"
     ]
    },
    {
     "name": "stdout",
     "output_type": "stream",
     "text": [
      "[0 0 0 0 0 0 0 0 0 0 0 0 0 0 0 0 0 0 0 0 0 0 0 0 0 0 0 0 0 0 0 0 0 0 0 0 0\n",
      " 0 0 0 0 0 0 0 0 0 0 0 0 0 1 1 1 1 1 1 1 1 1 1 1 1 1 1 1 1 1 1 1 1 2 1 1 1\n",
      " 1 1 1 1 1 1 1 1 1 2 2 1 1 1 1 1 1 1 1 1 1 1 1 1 1 1 2 2 2 2 2 2 2 2 2 2 2\n",
      " 2 2 2 2 2 2 2 2 2 2 2 2 2 2 2 2 2 2 1 2 2 2 1 2 2 2 2 2 2 2 2 2 2 2 2 2 2\n",
      " 2 2]\n",
      "准确率:0.967\n",
      "第1个模型:LinearSVC(random_state=0)\n",
      "第2个模型:_ConstantPredictor()\n",
      "第3个模型:LinearSVC(random_state=0)\n",
      "第4个模型:LinearSVC(random_state=0)\n",
      "第5个模型:LinearSVC(random_state=0)\n",
      "第6个模型:LinearSVC(random_state=0)\n",
      "第7个模型:LinearSVC(random_state=0)\n",
      "第8个模型:LinearSVC(random_state=0)\n",
      "第9个模型:_ConstantPredictor()\n",
      "第10个模型:_ConstantPredictor()\n",
      "第11个模型:LinearSVC(random_state=0)\n",
      "第12个模型:LinearSVC(random_state=0)\n",
      "第13个模型:LinearSVC(random_state=0)\n",
      "第14个模型:_ConstantPredictor()\n",
      "第15个模型:LinearSVC(random_state=0)\n",
      "第16个模型:LinearSVC(random_state=0)\n",
      "第17个模型:LinearSVC(random_state=0)\n",
      "第18个模型:LinearSVC(random_state=0)\n",
      "第19个模型:LinearSVC(random_state=0)\n",
      "第20个模型:LinearSVC(random_state=0)\n",
      "第21个模型:LinearSVC(random_state=0)\n",
      "第22个模型:_ConstantPredictor()\n",
      "第23个模型:LinearSVC(random_state=0)\n",
      "第24个模型:LinearSVC(random_state=0)\n",
      "第25个模型:LinearSVC(random_state=0)\n",
      "第26个模型:LinearSVC(random_state=0)\n",
      "第27个模型:LinearSVC(random_state=0)\n",
      "第28个模型:LinearSVC(random_state=0)\n",
      "第29个模型:_ConstantPredictor()\n",
      "第30个模型:LinearSVC(random_state=0)\n",
      "第31个模型:LinearSVC(random_state=0)\n",
      "第32个模型:LinearSVC(random_state=0)\n",
      "第33个模型:LinearSVC(random_state=0)\n",
      "第34个模型:LinearSVC(random_state=0)\n",
      "第35个模型:_ConstantPredictor()\n",
      "第36个模型:_ConstantPredictor()\n",
      "第37个模型:LinearSVC(random_state=0)\n",
      "第38个模型:LinearSVC(random_state=0)\n",
      "第39个模型:_ConstantPredictor()\n",
      "第40个模型:LinearSVC(random_state=0)\n",
      "第41个模型:LinearSVC(random_state=0)\n",
      "第42个模型:LinearSVC(random_state=0)\n",
      "第43个模型:LinearSVC(random_state=0)\n",
      "第44个模型:LinearSVC(random_state=0)\n",
      "第45个模型:LinearSVC(random_state=0)\n",
      "第46个模型:_ConstantPredictor()\n",
      "第47个模型:LinearSVC(random_state=0)\n",
      "第48个模型:LinearSVC(random_state=0)\n",
      "第49个模型:LinearSVC(random_state=0)\n",
      "第50个模型:LinearSVC(random_state=0)\n",
      "第51个模型:LinearSVC(random_state=0)\n",
      "第52个模型:_ConstantPredictor()\n",
      "第53个模型:LinearSVC(random_state=0)\n",
      "第54个模型:LinearSVC(random_state=0)\n",
      "第55个模型:LinearSVC(random_state=0)\n",
      "第56个模型:LinearSVC(random_state=0)\n",
      "第57个模型:LinearSVC(random_state=0)\n",
      "第58个模型:LinearSVC(random_state=0)\n",
      "第59个模型:LinearSVC(random_state=0)\n",
      "第60个模型:LinearSVC(random_state=0)\n",
      "第61个模型:LinearSVC(random_state=0)\n",
      "第62个模型:LinearSVC(random_state=0)\n",
      "第63个模型:LinearSVC(random_state=0)\n",
      "第64个模型:LinearSVC(random_state=0)\n",
      "第65个模型:LinearSVC(random_state=0)\n",
      "第66个模型:LinearSVC(random_state=0)\n",
      "第67个模型:_ConstantPredictor()\n",
      "第68个模型:LinearSVC(random_state=0)\n",
      "第69个模型:LinearSVC(random_state=0)\n",
      "第70个模型:_ConstantPredictor()\n",
      "第71个模型:LinearSVC(random_state=0)\n",
      "第72个模型:LinearSVC(random_state=0)\n",
      "第73个模型:_ConstantPredictor()\n",
      "第74个模型:_ConstantPredictor()\n",
      "第75个模型:_ConstantPredictor()\n",
      "第76个模型:LinearSVC(random_state=0)\n",
      "第77个模型:LinearSVC(random_state=0)\n",
      "第78个模型:LinearSVC(random_state=0)\n",
      "第79个模型:LinearSVC(random_state=0)\n",
      "第80个模型:_ConstantPredictor()\n",
      "第81个模型:LinearSVC(random_state=0)\n",
      "第82个模型:_ConstantPredictor()\n",
      "第83个模型:_ConstantPredictor()\n",
      "第84个模型:LinearSVC(random_state=0)\n",
      "第85个模型:_ConstantPredictor()\n",
      "第86个模型:LinearSVC(random_state=0)\n",
      "第87个模型:LinearSVC(random_state=0)\n",
      "第88个模型:LinearSVC(random_state=0)\n",
      "第89个模型:LinearSVC(random_state=0)\n",
      "第90个模型:LinearSVC(random_state=0)\n",
      "[0 1 2]\n"
     ]
    }
   ],
   "source": [
    "from sklearn import datasets\n",
    "from sklearn.multiclass import OutputCodeClassifier\n",
    "from sklearn.svm import LinearSVC\n",
    "from sklearn.metrics import accuracy_score\n",
    "\n",
    "# 数据获取\n",
    "iris = datasets.load_iris()\n",
    "X, y = iris.data, iris.target\n",
    "print(\"样本数量:%d, 特征数量:%d\" % X.shape)\n",
    "\n",
    "# 模型对象创建\n",
    "# code_size: 指定最终使用多少个子模型，实际的子模型的数量=int(code_size*label_number)\n",
    "# code_size设置为1，等价于ovr子模型个数；\n",
    "# 设置为0~1, 那相当于使用比较少的数据划分，效果比ovr差; \n",
    "# 设置为大于1的值，那么相当于存在部分模型冗余的情况\n",
    "clf = OutputCodeClassifier(LinearSVC(random_state=0), code_size=30, random_state=0)\n",
    "# 模型构建\n",
    "clf.fit(X, y)\n",
    "\n",
    "# 输出预测结果值\n",
    "print(clf.predict(X))\n",
    "print(\"准确率:%.3f\" % accuracy_score(y, clf.predict(X)))\n",
    "\n",
    "# 模型属性输出\n",
    "k = 1\n",
    "for item in clf.estimators_:\n",
    "    print(\"第%d个模型:\" % k, end=\"\")\n",
    "    print(item)\n",
    "    k += 1\n",
    "print(clf.classes_)"
   ]
  },
  {
   "cell_type": "code",
   "execution_count": null,
   "metadata": {},
   "outputs": [],
   "source": []
  }
 ],
 "metadata": {
  "kernelspec": {
   "display_name": "Python 3",
   "language": "python",
   "name": "python3"
  },
  "language_info": {
   "codemirror_mode": {
    "name": "ipython",
    "version": 3
   },
   "file_extension": ".py",
   "mimetype": "text/x-python",
   "name": "python",
   "nbconvert_exporter": "python",
   "pygments_lexer": "ipython3",
   "version": "3.7.3"
  }
 },
 "nbformat": 4,
 "nbformat_minor": 2
}
