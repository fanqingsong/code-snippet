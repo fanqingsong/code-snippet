{
  "nbformat": 4,
  "nbformat_minor": 0,
  "metadata": {
    "colab": {
      "name": "“fcc_predict_health_costs_with_regression.ipynb”的副本",
      "provenance": [],
      "collapsed_sections": [],
      "include_colab_link": true
    },
    "kernelspec": {
      "display_name": "Python 3",
      "name": "python3"
    }
  },
  "cells": [
    {
      "cell_type": "markdown",
      "metadata": {
        "id": "view-in-github",
        "colab_type": "text"
      },
      "source": [
        "<a href=\"https://colab.research.google.com/github/fanqingsong/code_snippet/blob/master/%E2%80%9Cfcc_predict_health_costs_with_regression_ipynb%E2%80%9D%E7%9A%84%E5%89%AF%E6%9C%AC.ipynb\" target=\"_parent\"><img src=\"https://colab.research.google.com/assets/colab-badge.svg\" alt=\"Open In Colab\"/></a>"
      ]
    },
    {
      "cell_type": "markdown",
      "metadata": {
        "id": "M9TX15KOkPBV"
      },
      "source": [
        "*Note: You are currently reading this using Google Colaboratory which is a cloud-hosted version of Jupyter Notebook. This is a document containing both text cells for documentation and runnable code cells. If you are unfamiliar with Jupyter Notebook, watch this 3-minute introduction before starting this challenge: https://www.youtube.com/watch?v=inN8seMm7UI*\n",
        "\n",
        "---\n",
        "\n",
        "In this challenge, you will predict healthcare costs using a regression algorithm.\n",
        "\n",
        "You are given a dataset that contains information about different people including their healthcare costs. Use the data to predict healthcare costs based on new data.\n",
        "\n",
        "The first two cells of this notebook import libraries and the data.\n",
        "\n",
        "Make sure to convert categorical data to numbers. Use 80% of the data as the `train_dataset` and 20% of the data as the `test_dataset`.\n",
        "\n",
        "`pop` off the \"expenses\" column from these datasets to create new datasets called `train_labels` and `test_labels`. Use these labels when training your model.\n",
        "\n",
        "Create a model and train it with the `train_dataset`. Run the final cell in this notebook to check your model. The final cell will use the unseen `test_dataset` to check how well the model generalizes.\n",
        "\n",
        "To pass the challenge, `model.evaluate` must return a Mean Absolute Error of under 3500. This means it predicts health care costs correctly within $3500.\n",
        "\n",
        "The final cell will also predict expenses using the `test_dataset` and graph the results."
      ]
    },
    {
      "cell_type": "markdown",
      "metadata": {
        "id": "dL3ZHXBwlg89"
      },
      "source": [
        "# 新段落"
      ]
    },
    {
      "cell_type": "code",
      "metadata": {
        "id": "1rRo8oNqZ-Rj",
        "colab": {
          "base_uri": "https://localhost:8080/"
        },
        "outputId": "3367341c-83b1-4e06-9dbc-4db685807431"
      },
      "source": [
        "# Import libraries. You may or may not use all of these.\n",
        "!pip install -q git+https://github.com/tensorflow/docs\n",
        "import matplotlib.pyplot as plt\n",
        "import numpy as np\n",
        "import pandas as pd\n",
        "\n",
        "try:\n",
        "  # %tensorflow_version only exists in Colab.\n",
        "  %tensorflow_version 2.x\n",
        "except Exception:\n",
        "  pass\n",
        "import tensorflow as tf\n",
        "\n",
        "from tensorflow import keras\n",
        "from tensorflow.keras import layers\n",
        "\n",
        "import tensorflow.keras.layers.experimental.preprocessing as preprocessing\n",
        "\n",
        "import tensorflow_docs as tfdocs\n",
        "import tensorflow_docs.plots\n",
        "import tensorflow_docs.modeling"
      ],
      "execution_count": 2,
      "outputs": [
        {
          "output_type": "stream",
          "text": [
            "\u001b[?25l\r\u001b[K     |▎                               | 10kB 20.4MB/s eta 0:00:01\r\u001b[K     |▋                               | 20kB 26.5MB/s eta 0:00:01\r\u001b[K     |█                               | 30kB 31.3MB/s eta 0:00:01\r\u001b[K     |█▎                              | 40kB 33.5MB/s eta 0:00:01\r\u001b[K     |█▋                              | 51kB 35.7MB/s eta 0:00:01\r\u001b[K     |██                              | 61kB 38.5MB/s eta 0:00:01\r\u001b[K     |██▎                             | 71kB 31.5MB/s eta 0:00:01\r\u001b[K     |██▋                             | 81kB 26.9MB/s eta 0:00:01\r\u001b[K     |██▉                             | 92kB 27.2MB/s eta 0:00:01\r\u001b[K     |███▏                            | 102kB 28.7MB/s eta 0:00:01\r\u001b[K     |███▌                            | 112kB 28.7MB/s eta 0:00:01\r\u001b[K     |███▉                            | 122kB 28.7MB/s eta 0:00:01\r\u001b[K     |████▏                           | 133kB 28.7MB/s eta 0:00:01\r\u001b[K     |████▌                           | 143kB 28.7MB/s eta 0:00:01\r\u001b[K     |████▉                           | 153kB 28.7MB/s eta 0:00:01\r\u001b[K     |█████▏                          | 163kB 28.7MB/s eta 0:00:01\r\u001b[K     |█████▌                          | 174kB 28.7MB/s eta 0:00:01\r\u001b[K     |█████▊                          | 184kB 28.7MB/s eta 0:00:01\r\u001b[K     |██████                          | 194kB 28.7MB/s eta 0:00:01\r\u001b[K     |██████▍                         | 204kB 28.7MB/s eta 0:00:01\r\u001b[K     |██████▊                         | 215kB 28.7MB/s eta 0:00:01\r\u001b[K     |███████                         | 225kB 28.7MB/s eta 0:00:01\r\u001b[K     |███████▍                        | 235kB 28.7MB/s eta 0:00:01\r\u001b[K     |███████▊                        | 245kB 28.7MB/s eta 0:00:01\r\u001b[K     |████████                        | 256kB 28.7MB/s eta 0:00:01\r\u001b[K     |████████▍                       | 266kB 28.7MB/s eta 0:00:01\r\u001b[K     |████████▋                       | 276kB 28.7MB/s eta 0:00:01\r\u001b[K     |█████████                       | 286kB 28.7MB/s eta 0:00:01\r\u001b[K     |█████████▎                      | 296kB 28.7MB/s eta 0:00:01\r\u001b[K     |█████████▋                      | 307kB 28.7MB/s eta 0:00:01\r\u001b[K     |██████████                      | 317kB 28.7MB/s eta 0:00:01\r\u001b[K     |██████████▎                     | 327kB 28.7MB/s eta 0:00:01\r\u001b[K     |██████████▋                     | 337kB 28.7MB/s eta 0:00:01\r\u001b[K     |███████████                     | 348kB 28.7MB/s eta 0:00:01\r\u001b[K     |███████████▎                    | 358kB 28.7MB/s eta 0:00:01\r\u001b[K     |███████████▌                    | 368kB 28.7MB/s eta 0:00:01\r\u001b[K     |███████████▉                    | 378kB 28.7MB/s eta 0:00:01\r\u001b[K     |████████████▏                   | 389kB 28.7MB/s eta 0:00:01\r\u001b[K     |████████████▌                   | 399kB 28.7MB/s eta 0:00:01\r\u001b[K     |████████████▉                   | 409kB 28.7MB/s eta 0:00:01\r\u001b[K     |█████████████▏                  | 419kB 28.7MB/s eta 0:00:01\r\u001b[K     |█████████████▌                  | 430kB 28.7MB/s eta 0:00:01\r\u001b[K     |█████████████▉                  | 440kB 28.7MB/s eta 0:00:01\r\u001b[K     |██████████████▏                 | 450kB 28.7MB/s eta 0:00:01\r\u001b[K     |██████████████▍                 | 460kB 28.7MB/s eta 0:00:01\r\u001b[K     |██████████████▊                 | 471kB 28.7MB/s eta 0:00:01\r\u001b[K     |███████████████                 | 481kB 28.7MB/s eta 0:00:01\r\u001b[K     |███████████████▍                | 491kB 28.7MB/s eta 0:00:01\r\u001b[K     |███████████████▊                | 501kB 28.7MB/s eta 0:00:01\r\u001b[K     |████████████████                | 512kB 28.7MB/s eta 0:00:01\r\u001b[K     |████████████████▍               | 522kB 28.7MB/s eta 0:00:01\r\u001b[K     |████████████████▊               | 532kB 28.7MB/s eta 0:00:01\r\u001b[K     |█████████████████               | 542kB 28.7MB/s eta 0:00:01\r\u001b[K     |█████████████████▎              | 552kB 28.7MB/s eta 0:00:01\r\u001b[K     |█████████████████▋              | 563kB 28.7MB/s eta 0:00:01\r\u001b[K     |██████████████████              | 573kB 28.7MB/s eta 0:00:01\r\u001b[K     |██████████████████▎             | 583kB 28.7MB/s eta 0:00:01\r\u001b[K     |██████████████████▋             | 593kB 28.7MB/s eta 0:00:01\r\u001b[K     |███████████████████             | 604kB 28.7MB/s eta 0:00:01\r\u001b[K     |███████████████████▎            | 614kB 28.7MB/s eta 0:00:01\r\u001b[K     |███████████████████▋            | 624kB 28.7MB/s eta 0:00:01\r\u001b[K     |███████████████████▉            | 634kB 28.7MB/s eta 0:00:01\r\u001b[K     |████████████████████▏           | 645kB 28.7MB/s eta 0:00:01\r\u001b[K     |████████████████████▌           | 655kB 28.7MB/s eta 0:00:01\r\u001b[K     |████████████████████▉           | 665kB 28.7MB/s eta 0:00:01\r\u001b[K     |█████████████████████▏          | 675kB 28.7MB/s eta 0:00:01\r\u001b[K     |█████████████████████▌          | 686kB 28.7MB/s eta 0:00:01\r\u001b[K     |█████████████████████▉          | 696kB 28.7MB/s eta 0:00:01\r\u001b[K     |██████████████████████▏         | 706kB 28.7MB/s eta 0:00:01\r\u001b[K     |██████████████████████▌         | 716kB 28.7MB/s eta 0:00:01\r\u001b[K     |██████████████████████▊         | 727kB 28.7MB/s eta 0:00:01\r\u001b[K     |███████████████████████         | 737kB 28.7MB/s eta 0:00:01\r\u001b[K     |███████████████████████▍        | 747kB 28.7MB/s eta 0:00:01\r\u001b[K     |███████████████████████▊        | 757kB 28.7MB/s eta 0:00:01\r\u001b[K     |████████████████████████        | 768kB 28.7MB/s eta 0:00:01\r\u001b[K     |████████████████████████▍       | 778kB 28.7MB/s eta 0:00:01\r\u001b[K     |████████████████████████▊       | 788kB 28.7MB/s eta 0:00:01\r\u001b[K     |█████████████████████████       | 798kB 28.7MB/s eta 0:00:01\r\u001b[K     |█████████████████████████▍      | 808kB 28.7MB/s eta 0:00:01\r\u001b[K     |█████████████████████████▋      | 819kB 28.7MB/s eta 0:00:01\r\u001b[K     |██████████████████████████      | 829kB 28.7MB/s eta 0:00:01\r\u001b[K     |██████████████████████████▎     | 839kB 28.7MB/s eta 0:00:01\r\u001b[K     |██████████████████████████▋     | 849kB 28.7MB/s eta 0:00:01\r\u001b[K     |███████████████████████████     | 860kB 28.7MB/s eta 0:00:01\r\u001b[K     |███████████████████████████▎    | 870kB 28.7MB/s eta 0:00:01\r\u001b[K     |███████████████████████████▋    | 880kB 28.7MB/s eta 0:00:01\r\u001b[K     |████████████████████████████    | 890kB 28.7MB/s eta 0:00:01\r\u001b[K     |████████████████████████████▎   | 901kB 28.7MB/s eta 0:00:01\r\u001b[K     |████████████████████████████▌   | 911kB 28.7MB/s eta 0:00:01\r\u001b[K     |████████████████████████████▉   | 921kB 28.7MB/s eta 0:00:01\r\u001b[K     |█████████████████████████████▏  | 931kB 28.7MB/s eta 0:00:01\r\u001b[K     |█████████████████████████████▌  | 942kB 28.7MB/s eta 0:00:01\r\u001b[K     |█████████████████████████████▉  | 952kB 28.7MB/s eta 0:00:01\r\u001b[K     |██████████████████████████████▏ | 962kB 28.7MB/s eta 0:00:01\r\u001b[K     |██████████████████████████████▌ | 972kB 28.7MB/s eta 0:00:01\r\u001b[K     |██████████████████████████████▉ | 983kB 28.7MB/s eta 0:00:01\r\u001b[K     |███████████████████████████████▏| 993kB 28.7MB/s eta 0:00:01\r\u001b[K     |███████████████████████████████▍| 1.0MB 28.7MB/s eta 0:00:01\r\u001b[K     |███████████████████████████████▊| 1.0MB 28.7MB/s eta 0:00:01\r\u001b[K     |████████████████████████████████| 1.0MB 28.7MB/s \n",
            "\u001b[?25h  Building wheel for tensorflow-docs (setup.py) ... \u001b[?25l\u001b[?25hdone\n"
          ],
          "name": "stdout"
        }
      ]
    },
    {
      "cell_type": "code",
      "metadata": {
        "id": "CiX2FI4gZtTt",
        "colab": {
          "base_uri": "https://localhost:8080/",
          "height": 412
        },
        "outputId": "5123a79c-6991-4c16-e76f-ff8827ff8e06"
      },
      "source": [
        "# Import data\n",
        "!wget https://cdn.freecodecamp.org/project-data/health-costs/insurance.csv\n",
        "dataset = pd.read_csv('insurance.csv')\n",
        "dataset.tail()"
      ],
      "execution_count": 3,
      "outputs": [
        {
          "output_type": "stream",
          "text": [
            "--2021-05-09 08:10:42--  https://cdn.freecodecamp.org/project-data/health-costs/insurance.csv\n",
            "Resolving cdn.freecodecamp.org (cdn.freecodecamp.org)... 104.26.3.33, 172.67.70.149, 104.26.2.33, ...\n",
            "Connecting to cdn.freecodecamp.org (cdn.freecodecamp.org)|104.26.3.33|:443... connected.\n",
            "HTTP request sent, awaiting response... 200 OK\n",
            "Length: 50264 (49K) [text/csv]\n",
            "Saving to: ‘insurance.csv’\n",
            "\n",
            "\rinsurance.csv         0%[                    ]       0  --.-KB/s               \rinsurance.csv       100%[===================>]  49.09K  --.-KB/s    in 0s      \n",
            "\n",
            "2021-05-09 08:10:42 (106 MB/s) - ‘insurance.csv’ saved [50264/50264]\n",
            "\n"
          ],
          "name": "stdout"
        },
        {
          "output_type": "execute_result",
          "data": {
            "text/html": [
              "<div>\n",
              "<style scoped>\n",
              "    .dataframe tbody tr th:only-of-type {\n",
              "        vertical-align: middle;\n",
              "    }\n",
              "\n",
              "    .dataframe tbody tr th {\n",
              "        vertical-align: top;\n",
              "    }\n",
              "\n",
              "    .dataframe thead th {\n",
              "        text-align: right;\n",
              "    }\n",
              "</style>\n",
              "<table border=\"1\" class=\"dataframe\">\n",
              "  <thead>\n",
              "    <tr style=\"text-align: right;\">\n",
              "      <th></th>\n",
              "      <th>age</th>\n",
              "      <th>sex</th>\n",
              "      <th>bmi</th>\n",
              "      <th>children</th>\n",
              "      <th>smoker</th>\n",
              "      <th>region</th>\n",
              "      <th>expenses</th>\n",
              "    </tr>\n",
              "  </thead>\n",
              "  <tbody>\n",
              "    <tr>\n",
              "      <th>1333</th>\n",
              "      <td>50</td>\n",
              "      <td>male</td>\n",
              "      <td>31.0</td>\n",
              "      <td>3</td>\n",
              "      <td>no</td>\n",
              "      <td>northwest</td>\n",
              "      <td>10600.55</td>\n",
              "    </tr>\n",
              "    <tr>\n",
              "      <th>1334</th>\n",
              "      <td>18</td>\n",
              "      <td>female</td>\n",
              "      <td>31.9</td>\n",
              "      <td>0</td>\n",
              "      <td>no</td>\n",
              "      <td>northeast</td>\n",
              "      <td>2205.98</td>\n",
              "    </tr>\n",
              "    <tr>\n",
              "      <th>1335</th>\n",
              "      <td>18</td>\n",
              "      <td>female</td>\n",
              "      <td>36.9</td>\n",
              "      <td>0</td>\n",
              "      <td>no</td>\n",
              "      <td>southeast</td>\n",
              "      <td>1629.83</td>\n",
              "    </tr>\n",
              "    <tr>\n",
              "      <th>1336</th>\n",
              "      <td>21</td>\n",
              "      <td>female</td>\n",
              "      <td>25.8</td>\n",
              "      <td>0</td>\n",
              "      <td>no</td>\n",
              "      <td>southwest</td>\n",
              "      <td>2007.95</td>\n",
              "    </tr>\n",
              "    <tr>\n",
              "      <th>1337</th>\n",
              "      <td>61</td>\n",
              "      <td>female</td>\n",
              "      <td>29.1</td>\n",
              "      <td>0</td>\n",
              "      <td>yes</td>\n",
              "      <td>northwest</td>\n",
              "      <td>29141.36</td>\n",
              "    </tr>\n",
              "  </tbody>\n",
              "</table>\n",
              "</div>"
            ],
            "text/plain": [
              "      age     sex   bmi  children smoker     region  expenses\n",
              "1333   50    male  31.0         3     no  northwest  10600.55\n",
              "1334   18  female  31.9         0     no  northeast   2205.98\n",
              "1335   18  female  36.9         0     no  southeast   1629.83\n",
              "1336   21  female  25.8         0     no  southwest   2007.95\n",
              "1337   61  female  29.1         0    yes  northwest  29141.36"
            ]
          },
          "metadata": {
            "tags": []
          },
          "execution_count": 3
        }
      ]
    },
    {
      "cell_type": "code",
      "metadata": {
        "id": "LcopvQh3X-kX",
        "colab": {
          "base_uri": "https://localhost:8080/"
        },
        "outputId": "f4c075a7-ebfb-43c8-f80e-06b483b9c9b5"
      },
      "source": [
        "using_dataset = dataset.copy()\n",
        "print(using_dataset.isna().sum())\n",
        "labels = using_dataset.pop(\"expenses\")\n",
        "print(labels.tail())"
      ],
      "execution_count": 4,
      "outputs": [
        {
          "output_type": "stream",
          "text": [
            "age         0\n",
            "sex         0\n",
            "bmi         0\n",
            "children    0\n",
            "smoker      0\n",
            "region      0\n",
            "expenses    0\n",
            "dtype: int64\n",
            "1333    10600.55\n",
            "1334     2205.98\n",
            "1335     1629.83\n",
            "1336     2007.95\n",
            "1337    29141.36\n",
            "Name: expenses, dtype: float64\n"
          ],
          "name": "stdout"
        }
      ]
    },
    {
      "cell_type": "code",
      "metadata": {
        "colab": {
          "base_uri": "https://localhost:8080/"
        },
        "id": "zgutQtcIQITj",
        "outputId": "6342b196-a7fc-479c-b30b-ebcb085978f0"
      },
      "source": [
        "features = using_dataset\n",
        "print(features.tail())"
      ],
      "execution_count": 5,
      "outputs": [
        {
          "output_type": "stream",
          "text": [
            "      age     sex   bmi  children smoker     region\n",
            "1333   50    male  31.0         3     no  northwest\n",
            "1334   18  female  31.9         0     no  northeast\n",
            "1335   18  female  36.9         0     no  southeast\n",
            "1336   21  female  25.8         0     no  southwest\n",
            "1337   61  female  29.1         0    yes  northwest\n"
          ],
          "name": "stdout"
        }
      ]
    },
    {
      "cell_type": "code",
      "metadata": {
        "colab": {
          "base_uri": "https://localhost:8080/",
          "height": 206
        },
        "id": "G6Ma1Acl39_a",
        "outputId": "0cdfbb1a-ab85-4415-983a-18857c6632e7"
      },
      "source": [
        "train_dataset = dataset.sample(frac=0.8, random_state=0)\n",
        "test_dataset = dataset.drop(train_dataset.index)\n",
        "test_dataset.tail()"
      ],
      "execution_count": 80,
      "outputs": [
        {
          "output_type": "execute_result",
          "data": {
            "text/html": [
              "<div>\n",
              "<style scoped>\n",
              "    .dataframe tbody tr th:only-of-type {\n",
              "        vertical-align: middle;\n",
              "    }\n",
              "\n",
              "    .dataframe tbody tr th {\n",
              "        vertical-align: top;\n",
              "    }\n",
              "\n",
              "    .dataframe thead th {\n",
              "        text-align: right;\n",
              "    }\n",
              "</style>\n",
              "<table border=\"1\" class=\"dataframe\">\n",
              "  <thead>\n",
              "    <tr style=\"text-align: right;\">\n",
              "      <th></th>\n",
              "      <th>age</th>\n",
              "      <th>sex</th>\n",
              "      <th>bmi</th>\n",
              "      <th>children</th>\n",
              "      <th>smoker</th>\n",
              "      <th>region</th>\n",
              "      <th>expenses</th>\n",
              "    </tr>\n",
              "  </thead>\n",
              "  <tbody>\n",
              "    <tr>\n",
              "      <th>1305</th>\n",
              "      <td>24</td>\n",
              "      <td>female</td>\n",
              "      <td>27.7</td>\n",
              "      <td>0</td>\n",
              "      <td>no</td>\n",
              "      <td>southeast</td>\n",
              "      <td>2464.62</td>\n",
              "    </tr>\n",
              "    <tr>\n",
              "      <th>1315</th>\n",
              "      <td>18</td>\n",
              "      <td>male</td>\n",
              "      <td>28.3</td>\n",
              "      <td>1</td>\n",
              "      <td>no</td>\n",
              "      <td>northeast</td>\n",
              "      <td>11272.33</td>\n",
              "    </tr>\n",
              "    <tr>\n",
              "      <th>1318</th>\n",
              "      <td>35</td>\n",
              "      <td>male</td>\n",
              "      <td>39.7</td>\n",
              "      <td>4</td>\n",
              "      <td>no</td>\n",
              "      <td>northeast</td>\n",
              "      <td>19496.72</td>\n",
              "    </tr>\n",
              "    <tr>\n",
              "      <th>1326</th>\n",
              "      <td>42</td>\n",
              "      <td>female</td>\n",
              "      <td>32.9</td>\n",
              "      <td>0</td>\n",
              "      <td>no</td>\n",
              "      <td>northeast</td>\n",
              "      <td>7050.02</td>\n",
              "    </tr>\n",
              "    <tr>\n",
              "      <th>1333</th>\n",
              "      <td>50</td>\n",
              "      <td>male</td>\n",
              "      <td>31.0</td>\n",
              "      <td>3</td>\n",
              "      <td>no</td>\n",
              "      <td>northwest</td>\n",
              "      <td>10600.55</td>\n",
              "    </tr>\n",
              "  </tbody>\n",
              "</table>\n",
              "</div>"
            ],
            "text/plain": [
              "      age     sex   bmi  children smoker     region  expenses\n",
              "1305   24  female  27.7         0     no  southeast   2464.62\n",
              "1315   18    male  28.3         1     no  northeast  11272.33\n",
              "1318   35    male  39.7         4     no  northeast  19496.72\n",
              "1326   42  female  32.9         0     no  northeast   7050.02\n",
              "1333   50    male  31.0         3     no  northwest  10600.55"
            ]
          },
          "metadata": {
            "tags": []
          },
          "execution_count": 80
        }
      ]
    },
    {
      "cell_type": "code",
      "metadata": {
        "id": "AOl0xfgH7olW"
      },
      "source": [
        "# A utility method to create a tf.data dataset from a Pandas Dataframe\n",
        "def df_to_dataset(dataframe, shuffle=True, batch_size=32):\n",
        "  dataframe = dataframe.copy()\n",
        "  labels = dataframe.pop('expenses')\n",
        "  ds = tf.data.Dataset.from_tensor_slices((dict(dataframe), labels))\n",
        "  if shuffle:\n",
        "    ds = ds.shuffle(buffer_size=len(dataframe))\n",
        "  ds = ds.batch(batch_size)\n",
        "  ds = ds.prefetch(batch_size)\n",
        "  return ds"
      ],
      "execution_count": 9,
      "outputs": []
    },
    {
      "cell_type": "code",
      "metadata": {
        "id": "FWS3iDuEL47B"
      },
      "source": [
        "batch_size = 5\n",
        "train_ds = df_to_dataset(train_dataset, batch_size=batch_size)"
      ],
      "execution_count": 10,
      "outputs": []
    },
    {
      "cell_type": "code",
      "metadata": {
        "colab": {
          "base_uri": "https://localhost:8080/"
        },
        "id": "pAuIQgYsMDvn",
        "outputId": "59bb9e53-4881-4060-e9f9-2158e06cbfe4"
      },
      "source": [
        "[(train_features, label_batch)] = train_ds.take(1)\n",
        "print('Every feature:', list(train_features.keys()))\n",
        "print('A batch of ages:', train_features['age'])\n",
        "print('A batch of targets:', label_batch )\n"
      ],
      "execution_count": 62,
      "outputs": [
        {
          "output_type": "stream",
          "text": [
            "Every feature: ['age', 'sex', 'bmi', 'children', 'smoker', 'region']\n",
            "A batch of ages: tf.Tensor(\n",
            "[54 30 51 19 30 23 19 19 19 20 51 19 21 25 40 51 27 48 18 50 39 24 52 31\n",
            " 42 19 64 60 49 19 56 47 23 52 18 29 60 21 37 64 59 47 53 34 19 52 50 44\n",
            " 22 41 35 38 45 50 60 19 39 41 59 23 21 27 29 46 50 22 18 25 18 21 24 48\n",
            " 29 27 20 61 57 43 64 34 39 26 55 30 43 33 60 26 46 57 56 64 61 40 55 22\n",
            " 62 57 21 18 45 21 58 20 24 49 21 63 64 48 51 57 34 40 34 31 62 50 19 57\n",
            " 27 19 31 56 57 44 35 18 58 64 28 49 18 52 63 54 25 24 29 64 35 32 51 32\n",
            " 46 41 34 19 33 54 62 22 56 63 48 54 37 33 38 43 54 49 58 55 47 58 45 38\n",
            " 41 45 34 31 47 47 36 57 23 40 26 52 31 45 39 43 27 18 43 49 19 53 53 49\n",
            " 33 43 24 36 48 18 21 35 28 27 57 51 56 25 19 62 37 38 53 19 22 19 55 20\n",
            " 54 26 20 39 25 23 47 34 53 33 46 52 61 44 51 47 23 57 41 27 49 33 38 37\n",
            " 20 23 41 61 37 19 31 24 62 48 50 22 52 23 59 45], shape=(256,), dtype=int64)\n",
            "A batch of targets: tf.Tensor(\n",
            "[25382.3   4149.74 47462.89 22493.66 17361.77  1826.84 18838.7  16450.89\n",
            " 36219.41  2459.72  9361.33  1256.3   1526.31  3227.12  6600.21  9880.07\n",
            "  3561.89 11015.17  2203.74  8444.47  8596.83 34472.84 12592.53  5327.4\n",
            "  6940.91 39722.75 27037.91 28923.14  9182.17 17748.51 10601.41 23065.42\n",
            "  2438.06 60021.4  12829.46  4433.39 13919.82  2007.95  6406.41 16455.71\n",
            " 12129.61 41676.08  9487.64  5002.78  1635.73 24869.84  9630.4   7731.43\n",
            "  2254.8   6571.02  5926.85  5976.83 42760.5   9048.03 12741.17 36898.73\n",
            " 21659.93  7265.7  12244.53  2789.06  1909.53 16420.49  4906.41 21677.28\n",
            " 10106.13 33907.55  7323.73  4391.65  1149.4   1534.3  17128.43 28468.92\n",
            " 16115.3   2483.74  1964.78 12574.05 20709.02  7337.75 16085.13  4500.34\n",
            "  6123.57  3410.32 12268.63 18259.22 21880.82 37079.37 46130.53 17043.34\n",
            "  8026.67 11576.13 11090.72 14692.67 13041.92  6986.7  13047.33 44501.4\n",
            " 28101.33 11554.22  3167.46  2203.47  7348.14  3279.87 24227.34 14711.74\n",
            " 25081.77  8703.46  2026.97 14451.84 46889.26  8280.62  9877.61 10965.45\n",
            "  6184.3   5920.1   4518.83  3756.62 13451.12  8835.26  1832.09 11356.66\n",
            "  2498.41  1242.26  5425.02 11658.38 11353.23  8891.14  4762.33  1719.44\n",
            " 11345.52 14410.93 20177.67 11552.9   2207.7   9625.92 47305.31 10435.07\n",
            "  3906.13  1986.93  4040.56 47928.03  6414.18  6334.34  9283.56  5148.55\n",
            "  8823.28  6781.35  4536.26  1639.56  5972.38 24476.48 45710.21  2155.68\n",
            " 11165.42 13887.97 40974.16 12495.29  6112.35 16776.3   6079.67  6837.37\n",
            " 25517.11 10269.46 13019.16 10807.49  8556.91 12222.9   8520.03  6373.56\n",
            "  7371.77  9101.8  14358.36  4239.89 20878.78  8534.67 37742.58 11830.61\n",
            "  4466.62  5438.75  2897.32 10197.77  4350.51  9095.07 40103.89  7325.05\n",
            " 15006.58 14133.04 18767.74 10264.44 34779.62 10579.71 23244.79  8116.68\n",
            "  5261.47  6250.44 12609.89 38709.18  9249.5   2198.19  3861.21  4746.34\n",
            "  2689.5  18310.74 10959.33  9957.72 11658.12  2721.32 24059.68 12979.36\n",
            "  6311.95  5488.26 11163.57  1639.56  2156.75  2710.83 10594.5   1391.53\n",
            " 10450.55  3201.25  2362.23  7201.7  17878.9   1824.29  8930.93 18972.5\n",
            " 10959.69  4890.   41661.6   9634.54 12557.61 46200.99  9264.8   8569.86\n",
            "  3597.6  12629.17  5699.84 39611.76  9290.14 11326.71  6457.84 19214.71\n",
            " 37465.34 10795.94  7256.72 29141.36  6686.43 16884.92  6113.23 35147.53\n",
            " 15019.76  8269.04 41919.1   3925.76 24667.42 34166.27 12323.94  7731.86], shape=(256,), dtype=float64)\n"
          ],
          "name": "stdout"
        }
      ]
    },
    {
      "cell_type": "code",
      "metadata": {
        "id": "X0XOqphV2fy8"
      },
      "source": [
        "def get_normalization_layer(name, dataset):\n",
        "  # Create a Normalization layer for our feature.\n",
        "  normalizer = preprocessing.Normalization()\n",
        "\n",
        "  # Prepare a Dataset that only yields our feature.\n",
        "  feature_ds = dataset.map(lambda x, y: x[name])\n",
        "\n",
        "  # Learn the statistics of the data.\n",
        "  normalizer.adapt(feature_ds)\n",
        "\n",
        "  return normalizer"
      ],
      "execution_count": 13,
      "outputs": []
    },
    {
      "cell_type": "code",
      "metadata": {
        "colab": {
          "base_uri": "https://localhost:8080/"
        },
        "id": "K7pujEWONM5-",
        "outputId": "9ec02d92-3a45-4318-f712-ac4eca0d40f3"
      },
      "source": [
        "photo_count_col = train_features['age']\n",
        "layer = get_normalization_layer('age', train_ds)\n",
        "layer(photo_count_col)"
      ],
      "execution_count": 18,
      "outputs": [
        {
          "output_type": "execute_result",
          "data": {
            "text/plain": [
              "<tf.Tensor: shape=(5, 1), dtype=float32, numpy=\n",
              "array([[-0.07332239],\n",
              "       [-1.4881986 ],\n",
              "       [-0.28555384],\n",
              "       [ 1.3415539 ],\n",
              "       [-1.4881986 ]], dtype=float32)>"
            ]
          },
          "metadata": {
            "tags": []
          },
          "execution_count": 18
        }
      ]
    },
    {
      "cell_type": "code",
      "metadata": {
        "id": "7nr41ors2ih9"
      },
      "source": [
        "def get_category_encoding_layer(name, dataset, dtype, max_tokens=None):\n",
        "  # Create a StringLookup layer which will turn strings into integer indices\n",
        "  if dtype == 'string':\n",
        "    index = preprocessing.StringLookup(max_tokens=max_tokens)\n",
        "  else:\n",
        "    index = preprocessing.IntegerLookup(max_values=max_tokens)\n",
        "\n",
        "  # Prepare a Dataset that only yields our feature\n",
        "  feature_ds = dataset.map(lambda x, y: x[name])\n",
        "\n",
        "  # Learn the set of possible values and assign them a fixed integer index.\n",
        "  index.adapt(feature_ds)\n",
        "\n",
        "  # Create a Discretization for our integer indices.\n",
        "  encoder = preprocessing.CategoryEncoding(max_tokens=index.vocab_size())\n",
        "\n",
        "  # Apply one-hot encoding to our indices. The lambda function captures the\n",
        "  # layer so we can use them, or include them in the functional model later.\n",
        "  return lambda feature: encoder(index(feature))"
      ],
      "execution_count": 45,
      "outputs": []
    },
    {
      "cell_type": "code",
      "metadata": {
        "colab": {
          "base_uri": "https://localhost:8080/"
        },
        "id": "8oaoVYBSNh-1",
        "outputId": "77e3377a-62ec-45af-f187-b76da39f7504"
      },
      "source": [
        "type_col = train_features['sex']\n",
        "layer = get_category_encoding_layer('sex', train_ds, 'string')\n",
        "layer(type_col)"
      ],
      "execution_count": 46,
      "outputs": [
        {
          "output_type": "execute_result",
          "data": {
            "text/plain": [
              "<tf.Tensor: shape=(5, 4), dtype=float32, numpy=\n",
              "array([[0., 0., 0., 1.],\n",
              "       [0., 0., 1., 0.],\n",
              "       [0., 0., 0., 1.],\n",
              "       [0., 0., 0., 1.],\n",
              "       [0., 0., 0., 1.]], dtype=float32)>"
            ]
          },
          "metadata": {
            "tags": []
          },
          "execution_count": 46
        }
      ]
    },
    {
      "cell_type": "code",
      "metadata": {
        "id": "2CFCZdl1OEnv"
      },
      "source": [
        "batch_size = 256\n",
        "train_ds = df_to_dataset(train_dataset, batch_size=batch_size)\n",
        "test_ds = df_to_dataset(test_dataset, shuffle=False, batch_size=batch_size)"
      ],
      "execution_count": 81,
      "outputs": []
    },
    {
      "cell_type": "code",
      "metadata": {
        "id": "vGyoPM0wQsXg"
      },
      "source": [
        "CATEGORICAL_COLUMNS = ['sex', 'smoker', 'region']\n",
        "NUMERIC_COLUMNS = ['age', 'bmi', 'children']\n",
        "\n",
        "all_inputs = []\n",
        "encoded_features = []\n",
        "\n",
        "# Numeric features.\n",
        "for header in NUMERIC_COLUMNS:\n",
        "  numeric_col = tf.keras.Input(shape=(1,), name=header)\n",
        "  normalization_layer = get_normalization_layer(header, train_ds)\n",
        "  encoded_numeric_col = normalization_layer(numeric_col)\n",
        "  all_inputs.append(numeric_col)\n",
        "  encoded_features.append(encoded_numeric_col)\n"
      ],
      "execution_count": 51,
      "outputs": []
    },
    {
      "cell_type": "code",
      "metadata": {
        "id": "7KZtCytj3XQc"
      },
      "source": [
        "# Categorical features encoded as string.\n",
        "for header in CATEGORICAL_COLUMNS:\n",
        "  categorical_col = tf.keras.Input(shape=(1,), name=header, dtype='string')\n",
        "  encoding_layer = get_category_encoding_layer(header, train_ds, dtype='string', max_tokens=5)\n",
        "  encoded_categorical_col = encoding_layer(categorical_col)\n",
        "  all_inputs.append(categorical_col)\n",
        "  encoded_features.append(encoded_categorical_col)"
      ],
      "execution_count": 52,
      "outputs": []
    },
    {
      "cell_type": "code",
      "metadata": {
        "colab": {
          "base_uri": "https://localhost:8080/"
        },
        "id": "ScjQgGG2SzsN",
        "outputId": "ef6b9aa8-305d-49ba-a2fb-9bef681e37a7"
      },
      "source": [
        "print(all_inputs)"
      ],
      "execution_count": 39,
      "outputs": [
        {
          "output_type": "stream",
          "text": [
            "[<KerasTensor: shape=(None, 1) dtype=float32 (created by layer 'age')>, <KerasTensor: shape=(None, 1) dtype=float32 (created by layer 'bmi')>, <KerasTensor: shape=(None, 1) dtype=float32 (created by layer 'children')>, <KerasTensor: shape=(None, 1) dtype=string (created by layer 'sex')>, <KerasTensor: shape=(None, 1) dtype=string (created by layer 'smoker')>, <KerasTensor: shape=(None, 1) dtype=string (created by layer 'region')>]\n"
          ],
          "name": "stdout"
        }
      ]
    },
    {
      "cell_type": "code",
      "metadata": {
        "colab": {
          "base_uri": "https://localhost:8080/"
        },
        "id": "gXRooYBZS792",
        "outputId": "25eb8acc-064a-4eed-f677-bf80bdbeca38"
      },
      "source": [
        "print(encoded_features)"
      ],
      "execution_count": 40,
      "outputs": [
        {
          "output_type": "stream",
          "text": [
            "[<KerasTensor: shape=(None, 1) dtype=float32 (created by layer 'normalization_6')>, <KerasTensor: shape=(None, 1) dtype=float32 (created by layer 'normalization_7')>, <KerasTensor: shape=(None, 1) dtype=float32 (created by layer 'normalization_8')>, <KerasTensor: shape=(None, 4) dtype=float32 (created by layer 'category_encoding_7')>, <KerasTensor: shape=(None, 4) dtype=float32 (created by layer 'category_encoding_8')>, <KerasTensor: shape=(None, 5) dtype=float32 (created by layer 'category_encoding_9')>]\n"
          ],
          "name": "stdout"
        }
      ]
    },
    {
      "cell_type": "code",
      "metadata": {
        "colab": {
          "base_uri": "https://localhost:8080/"
        },
        "id": "wf_scoUrTTYV",
        "outputId": "c036dea1-d178-4f0e-ddc2-17d0b1b98cb4"
      },
      "source": [
        "all_features = tf.keras.layers.concatenate(encoded_features)\n",
        "print(all_features)\n"
      ],
      "execution_count": 41,
      "outputs": [
        {
          "output_type": "stream",
          "text": [
            "KerasTensor(type_spec=TensorSpec(shape=(None, 16), dtype=tf.float32, name=None), name='concatenate_3/concat:0', description=\"created by layer 'concatenate_3'\")\n"
          ],
          "name": "stdout"
        }
      ]
    },
    {
      "cell_type": "code",
      "metadata": {
        "id": "YrN9aHy4aXTS"
      },
      "source": [
        "all_features = tf.keras.layers.concatenate(encoded_features)\n",
        "x = tf.keras.layers.Dense(128, activation=\"relu\")(all_features)\n",
        "x = tf.keras.layers.Dropout(0.5)(x)\n",
        "output = tf.keras.layers.Dense(1)(x)\n",
        "model = tf.keras.Model(all_inputs, output)\n",
        "\n",
        "model.compile(optimizer=tf.optimizers.Adam(learning_rate=0.1),\n",
        "              loss=\"mse\",\n",
        "              metrics=[\"mae\"])"
      ],
      "execution_count": 112,
      "outputs": []
    },
    {
      "cell_type": "code",
      "metadata": {
        "colab": {
          "base_uri": "https://localhost:8080/",
          "height": 348
        },
        "id": "Q8lqMe9eQWWl",
        "outputId": "a81713c4-51dc-4945-eddf-5e580b595770"
      },
      "source": [
        "# rankdir='LR' is used to make the graph horizontal.\n",
        "tf.keras.utils.plot_model(model, show_shapes=True, rankdir=\"LR\")"
      ],
      "execution_count": 108,
      "outputs": [
        {
          "output_type": "execute_result",
          "data": {
            "image/png": "[encoded data removed]",
            "text/plain": [
              "<IPython.core.display.Image object>"
            ]
          },
          "metadata": {
            "tags": []
          },
          "execution_count": 108
        }
      ]
    },
    {
      "cell_type": "code",
      "metadata": {
        "id": "WLXKRlc0dwPH"
      },
      "source": [
        "# train_ds_x = train_ds.map(lambda x, y : x)\n",
        "# train_ds_y = train_ds.map(lambda x, y : y)\n",
        "\n",
        "# print(train_ds_x)\n",
        "# print(train_ds_y)"
      ],
      "execution_count": 65,
      "outputs": []
    },
    {
      "cell_type": "code",
      "metadata": {
        "colab": {
          "base_uri": "https://localhost:8080/"
        },
        "id": "b8FJ6eo0QeTe",
        "outputId": "48e3be69-2868-468a-9b16-af4455f561e5"
      },
      "source": [
        "\n",
        "model.fit(train_ds, epochs=100)\n"
      ],
      "execution_count": 114,
      "outputs": [
        {
          "output_type": "stream",
          "text": [
            "Epoch 1/100\n",
            "5/5 [==============================] - 0s 5ms/step - loss: 68478544.0000 - mae: 5967.4658\n",
            "Epoch 2/100\n",
            "5/5 [==============================] - 0s 5ms/step - loss: 61681408.0000 - mae: 5753.2739\n",
            "Epoch 3/100\n",
            "5/5 [==============================] - 0s 4ms/step - loss: 55592684.0000 - mae: 5497.8623\n",
            "Epoch 4/100\n",
            "5/5 [==============================] - 0s 5ms/step - loss: 54500940.0000 - mae: 5415.4136\n",
            "Epoch 5/100\n",
            "5/5 [==============================] - 0s 4ms/step - loss: 49746108.0000 - mae: 5167.4917\n",
            "Epoch 6/100\n",
            "5/5 [==============================] - 0s 4ms/step - loss: 46726852.0000 - mae: 4872.6431\n",
            "Epoch 7/100\n",
            "5/5 [==============================] - 0s 4ms/step - loss: 44282788.0000 - mae: 4649.1504\n",
            "Epoch 8/100\n",
            "5/5 [==============================] - 0s 5ms/step - loss: 40770040.0000 - mae: 4362.0566\n",
            "Epoch 9/100\n",
            "5/5 [==============================] - 0s 4ms/step - loss: 39009904.0000 - mae: 4316.6724\n",
            "Epoch 10/100\n",
            "5/5 [==============================] - 0s 5ms/step - loss: 39327672.0000 - mae: 4336.8975\n",
            "Epoch 11/100\n",
            "5/5 [==============================] - 0s 4ms/step - loss: 38731380.0000 - mae: 4236.6494\n",
            "Epoch 12/100\n",
            "5/5 [==============================] - 0s 6ms/step - loss: 37063956.0000 - mae: 4137.5938\n",
            "Epoch 13/100\n",
            "5/5 [==============================] - 0s 5ms/step - loss: 35812400.0000 - mae: 3997.3748\n",
            "Epoch 14/100\n",
            "5/5 [==============================] - 0s 5ms/step - loss: 35937396.0000 - mae: 3982.8552\n",
            "Epoch 15/100\n",
            "5/5 [==============================] - 0s 4ms/step - loss: 33613156.0000 - mae: 3833.8438\n",
            "Epoch 16/100\n",
            "5/5 [==============================] - 0s 6ms/step - loss: 33901264.0000 - mae: 3837.3594\n",
            "Epoch 17/100\n",
            "5/5 [==============================] - 0s 4ms/step - loss: 33940612.0000 - mae: 3784.8772\n",
            "Epoch 18/100\n",
            "5/5 [==============================] - 0s 4ms/step - loss: 34246416.0000 - mae: 3750.1345\n",
            "Epoch 19/100\n",
            "5/5 [==============================] - 0s 4ms/step - loss: 33562180.0000 - mae: 3738.7722\n",
            "Epoch 20/100\n",
            "5/5 [==============================] - 0s 5ms/step - loss: 33245352.0000 - mae: 3704.9128\n",
            "Epoch 21/100\n",
            "5/5 [==============================] - 0s 4ms/step - loss: 33024598.0000 - mae: 3702.5728\n",
            "Epoch 22/100\n",
            "5/5 [==============================] - 0s 4ms/step - loss: 32711070.0000 - mae: 3694.5122\n",
            "Epoch 23/100\n",
            "5/5 [==============================] - 0s 4ms/step - loss: 31632318.0000 - mae: 3602.9810\n",
            "Epoch 24/100\n",
            "5/5 [==============================] - 0s 4ms/step - loss: 32397518.0000 - mae: 3614.8113\n",
            "Epoch 25/100\n",
            "5/5 [==============================] - 0s 4ms/step - loss: 31032658.0000 - mae: 3484.5566\n",
            "Epoch 26/100\n",
            "5/5 [==============================] - 0s 5ms/step - loss: 31636068.0000 - mae: 3486.6772\n",
            "Epoch 27/100\n",
            "5/5 [==============================] - 0s 5ms/step - loss: 30742352.0000 - mae: 3448.4014\n",
            "Epoch 28/100\n",
            "5/5 [==============================] - 0s 4ms/step - loss: 29704276.0000 - mae: 3458.8137\n",
            "Epoch 29/100\n",
            "5/5 [==============================] - 0s 4ms/step - loss: 31015836.0000 - mae: 3553.6846\n",
            "Epoch 30/100\n",
            "5/5 [==============================] - 0s 4ms/step - loss: 30619956.0000 - mae: 3557.9790\n",
            "Epoch 31/100\n",
            "5/5 [==============================] - 0s 4ms/step - loss: 32036966.0000 - mae: 3609.7310\n",
            "Epoch 32/100\n",
            "5/5 [==============================] - 0s 4ms/step - loss: 30808512.0000 - mae: 3494.3313\n",
            "Epoch 33/100\n",
            "5/5 [==============================] - 0s 4ms/step - loss: 28825060.0000 - mae: 3371.5103\n",
            "Epoch 34/100\n",
            "5/5 [==============================] - 0s 4ms/step - loss: 30355102.0000 - mae: 3380.3215\n",
            "Epoch 35/100\n",
            "5/5 [==============================] - 0s 4ms/step - loss: 29986382.0000 - mae: 3364.4592\n",
            "Epoch 36/100\n",
            "5/5 [==============================] - 0s 5ms/step - loss: 29501430.0000 - mae: 3350.9026\n",
            "Epoch 37/100\n",
            "5/5 [==============================] - 0s 5ms/step - loss: 29385036.0000 - mae: 3382.2373\n",
            "Epoch 38/100\n",
            "5/5 [==============================] - 0s 4ms/step - loss: 27304112.0000 - mae: 3237.8613\n",
            "Epoch 39/100\n",
            "5/5 [==============================] - 0s 4ms/step - loss: 29222438.0000 - mae: 3316.3940\n",
            "Epoch 40/100\n",
            "5/5 [==============================] - 0s 4ms/step - loss: 28422234.0000 - mae: 3271.6680\n",
            "Epoch 41/100\n",
            "5/5 [==============================] - 0s 5ms/step - loss: 28500732.0000 - mae: 3237.1094\n",
            "Epoch 42/100\n",
            "5/5 [==============================] - 0s 4ms/step - loss: 29783266.0000 - mae: 3225.1240\n",
            "Epoch 43/100\n",
            "5/5 [==============================] - 0s 7ms/step - loss: 27923834.0000 - mae: 3169.6240\n",
            "Epoch 44/100\n",
            "5/5 [==============================] - 0s 5ms/step - loss: 29195828.0000 - mae: 3361.1960\n",
            "Epoch 45/100\n",
            "5/5 [==============================] - 0s 4ms/step - loss: 28946798.0000 - mae: 3312.1353\n",
            "Epoch 46/100\n",
            "5/5 [==============================] - 0s 4ms/step - loss: 29019618.0000 - mae: 3272.5115\n",
            "Epoch 47/100\n",
            "5/5 [==============================] - 0s 4ms/step - loss: 28850804.0000 - mae: 3279.3403\n",
            "Epoch 48/100\n",
            "5/5 [==============================] - 0s 4ms/step - loss: 28338268.0000 - mae: 3272.2827\n",
            "Epoch 49/100\n",
            "5/5 [==============================] - 0s 4ms/step - loss: 27368972.0000 - mae: 3156.1716\n",
            "Epoch 50/100\n",
            "5/5 [==============================] - 0s 4ms/step - loss: 27057586.0000 - mae: 3207.1047\n",
            "Epoch 51/100\n",
            "5/5 [==============================] - 0s 4ms/step - loss: 28454906.0000 - mae: 3318.4697\n",
            "Epoch 52/100\n",
            "5/5 [==============================] - 0s 4ms/step - loss: 26691650.0000 - mae: 3298.3704\n",
            "Epoch 53/100\n",
            "5/5 [==============================] - 0s 4ms/step - loss: 28086566.0000 - mae: 3357.4248\n",
            "Epoch 54/100\n",
            "5/5 [==============================] - 0s 5ms/step - loss: 26570154.0000 - mae: 3227.5938\n",
            "Epoch 55/100\n",
            "5/5 [==============================] - 0s 3ms/step - loss: 26957782.0000 - mae: 3164.7139\n",
            "Epoch 56/100\n",
            "5/5 [==============================] - 0s 6ms/step - loss: 28090016.0000 - mae: 3205.7212\n",
            "Epoch 57/100\n",
            "5/5 [==============================] - 0s 4ms/step - loss: 27125776.0000 - mae: 3145.0549\n",
            "Epoch 58/100\n",
            "5/5 [==============================] - 0s 4ms/step - loss: 25600862.0000 - mae: 3088.1636\n",
            "Epoch 59/100\n",
            "5/5 [==============================] - 0s 5ms/step - loss: 26087110.0000 - mae: 3169.8020\n",
            "Epoch 60/100\n",
            "5/5 [==============================] - 0s 4ms/step - loss: 26974224.0000 - mae: 3193.6118\n",
            "Epoch 61/100\n",
            "5/5 [==============================] - 0s 4ms/step - loss: 26771050.0000 - mae: 3167.7075\n",
            "Epoch 62/100\n",
            "5/5 [==============================] - 0s 4ms/step - loss: 26897070.0000 - mae: 3227.5103\n",
            "Epoch 63/100\n",
            "5/5 [==============================] - 0s 4ms/step - loss: 27142858.0000 - mae: 3132.9146\n",
            "Epoch 64/100\n",
            "5/5 [==============================] - 0s 4ms/step - loss: 26100742.0000 - mae: 3043.2473\n",
            "Epoch 65/100\n",
            "5/5 [==============================] - 0s 4ms/step - loss: 25883714.0000 - mae: 3102.2009\n",
            "Epoch 66/100\n",
            "5/5 [==============================] - 0s 4ms/step - loss: 26461036.0000 - mae: 3076.3062\n",
            "Epoch 67/100\n",
            "5/5 [==============================] - 0s 4ms/step - loss: 26059692.0000 - mae: 3091.5681\n",
            "Epoch 68/100\n",
            "5/5 [==============================] - 0s 4ms/step - loss: 25412000.0000 - mae: 3073.3452\n",
            "Epoch 69/100\n",
            "5/5 [==============================] - 0s 4ms/step - loss: 26535016.0000 - mae: 3182.9048\n",
            "Epoch 70/100\n",
            "5/5 [==============================] - 0s 7ms/step - loss: 26291398.0000 - mae: 3095.1958\n",
            "Epoch 71/100\n",
            "5/5 [==============================] - 0s 4ms/step - loss: 27387108.0000 - mae: 3104.8994\n",
            "Epoch 72/100\n",
            "5/5 [==============================] - 0s 4ms/step - loss: 26572634.0000 - mae: 2997.4854\n",
            "Epoch 73/100\n",
            "5/5 [==============================] - 0s 4ms/step - loss: 27104794.0000 - mae: 3110.2898\n",
            "Epoch 74/100\n",
            "5/5 [==============================] - 0s 6ms/step - loss: 25591088.0000 - mae: 3086.1426\n",
            "Epoch 75/100\n",
            "5/5 [==============================] - 0s 4ms/step - loss: 27039038.0000 - mae: 3227.4080\n",
            "Epoch 76/100\n",
            "5/5 [==============================] - 0s 5ms/step - loss: 25630482.0000 - mae: 3167.5234\n",
            "Epoch 77/100\n",
            "5/5 [==============================] - 0s 4ms/step - loss: 25463162.0000 - mae: 3051.5911\n",
            "Epoch 78/100\n",
            "5/5 [==============================] - 0s 4ms/step - loss: 25574566.0000 - mae: 3067.7896\n",
            "Epoch 79/100\n",
            "5/5 [==============================] - 0s 5ms/step - loss: 26024514.0000 - mae: 3048.5854\n",
            "Epoch 80/100\n",
            "5/5 [==============================] - 0s 4ms/step - loss: 25434016.0000 - mae: 3055.6233\n",
            "Epoch 81/100\n",
            "5/5 [==============================] - 0s 4ms/step - loss: 25320152.0000 - mae: 3129.4797\n",
            "Epoch 82/100\n",
            "5/5 [==============================] - 0s 4ms/step - loss: 25797928.0000 - mae: 3166.1472\n",
            "Epoch 83/100\n",
            "5/5 [==============================] - 0s 5ms/step - loss: 25064706.0000 - mae: 3034.1614\n",
            "Epoch 84/100\n",
            "5/5 [==============================] - 0s 4ms/step - loss: 25169022.0000 - mae: 3034.3091\n",
            "Epoch 85/100\n",
            "5/5 [==============================] - 0s 4ms/step - loss: 25882530.0000 - mae: 3098.0044\n",
            "Epoch 86/100\n",
            "5/5 [==============================] - 0s 4ms/step - loss: 26505426.0000 - mae: 3192.8396\n",
            "Epoch 87/100\n",
            "5/5 [==============================] - 0s 4ms/step - loss: 25682028.0000 - mae: 3109.0037\n",
            "Epoch 88/100\n",
            "5/5 [==============================] - 0s 4ms/step - loss: 25260992.0000 - mae: 3059.5032\n",
            "Epoch 89/100\n",
            "5/5 [==============================] - 0s 5ms/step - loss: 24486830.0000 - mae: 2941.5193\n",
            "Epoch 90/100\n",
            "5/5 [==============================] - 0s 5ms/step - loss: 25680108.0000 - mae: 2975.6248\n",
            "Epoch 91/100\n",
            "5/5 [==============================] - 0s 4ms/step - loss: 25468182.0000 - mae: 2977.8396\n",
            "Epoch 92/100\n",
            "5/5 [==============================] - 0s 4ms/step - loss: 26284674.0000 - mae: 3074.2937\n",
            "Epoch 93/100\n",
            "5/5 [==============================] - 0s 4ms/step - loss: 25780610.0000 - mae: 3108.6541\n",
            "Epoch 94/100\n",
            "5/5 [==============================] - 0s 4ms/step - loss: 26221892.0000 - mae: 3027.4626\n",
            "Epoch 95/100\n",
            "5/5 [==============================] - 0s 4ms/step - loss: 25162138.0000 - mae: 3019.8291\n",
            "Epoch 96/100\n",
            "5/5 [==============================] - 0s 4ms/step - loss: 25206356.0000 - mae: 3053.3323\n",
            "Epoch 97/100\n",
            "5/5 [==============================] - 0s 4ms/step - loss: 23780800.0000 - mae: 2918.8491\n",
            "Epoch 98/100\n",
            "5/5 [==============================] - 0s 4ms/step - loss: 24884986.0000 - mae: 3006.4580\n",
            "Epoch 99/100\n",
            "5/5 [==============================] - 0s 4ms/step - loss: 24668180.0000 - mae: 3021.4780\n",
            "Epoch 100/100\n",
            "5/5 [==============================] - 0s 4ms/step - loss: 23943060.0000 - mae: 3000.4429\n"
          ],
          "name": "stdout"
        },
        {
          "output_type": "execute_result",
          "data": {
            "text/plain": [
              "<tensorflow.python.keras.callbacks.History at 0x7f01ec11f850>"
            ]
          },
          "metadata": {
            "tags": []
          },
          "execution_count": 114
        }
      ]
    },
    {
      "cell_type": "code",
      "metadata": {
        "colab": {
          "base_uri": "https://localhost:8080/"
        },
        "id": "vwrp0UJ4Qp9F",
        "outputId": "b2601314-8455-462b-f761-1c75cf7a306d"
      },
      "source": [
        "loss, accuracy = model.evaluate(test_ds)\n",
        "print(\"Accuracy\", accuracy)"
      ],
      "execution_count": 115,
      "outputs": [
        {
          "output_type": "stream",
          "text": [
            "2/2 [==============================] - 0s 8ms/step - loss: 33786660.0000 - mae: 3359.9141\n",
            "Accuracy 3359.9140625\n"
          ],
          "name": "stdout"
        }
      ]
    },
    {
      "cell_type": "code",
      "metadata": {
        "id": "CeUaJ1iphdc-"
      },
      "source": [
        "\n",
        "test_features = test_ds.map(lambda x, y: x)\n",
        "test_features = test_features.as_numpy_iterator()\n",
        "test_features = list(test_features)[0]\n",
        "# print(len(test_features))\n",
        "# print(test_features)\n",
        "\n",
        "test_labels = test_ds.map(lambda x, y: y)\n",
        "test_labels = test_labels.as_numpy_iterator()\n",
        "test_labels = list(test_labels)[0]\n",
        "# print(len(test_labels))\n",
        "# print(test_labels)\n"
      ],
      "execution_count": 116,
      "outputs": []
    },
    {
      "cell_type": "code",
      "metadata": {
        "id": "Xe7RXH3N3CWU",
        "colab": {
          "base_uri": "https://localhost:8080/",
          "height": 339
        },
        "outputId": "d1e1874a-5c23-4c5e-9d0b-536b868a2360"
      },
      "source": [
        "# RUN THIS CELL TO TEST YOUR MODEL. DO NOT MODIFY CONTENTS.\n",
        "# Test model by checking how well the model generalizes using the test set.\n",
        "loss, mae = model.evaluate(test_features, test_labels, verbose=2)\n",
        "\n",
        "print(\"Testing set Mean Abs Error: {:5.2f} expenses\".format(mae))\n",
        "\n",
        "if mae < 3500:\n",
        "  print(\"You passed the challenge. Great job!\")\n",
        "else:\n",
        "  print(\"The Mean Abs Error must be less than 3500. Keep trying.\")\n",
        "\n",
        "# Plot predictions.\n",
        "test_predictions = model.predict(test_features).flatten()\n",
        "\n",
        "a = plt.axes(aspect='equal')\n",
        "plt.scatter(test_labels, test_predictions)\n",
        "plt.xlabel('True values (expenses)')\n",
        "plt.ylabel('Predictions (expenses)')\n",
        "lims = [0, 50000]\n",
        "plt.xlim(lims)\n",
        "plt.ylim(lims)\n",
        "_ = plt.plot(lims,lims)\n"
      ],
      "execution_count": 117,
      "outputs": [
        {
          "output_type": "stream",
          "text": [
            "8/8 - 0s - loss: 30399724.0000 - mae: 3241.5977\n",
            "Testing set Mean Abs Error: 3241.60 expenses\n",
            "You passed the challenge. Great job!\n"
          ],
          "name": "stdout"
        },
        {
          "output_type": "display_data",
          "data": {
            "image/png": "[encoded data removed]",
            "text/plain": [
              "<Figure size 432x288 with 1 Axes>"
            ]
          },
          "metadata": {
            "tags": [],
            "needs_background": "light"
          }
        }
      ]
    }
  ]
}