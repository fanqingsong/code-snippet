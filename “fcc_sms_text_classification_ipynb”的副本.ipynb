{
  "nbformat": 4,
  "nbformat_minor": 0,
  "metadata": {
    "colab": {
      "name": "“fcc_sms_text_classification.ipynb”的副本",
      "provenance": [],
      "collapsed_sections": [],
      "include_colab_link": true
    },
    "kernelspec": {
      "display_name": "Python 3",
      "name": "python3"
    }
  },
  "cells": [
    {
      "cell_type": "markdown",
      "metadata": {
        "id": "view-in-github",
        "colab_type": "text"
      },
      "source": [
        "<a href=\"https://colab.research.google.com/github/fanqingsong/code_snippet/blob/master/%E2%80%9Cfcc_sms_text_classification_ipynb%E2%80%9D%E7%9A%84%E5%89%AF%E6%9C%AC.ipynb\" target=\"_parent\"><img src=\"https://colab.research.google.com/assets/colab-badge.svg\" alt=\"Open In Colab\"/></a>"
      ]
    },
    {
      "cell_type": "markdown",
      "metadata": {
        "id": "Eg62Pmz3o83v"
      },
      "source": [
        "*Note: You are currently reading this using Google Colaboratory which is a cloud-hosted version of Jupyter Notebook. This is a document containing both text cells for documentation and runnable code cells. If you are unfamiliar with Jupyter Notebook, watch this 3-minute introduction before starting this challenge: https://www.youtube.com/watch?v=inN8seMm7UI*\n",
        "\n",
        "---\n",
        "\n",
        "In this challenge, you need to create a machine learning model that will classify SMS messages as either \"ham\" or \"spam\". A \"ham\" message is a normal message sent by a friend. A \"spam\" message is an advertisement or a message sent by a company.\n",
        "\n",
        "You should create a function called `predict_message` that takes a message string as an argument and returns a list. The first element in the list should be a number between zero and one that indicates the likeliness of \"ham\" (0) or \"spam\" (1). The second element in the list should be the word \"ham\" or \"spam\", depending on which is most likely.\n",
        "\n",
        "For this challenge, you will use the [SMS Spam Collection dataset](http://www.dt.fee.unicamp.br/~tiago/smsspamcollection/). The dataset has already been grouped into train data and test data.\n",
        "\n",
        "The first two cells import the libraries and data. The final cell tests your model and function. Add your code in between these cells.\n"
      ]
    },
    {
      "cell_type": "code",
      "metadata": {
        "colab": {
          "base_uri": "https://localhost:8080/"
        },
        "id": "8RZOuS9LWQvv",
        "outputId": "111b9c64-94f3-45d1-c666-fa3d023338f8"
      },
      "source": [
        "# import libraries\n",
        "try:\n",
        "  # %tensorflow_version only exists in Colab.\n",
        "  !pip install tf-nightly\n",
        "except Exception:\n",
        "  pass\n",
        "import tensorflow as tf\n",
        "import pandas as pd\n",
        "from tensorflow import keras\n",
        "!pip install tensorflow-datasets\n",
        "import tensorflow_datasets as tfds\n",
        "import numpy as np\n",
        "import matplotlib.pyplot as plt\n",
        "\n",
        "print(tf.__version__)"
      ],
      "execution_count": null,
      "outputs": [
        {
          "output_type": "stream",
          "text": [
            "Collecting tf-nightly\n",
            "\u001b[?25l  Downloading https://files.pythonhosted.org/packages/5d/62/a332d79e58be417deead8f90e3facb4b24829bc9c9d86a854e85303c6972/tf_nightly-2.6.0.dev20210510-cp37-cp37m-manylinux2010_x86_64.whl (453.2MB)\n",
            "\u001b[K     |████████████████████████████████| 453.2MB 30kB/s \n",
            "\u001b[?25hRequirement already satisfied: keras-preprocessing~=1.1.2 in /usr/local/lib/python3.7/dist-packages (from tf-nightly) (1.1.2)\n",
            "Requirement already satisfied: six~=1.15.0 in /usr/local/lib/python3.7/dist-packages (from tf-nightly) (1.15.0)\n",
            "Collecting grpcio<2.0,>=1.37.0\n",
            "\u001b[?25l  Downloading https://files.pythonhosted.org/packages/31/d8/1bfe90cc49c166dd2ec1be46fa4830c254ce702004a110830c74ec1df0c0/grpcio-1.37.1-cp37-cp37m-manylinux2014_x86_64.whl (4.2MB)\n",
            "\u001b[K     |████████████████████████████████| 4.2MB 27.5MB/s \n",
            "\u001b[?25hRequirement already satisfied: typing-extensions~=3.7.4 in /usr/local/lib/python3.7/dist-packages (from tf-nightly) (3.7.4.3)\n",
            "Requirement already satisfied: google-pasta~=0.2 in /usr/local/lib/python3.7/dist-packages (from tf-nightly) (0.2.0)\n",
            "Collecting tf-estimator-nightly~=2.5.0.dev\n",
            "\u001b[?25l  Downloading https://files.pythonhosted.org/packages/24/6c/9bf4a6004d18c8e543845d3416e50f36dd09d272161e2fb0db5678132dfd/tf_estimator_nightly-2.5.0.dev2021032601-py2.py3-none-any.whl (462kB)\n",
            "\u001b[K     |████████████████████████████████| 471kB 38.3MB/s \n",
            "\u001b[?25hRequirement already satisfied: wrapt~=1.12.1 in /usr/local/lib/python3.7/dist-packages (from tf-nightly) (1.12.1)\n",
            "Requirement already satisfied: opt-einsum~=3.3.0 in /usr/local/lib/python3.7/dist-packages (from tf-nightly) (3.3.0)\n",
            "Collecting tb-nightly~=2.6.0.a\n",
            "\u001b[?25l  Downloading https://files.pythonhosted.org/packages/0e/f5/0d3278b71d9524f8bd62fd137f041731b09c13d7a31cd8397300edb0426e/tb_nightly-2.6.0a20210510-py3-none-any.whl (5.9MB)\n",
            "\u001b[K     |████████████████████████████████| 5.9MB 31.8MB/s \n",
            "\u001b[?25hRequirement already satisfied: flatbuffers~=1.12.0 in /usr/local/lib/python3.7/dist-packages (from tf-nightly) (1.12)\n",
            "Requirement already satisfied: absl-py~=0.10 in /usr/local/lib/python3.7/dist-packages (from tf-nightly) (0.12.0)\n",
            "Requirement already satisfied: protobuf>=3.9.2 in /usr/local/lib/python3.7/dist-packages (from tf-nightly) (3.12.4)\n",
            "Requirement already satisfied: astunparse~=1.6.3 in /usr/local/lib/python3.7/dist-packages (from tf-nightly) (1.6.3)\n",
            "Requirement already satisfied: numpy~=1.19.2 in /usr/local/lib/python3.7/dist-packages (from tf-nightly) (1.19.5)\n",
            "Collecting h5py~=3.1.0\n",
            "\u001b[?25l  Downloading https://files.pythonhosted.org/packages/9d/74/9eae2bedd8201ab464308f42c601a12d79727a1c87f0c867fdefb212c6cf/h5py-3.1.0-cp37-cp37m-manylinux1_x86_64.whl (4.0MB)\n",
            "\u001b[K     |████████████████████████████████| 4.0MB 30.9MB/s \n",
            "\u001b[?25hRequirement already satisfied: wheel~=0.35 in /usr/local/lib/python3.7/dist-packages (from tf-nightly) (0.36.2)\n",
            "Collecting gast==0.4.0\n",
            "  Downloading https://files.pythonhosted.org/packages/b6/48/583c032b79ae5b3daa02225a675aeb673e58d2cb698e78510feceb11958c/gast-0.4.0-py3-none-any.whl\n",
            "Collecting keras-nightly~=2.6.0.dev\n",
            "\u001b[?25l  Downloading https://files.pythonhosted.org/packages/17/38/8824c16d0bad4181f4c64b27a4c0d96c061e0317688af9afdad8643fb559/keras_nightly-2.6.0.dev2021050600-py2.py3-none-any.whl (1.3MB)\n",
            "\u001b[K     |████████████████████████████████| 1.3MB 30.8MB/s \n",
            "\u001b[?25hRequirement already satisfied: termcolor~=1.1.0 in /usr/local/lib/python3.7/dist-packages (from tf-nightly) (1.1.0)\n",
            "Requirement already satisfied: markdown>=2.6.8 in /usr/local/lib/python3.7/dist-packages (from tb-nightly~=2.6.0.a->tf-nightly) (3.3.4)\n",
            "Collecting tensorboard-data-server<0.7.0,>=0.6.0\n",
            "\u001b[?25l  Downloading https://files.pythonhosted.org/packages/60/f9/802efd84988bffd9f644c03b6e66fde8e76c3aa33db4279ddd11c5d61f4b/tensorboard_data_server-0.6.1-py3-none-manylinux2010_x86_64.whl (4.9MB)\n",
            "\u001b[K     |████████████████████████████████| 4.9MB 26.7MB/s \n",
            "\u001b[?25hRequirement already satisfied: tensorboard-plugin-wit>=1.6.0 in /usr/local/lib/python3.7/dist-packages (from tb-nightly~=2.6.0.a->tf-nightly) (1.8.0)\n",
            "Requirement already satisfied: werkzeug>=0.11.15 in /usr/local/lib/python3.7/dist-packages (from tb-nightly~=2.6.0.a->tf-nightly) (1.0.1)\n",
            "Requirement already satisfied: requests<3,>=2.21.0 in /usr/local/lib/python3.7/dist-packages (from tb-nightly~=2.6.0.a->tf-nightly) (2.23.0)\n",
            "Requirement already satisfied: google-auth<2,>=1.6.3 in /usr/local/lib/python3.7/dist-packages (from tb-nightly~=2.6.0.a->tf-nightly) (1.28.1)\n",
            "Requirement already satisfied: setuptools>=41.0.0 in /usr/local/lib/python3.7/dist-packages (from tb-nightly~=2.6.0.a->tf-nightly) (56.1.0)\n",
            "Requirement already satisfied: google-auth-oauthlib<0.5,>=0.4.1 in /usr/local/lib/python3.7/dist-packages (from tb-nightly~=2.6.0.a->tf-nightly) (0.4.4)\n",
            "Collecting cached-property; python_version < \"3.8\"\n",
            "  Downloading https://files.pythonhosted.org/packages/48/19/f2090f7dad41e225c7f2326e4cfe6fff49e57dedb5b53636c9551f86b069/cached_property-1.5.2-py2.py3-none-any.whl\n",
            "Requirement already satisfied: importlib-metadata; python_version < \"3.8\" in /usr/local/lib/python3.7/dist-packages (from markdown>=2.6.8->tb-nightly~=2.6.0.a->tf-nightly) (3.10.1)\n",
            "Requirement already satisfied: certifi>=2017.4.17 in /usr/local/lib/python3.7/dist-packages (from requests<3,>=2.21.0->tb-nightly~=2.6.0.a->tf-nightly) (2020.12.5)\n",
            "Requirement already satisfied: idna<3,>=2.5 in /usr/local/lib/python3.7/dist-packages (from requests<3,>=2.21.0->tb-nightly~=2.6.0.a->tf-nightly) (2.10)\n",
            "Requirement already satisfied: urllib3!=1.25.0,!=1.25.1,<1.26,>=1.21.1 in /usr/local/lib/python3.7/dist-packages (from requests<3,>=2.21.0->tb-nightly~=2.6.0.a->tf-nightly) (1.24.3)\n",
            "Requirement already satisfied: chardet<4,>=3.0.2 in /usr/local/lib/python3.7/dist-packages (from requests<3,>=2.21.0->tb-nightly~=2.6.0.a->tf-nightly) (3.0.4)\n",
            "Requirement already satisfied: cachetools<5.0,>=2.0.0 in /usr/local/lib/python3.7/dist-packages (from google-auth<2,>=1.6.3->tb-nightly~=2.6.0.a->tf-nightly) (4.2.1)\n",
            "Requirement already satisfied: pyasn1-modules>=0.2.1 in /usr/local/lib/python3.7/dist-packages (from google-auth<2,>=1.6.3->tb-nightly~=2.6.0.a->tf-nightly) (0.2.8)\n",
            "Requirement already satisfied: rsa<5,>=3.1.4; python_version >= \"3.6\" in /usr/local/lib/python3.7/dist-packages (from google-auth<2,>=1.6.3->tb-nightly~=2.6.0.a->tf-nightly) (4.7.2)\n",
            "Requirement already satisfied: requests-oauthlib>=0.7.0 in /usr/local/lib/python3.7/dist-packages (from google-auth-oauthlib<0.5,>=0.4.1->tb-nightly~=2.6.0.a->tf-nightly) (1.3.0)\n",
            "Requirement already satisfied: zipp>=0.5 in /usr/local/lib/python3.7/dist-packages (from importlib-metadata; python_version < \"3.8\"->markdown>=2.6.8->tb-nightly~=2.6.0.a->tf-nightly) (3.4.1)\n",
            "Requirement already satisfied: pyasn1<0.5.0,>=0.4.6 in /usr/local/lib/python3.7/dist-packages (from pyasn1-modules>=0.2.1->google-auth<2,>=1.6.3->tb-nightly~=2.6.0.a->tf-nightly) (0.4.8)\n",
            "Requirement already satisfied: oauthlib>=3.0.0 in /usr/local/lib/python3.7/dist-packages (from requests-oauthlib>=0.7.0->google-auth-oauthlib<0.5,>=0.4.1->tb-nightly~=2.6.0.a->tf-nightly) (3.1.0)\n",
            "\u001b[31mERROR: tensorflow 2.4.1 has requirement gast==0.3.3, but you'll have gast 0.4.0 which is incompatible.\u001b[0m\n",
            "\u001b[31mERROR: tensorflow 2.4.1 has requirement grpcio~=1.32.0, but you'll have grpcio 1.37.1 which is incompatible.\u001b[0m\n",
            "\u001b[31mERROR: tensorflow 2.4.1 has requirement h5py~=2.10.0, but you'll have h5py 3.1.0 which is incompatible.\u001b[0m\n",
            "Installing collected packages: grpcio, tf-estimator-nightly, tensorboard-data-server, tb-nightly, cached-property, h5py, gast, keras-nightly, tf-nightly\n",
            "  Found existing installation: grpcio 1.32.0\n",
            "    Uninstalling grpcio-1.32.0:\n",
            "      Successfully uninstalled grpcio-1.32.0\n",
            "  Found existing installation: h5py 2.10.0\n",
            "    Uninstalling h5py-2.10.0:\n",
            "      Successfully uninstalled h5py-2.10.0\n",
            "  Found existing installation: gast 0.3.3\n",
            "    Uninstalling gast-0.3.3:\n",
            "      Successfully uninstalled gast-0.3.3\n",
            "Successfully installed cached-property-1.5.2 gast-0.4.0 grpcio-1.37.1 h5py-3.1.0 keras-nightly-2.6.0.dev2021050600 tb-nightly-2.6.0a20210510 tensorboard-data-server-0.6.1 tf-estimator-nightly-2.5.0.dev2021032601 tf-nightly-2.6.0.dev20210510\n",
            "Requirement already satisfied: tensorflow-datasets in /usr/local/lib/python3.7/dist-packages (4.0.1)\n",
            "Requirement already satisfied: six in /usr/local/lib/python3.7/dist-packages (from tensorflow-datasets) (1.15.0)\n",
            "Requirement already satisfied: protobuf>=3.6.1 in /usr/local/lib/python3.7/dist-packages (from tensorflow-datasets) (3.12.4)\n",
            "Requirement already satisfied: tqdm in /usr/local/lib/python3.7/dist-packages (from tensorflow-datasets) (4.41.1)\n",
            "Requirement already satisfied: numpy in /usr/local/lib/python3.7/dist-packages (from tensorflow-datasets) (1.19.5)\n",
            "Requirement already satisfied: requests>=2.19.0 in /usr/local/lib/python3.7/dist-packages (from tensorflow-datasets) (2.23.0)\n",
            "Requirement already satisfied: termcolor in /usr/local/lib/python3.7/dist-packages (from tensorflow-datasets) (1.1.0)\n",
            "Requirement already satisfied: dill in /usr/local/lib/python3.7/dist-packages (from tensorflow-datasets) (0.3.3)\n",
            "Requirement already satisfied: attrs>=18.1.0 in /usr/local/lib/python3.7/dist-packages (from tensorflow-datasets) (20.3.0)\n",
            "Requirement already satisfied: importlib-resources; python_version < \"3.9\" in /usr/local/lib/python3.7/dist-packages (from tensorflow-datasets) (5.1.2)\n",
            "Requirement already satisfied: dm-tree in /usr/local/lib/python3.7/dist-packages (from tensorflow-datasets) (0.1.6)\n",
            "Requirement already satisfied: tensorflow-metadata in /usr/local/lib/python3.7/dist-packages (from tensorflow-datasets) (0.29.0)\n",
            "Requirement already satisfied: future in /usr/local/lib/python3.7/dist-packages (from tensorflow-datasets) (0.16.0)\n",
            "Requirement already satisfied: promise in /usr/local/lib/python3.7/dist-packages (from tensorflow-datasets) (2.3)\n",
            "Requirement already satisfied: absl-py in /usr/local/lib/python3.7/dist-packages (from tensorflow-datasets) (0.12.0)\n",
            "Requirement already satisfied: setuptools in /usr/local/lib/python3.7/dist-packages (from protobuf>=3.6.1->tensorflow-datasets) (56.1.0)\n",
            "Requirement already satisfied: urllib3!=1.25.0,!=1.25.1,<1.26,>=1.21.1 in /usr/local/lib/python3.7/dist-packages (from requests>=2.19.0->tensorflow-datasets) (1.24.3)\n",
            "Requirement already satisfied: certifi>=2017.4.17 in /usr/local/lib/python3.7/dist-packages (from requests>=2.19.0->tensorflow-datasets) (2020.12.5)\n",
            "Requirement already satisfied: idna<3,>=2.5 in /usr/local/lib/python3.7/dist-packages (from requests>=2.19.0->tensorflow-datasets) (2.10)\n",
            "Requirement already satisfied: chardet<4,>=3.0.2 in /usr/local/lib/python3.7/dist-packages (from requests>=2.19.0->tensorflow-datasets) (3.0.4)\n",
            "Requirement already satisfied: zipp>=0.4; python_version < \"3.8\" in /usr/local/lib/python3.7/dist-packages (from importlib-resources; python_version < \"3.9\"->tensorflow-datasets) (3.4.1)\n",
            "Requirement already satisfied: googleapis-common-protos<2,>=1.52.0 in /usr/local/lib/python3.7/dist-packages (from tensorflow-metadata->tensorflow-datasets) (1.53.0)\n",
            "2.6.0-dev20210510\n"
          ],
          "name": "stdout"
        }
      ]
    },
    {
      "cell_type": "code",
      "metadata": {
        "colab": {
          "base_uri": "https://localhost:8080/"
        },
        "id": "lMHwYXHXCar3",
        "outputId": "20e18eb7-80ad-4ec3-ffb5-128d07007386"
      },
      "source": [
        "# get data files\n",
        "!wget https://cdn.freecodecamp.org/project-data/sms/train-data.tsv\n",
        "!wget https://cdn.freecodecamp.org/project-data/sms/valid-data.tsv\n",
        "\n",
        "train_file_path = \"train-data.tsv\"\n",
        "test_file_path = \"valid-data.tsv\""
      ],
      "execution_count": null,
      "outputs": [
        {
          "output_type": "stream",
          "text": [
            "--2021-05-11 01:51:51--  https://cdn.freecodecamp.org/project-data/sms/train-data.tsv\n",
            "Resolving cdn.freecodecamp.org (cdn.freecodecamp.org)... 172.67.70.149, 104.26.2.33, 104.26.3.33, ...\n",
            "Connecting to cdn.freecodecamp.org (cdn.freecodecamp.org)|172.67.70.149|:443... connected.\n",
            "HTTP request sent, awaiting response... 200 OK\n",
            "Length: 358233 (350K) [text/tab-separated-values]\n",
            "Saving to: ‘train-data.tsv’\n",
            "\n",
            "train-data.tsv      100%[===================>] 349.84K  --.-KB/s    in 0.04s   \n",
            "\n",
            "2021-05-11 01:51:51 (8.71 MB/s) - ‘train-data.tsv’ saved [358233/358233]\n",
            "\n",
            "--2021-05-11 01:51:51--  https://cdn.freecodecamp.org/project-data/sms/valid-data.tsv\n",
            "Resolving cdn.freecodecamp.org (cdn.freecodecamp.org)... 172.67.70.149, 104.26.2.33, 104.26.3.33, ...\n",
            "Connecting to cdn.freecodecamp.org (cdn.freecodecamp.org)|172.67.70.149|:443... connected.\n",
            "HTTP request sent, awaiting response... 200 OK\n",
            "Length: 118774 (116K) [text/tab-separated-values]\n",
            "Saving to: ‘valid-data.tsv’\n",
            "\n",
            "valid-data.tsv      100%[===================>] 115.99K  --.-KB/s    in 0.02s   \n",
            "\n",
            "2021-05-11 01:51:51 (4.87 MB/s) - ‘valid-data.tsv’ saved [118774/118774]\n",
            "\n"
          ],
          "name": "stdout"
        }
      ]
    },
    {
      "cell_type": "code",
      "metadata": {
        "colab": {
          "base_uri": "https://localhost:8080/"
        },
        "id": "g_h508FEClxO",
        "outputId": "9af9005d-ca7e-47f9-b204-cedfabc85b15"
      },
      "source": [
        "train_df=pd.read_table(train_file_path, header=None)\n",
        "test_df=pd.read_table(test_file_path, header=None)\n",
        "\n",
        "head_data = train_df.head()\n",
        "print(type(head_data))\n",
        "print(head_data)\n",
        "\n",
        "print(\"---- index ------\")\n",
        "print(head_data.index)\n",
        "\n",
        "print(\"---- iloc ------\")\n",
        "print(head_data.iloc[0])\n",
        "\n",
        "print(\"---- columns ------\")\n",
        "print(head_data.columns)\n",
        "\n",
        "print(\"---- columns[0] ------\")\n",
        "print(head_data[0])"
      ],
      "execution_count": null,
      "outputs": [
        {
          "output_type": "stream",
          "text": [
            "<class 'pandas.core.frame.DataFrame'>\n",
            "     0                                                  1\n",
            "0  ham  ahhhh...just woken up!had a bad dream about u ...\n",
            "1  ham                           you can never do nothing\n",
            "2  ham  now u sound like manky scouse boy steve,like! ...\n",
            "3  ham  mum say we wan to go then go... then she can s...\n",
            "4  ham  never y lei... i v lazy... got wat? dat day ü ...\n",
            "---- index ------\n",
            "RangeIndex(start=0, stop=5, step=1)\n",
            "---- iloc ------\n",
            "0                                                  ham\n",
            "1    ahhhh...just woken up!had a bad dream about u ...\n",
            "Name: 0, dtype: object\n",
            "---- columns ------\n",
            "Int64Index([0, 1], dtype='int64')\n",
            "---- columns[0] ------\n",
            "0    ham\n",
            "1    ham\n",
            "2    ham\n",
            "3    ham\n",
            "4    ham\n",
            "Name: 0, dtype: object\n"
          ],
          "name": "stdout"
        }
      ]
    },
    {
      "cell_type": "code",
      "metadata": {
        "colab": {
          "base_uri": "https://localhost:8080/"
        },
        "id": "zOMKywn4zReN",
        "outputId": "a3af1873-24ca-4ef9-a45a-fe2c82278b90"
      },
      "source": [
        "train_x = train_df[1]\n",
        "train_y = train_df[0]\n",
        "\n",
        "test_x = test_df[1]\n",
        "test_y = test_df[0]\n",
        "\n",
        "print(train_x)\n",
        "print(train_y)"
      ],
      "execution_count": null,
      "outputs": [
        {
          "output_type": "stream",
          "text": [
            "0       ahhhh...just woken up!had a bad dream about u ...\n",
            "1                                you can never do nothing\n",
            "2       now u sound like manky scouse boy steve,like! ...\n",
            "3       mum say we wan to go then go... then she can s...\n",
            "4       never y lei... i v lazy... got wat? dat day ü ...\n",
            "                              ...                        \n",
            "4174    just woke up. yeesh its late. but i didn't fal...\n",
            "4175    what do u reckon as need 2 arrange transport i...\n",
            "4176    free entry into our £250 weekly competition ju...\n",
            "4177    -pls stop bootydelious (32/f) is inviting you ...\n",
            "4178    tell my  bad character which u dnt lik in me. ...\n",
            "Name: 1, Length: 4179, dtype: object\n",
            "0        ham\n",
            "1        ham\n",
            "2        ham\n",
            "3        ham\n",
            "4        ham\n",
            "        ... \n",
            "4174     ham\n",
            "4175     ham\n",
            "4176    spam\n",
            "4177    spam\n",
            "4178     ham\n",
            "Name: 0, Length: 4179, dtype: object\n"
          ],
          "name": "stdout"
        }
      ]
    },
    {
      "cell_type": "code",
      "metadata": {
        "colab": {
          "base_uri": "https://localhost:8080/"
        },
        "id": "q0mEhlekJ8I0",
        "outputId": "5d38f294-913a-45e9-872a-d6e325801dd7"
      },
      "source": [
        "print(test_x)\n",
        "print(test_y)"
      ],
      "execution_count": null,
      "outputs": [
        {
          "output_type": "stream",
          "text": [
            "0       i am in hospital da. . i will return home in e...\n",
            "1              not much, just some textin'. how bout you?\n",
            "2       i probably won't eat at all today. i think i'm...\n",
            "3       don‘t give a flying monkeys wot they think and...\n",
            "4                                     who are you seeing?\n",
            "                              ...                        \n",
            "1387    true dear..i sat to pray evening and felt so.s...\n",
            "1388                 what will we do in the shower, baby?\n",
            "1389    where are you ? what are you doing ? are yuou ...\n",
            "1390    ur cash-balance is currently 500 pounds - to m...\n",
            "1391    not heard from u4 a while. call 4 rude chat pr...\n",
            "Name: 1, Length: 1392, dtype: object\n",
            "0        ham\n",
            "1        ham\n",
            "2        ham\n",
            "3        ham\n",
            "4        ham\n",
            "        ... \n",
            "1387     ham\n",
            "1388     ham\n",
            "1389     ham\n",
            "1390    spam\n",
            "1391    spam\n",
            "Name: 0, Length: 1392, dtype: object\n"
          ],
          "name": "stdout"
        }
      ]
    },
    {
      "cell_type": "code",
      "metadata": {
        "colab": {
          "base_uri": "https://localhost:8080/"
        },
        "id": "NkXByW5i-8I-",
        "outputId": "3741f697-8116-4440-dfb6-96db77b176b7"
      },
      "source": [
        "train_y_index = train_y.replace(['ham','spam'],[0,1])\n",
        "print(train_y_index)\n",
        "\n",
        "test_y_index = test_y.replace(['ham','spam'],[0,1])"
      ],
      "execution_count": null,
      "outputs": [
        {
          "output_type": "stream",
          "text": [
            "0       0\n",
            "1       0\n",
            "2       0\n",
            "3       0\n",
            "4       0\n",
            "       ..\n",
            "4174    0\n",
            "4175    0\n",
            "4176    1\n",
            "4177    1\n",
            "4178    0\n",
            "Name: 0, Length: 4179, dtype: int64\n"
          ],
          "name": "stdout"
        }
      ]
    },
    {
      "cell_type": "code",
      "metadata": {
        "colab": {
          "base_uri": "https://localhost:8080/"
        },
        "id": "mRD_xbAX19G2",
        "outputId": "b8837245-69d6-4e2f-ca8f-8d047fd0ab70"
      },
      "source": [
        "print(train_x.shape)\n",
        "\n",
        "print(test_x.shape)"
      ],
      "execution_count": null,
      "outputs": [
        {
          "output_type": "stream",
          "text": [
            "(4179,)\n",
            "(1392,)\n"
          ],
          "name": "stdout"
        }
      ]
    },
    {
      "cell_type": "code",
      "metadata": {
        "colab": {
          "base_uri": "https://localhost:8080/"
        },
        "id": "qdQlraPrRZse",
        "outputId": "6c68f279-61ec-44ea-b4f8-cf26f9b1eccd"
      },
      "source": [
        "cat_count = train_y.value_counts()\n",
        "print(cat_count)\n",
        "\n",
        "ham_count = cat_count[\"ham\"]\n",
        "print(cat_count[\"ham\"])\n",
        "\n",
        "spam_count = cat_count[\"spam\"]\n",
        "print(cat_count[\"spam\"])"
      ],
      "execution_count": null,
      "outputs": [
        {
          "output_type": "stream",
          "text": [
            "ham     3619\n",
            "spam     560\n",
            "Name: 0, dtype: int64\n",
            "3619\n",
            "560\n"
          ],
          "name": "stdout"
        }
      ]
    },
    {
      "cell_type": "code",
      "metadata": {
        "colab": {
          "base_uri": "https://localhost:8080/"
        },
        "id": "jmxezQ0z7FPd",
        "outputId": "79bd47f4-4cc6-400c-c6d2-321e4b9b222c"
      },
      "source": [
        "print(type(train_y.unique()))\n",
        "train_y.unique()"
      ],
      "execution_count": null,
      "outputs": [
        {
          "output_type": "stream",
          "text": [
            "<class 'numpy.ndarray'>\n"
          ],
          "name": "stdout"
        },
        {
          "output_type": "execute_result",
          "data": {
            "text/plain": [
              "array(['ham', 'spam'], dtype=object)"
            ]
          },
          "metadata": {
            "tags": []
          },
          "execution_count": 105
        }
      ]
    },
    {
      "cell_type": "code",
      "metadata": {
        "colab": {
          "base_uri": "https://localhost:8080/"
        },
        "id": "GTNJFB1r7RD_",
        "outputId": "da0f3261-722e-4397-f36c-e3862dcdf84d"
      },
      "source": [
        "test_y.unique()"
      ],
      "execution_count": null,
      "outputs": [
        {
          "output_type": "execute_result",
          "data": {
            "text/plain": [
              "array(['ham', 'spam'], dtype=object)"
            ]
          },
          "metadata": {
            "tags": []
          },
          "execution_count": 106
        }
      ]
    },
    {
      "cell_type": "code",
      "metadata": {
        "colab": {
          "base_uri": "https://localhost:8080/"
        },
        "id": "HffUBslxAyM_",
        "outputId": "d5f24684-a0e9-4628-ddbb-006242e8f633"
      },
      "source": [
        "total = ham_count + spam_count\n",
        "\n",
        "# Scaling by total/2 helps keep the loss to a similar magnitude.\n",
        "# The sum of the weights of all examples stays the same.\n",
        "weight_for_0 = (1 / ham_count)*(total)/2.0 \n",
        "weight_for_1 = (1 / spam_count)*(total)/2.0\n",
        "\n",
        "class_weight = {0: weight_for_0, 1: weight_for_1}\n",
        "\n",
        "print('Weight for class 0: {:.2f}'.format(weight_for_0))\n",
        "print('Weight for class 1: {:.2f}'.format(weight_for_1))\n",
        "\n",
        "class_weight = {0: weight_for_0, 1: weight_for_1}"
      ],
      "execution_count": null,
      "outputs": [
        {
          "output_type": "stream",
          "text": [
            "Weight for class 0: 0.58\n",
            "Weight for class 1: 3.73\n"
          ],
          "name": "stdout"
        }
      ]
    },
    {
      "cell_type": "code",
      "metadata": {
        "colab": {
          "base_uri": "https://localhost:8080/"
        },
        "id": "filD7YrsTsXQ",
        "outputId": "a2bc606e-ade8-45fb-f27f-324cae025853"
      },
      "source": [
        "from sklearn.feature_extraction.text import TfidfVectorizer\n",
        "\n",
        "vectorizer = TfidfVectorizer()\n",
        "train_x_features = vectorizer.fit_transform(train_x)\n",
        "train_x_features = train_x_features.todense()\n",
        "print(type(train_x_features))\n",
        "print(train_x_features.shape)\n",
        "print(train_x_features.shape[1])\n",
        "print(train_x_features[0])\n",
        "\n",
        "\n",
        "test_x_features = vectorizer.transform(test_x)\n",
        "test_x_features = test_x_features.todense()\n",
        "print(test_x_features.shape)"
      ],
      "execution_count": 170,
      "outputs": [
        {
          "output_type": "stream",
          "text": [
            "<class 'numpy.matrix'>\n",
            "(4179, 7445)\n",
            "7445\n",
            "[[0. 0. 0. ... 0. 0. 0.]]\n",
            "(1392, 7445)\n"
          ],
          "name": "stdout"
        }
      ]
    },
    {
      "cell_type": "code",
      "metadata": {
        "colab": {
          "base_uri": "https://localhost:8080/"
        },
        "id": "C9TswZys4ra0",
        "outputId": "e720c0ac-c111-4fae-fe9b-e10665ab28be"
      },
      "source": [
        "import keras\n",
        "import tensorflow as tf\n",
        "\n",
        "\n",
        "model = keras.Sequential()\n",
        "\n",
        "model.add(keras.layers.Dense(16, activation=tf.nn.relu, input_shape=(train_x_features.shape[1],)))\n",
        "model.add(keras.layers.Dense(8, activation=tf.nn.relu))\n",
        "model.add(keras.layers.Dense(1, activation=tf.nn.sigmoid))\n",
        "\n",
        "\n",
        "metrics = [\n",
        "    keras.metrics.FalseNegatives(name=\"fn\"),\n",
        "    keras.metrics.FalsePositives(name=\"fp\"),\n",
        "    keras.metrics.TrueNegatives(name=\"tn\"),\n",
        "    keras.metrics.TruePositives(name=\"tp\"),\n",
        "    keras.metrics.Precision(name=\"precision\"),\n",
        "    keras.metrics.Recall(name=\"recall\"),\n",
        "    keras.metrics.AUC(name='prc', curve='PR'), # precision-recall curve\n",
        "]\n",
        "\n",
        "model.compile(optimizer=keras.optimizers.Adam(1e-2),\n",
        "              loss='binary_crossentropy',\n",
        "              metrics=metrics)\n",
        "model.summary()"
      ],
      "execution_count": 193,
      "outputs": [
        {
          "output_type": "stream",
          "text": [
            "Model: \"sequential_36\"\n",
            "_________________________________________________________________\n",
            "Layer (type)                 Output Shape              Param #   \n",
            "=================================================================\n",
            "dense_73 (Dense)             (None, 16)                119136    \n",
            "_________________________________________________________________\n",
            "dense_74 (Dense)             (None, 8)                 136       \n",
            "_________________________________________________________________\n",
            "dense_75 (Dense)             (None, 1)                 9         \n",
            "=================================================================\n",
            "Total params: 119,281\n",
            "Trainable params: 119,281\n",
            "Non-trainable params: 0\n",
            "_________________________________________________________________\n"
          ],
          "name": "stdout"
        }
      ]
    },
    {
      "cell_type": "code",
      "metadata": {
        "id": "-rKWQs4L5AHs"
      },
      "source": [
        "import matplotlib as mpl\n",
        "\n",
        "mpl.rcParams['figure.figsize'] = (12, 10)\n",
        "colors = plt.rcParams['axes.prop_cycle'].by_key()['color']\n",
        "\n",
        "\n",
        "def plot_metrics(history):\n",
        "  metrics = ['loss', 'prc', 'precision', 'recall']\n",
        "  for n, metric in enumerate(metrics):\n",
        "    name = metric.replace(\"_\",\" \").capitalize()\n",
        "    plt.subplot(2,2,n+1)\n",
        "    plt.plot(history.epoch, history.history[metric], color=colors[0], label='Train')\n",
        "    plt.plot(history.epoch, history.history['val_'+metric],\n",
        "             color=colors[0], linestyle=\"--\", label='Val')\n",
        "    plt.xlabel('Epoch')\n",
        "    plt.ylabel(name)\n",
        "    if metric == 'loss':\n",
        "      plt.ylim([0, plt.ylim()[1]])\n",
        "    elif metric == 'auc':\n",
        "      plt.ylim([0.8,1])\n",
        "    else:\n",
        "      plt.ylim([0,1])\n",
        "\n",
        "    plt.legend()\n"
      ],
      "execution_count": 194,
      "outputs": []
    },
    {
      "cell_type": "code",
      "metadata": {
        "colab": {
          "base_uri": "https://localhost:8080/"
        },
        "id": "--dYdcfaYtjL",
        "outputId": "c9a2743b-8d64-4ac4-d3fe-5531f1adc644"
      },
      "source": [
        "history = model.fit(train_x_features, train_y_index,\n",
        "                    epochs=10,\n",
        "                    verbose=True,\n",
        "                    validation_data=(test_x_features, test_y_index),\n",
        "                    class_weight=class_weight)\n"
      ],
      "execution_count": 195,
      "outputs": [
        {
          "output_type": "stream",
          "text": [
            "Epoch 1/10\n",
            "131/131 [==============================] - 4s 13ms/step - loss: 0.2406 - fn: 31.0000 - fp: 422.0000 - tn: 3197.0000 - tp: 529.0000 - precision: 0.5563 - recall: 0.9446 - prc: 0.9167 - val_loss: 0.1458 - val_fn: 5.0000 - val_fp: 66.0000 - val_tn: 1139.0000 - val_tp: 182.0000 - val_precision: 0.7339 - val_recall: 0.9733 - val_prc: 0.9683\n",
            "Epoch 2/10\n",
            "131/131 [==============================] - 1s 6ms/step - loss: 0.0330 - fn: 7.0000 - fp: 26.0000 - tn: 3593.0000 - tp: 553.0000 - precision: 0.9551 - recall: 0.9875 - prc: 0.9916 - val_loss: 0.0773 - val_fn: 8.0000 - val_fp: 30.0000 - val_tn: 1175.0000 - val_tp: 179.0000 - val_precision: 0.8565 - val_recall: 0.9572 - val_prc: 0.9713\n",
            "Epoch 3/10\n",
            "131/131 [==============================] - 1s 7ms/step - loss: 0.0063 - fn: 1.0000 - fp: 6.0000 - tn: 3613.0000 - tp: 559.0000 - precision: 0.9894 - recall: 0.9982 - prc: 0.9980 - val_loss: 0.0547 - val_fn: 12.0000 - val_fp: 11.0000 - val_tn: 1194.0000 - val_tp: 175.0000 - val_precision: 0.9409 - val_recall: 0.9358 - val_prc: 0.9720\n",
            "Epoch 4/10\n",
            "131/131 [==============================] - 1s 6ms/step - loss: 0.0019 - fn: 0.0000e+00 - fp: 2.0000 - tn: 3617.0000 - tp: 560.0000 - precision: 0.9964 - recall: 1.0000 - prc: 1.0000 - val_loss: 0.0583 - val_fn: 13.0000 - val_fp: 9.0000 - val_tn: 1196.0000 - val_tp: 174.0000 - val_precision: 0.9508 - val_recall: 0.9305 - val_prc: 0.9709\n",
            "Epoch 5/10\n",
            "131/131 [==============================] - 1s 7ms/step - loss: 9.2617e-04 - fn: 0.0000e+00 - fp: 1.0000 - tn: 3618.0000 - tp: 560.0000 - precision: 0.9982 - recall: 1.0000 - prc: 1.0000 - val_loss: 0.0651 - val_fn: 16.0000 - val_fp: 6.0000 - val_tn: 1199.0000 - val_tp: 171.0000 - val_precision: 0.9661 - val_recall: 0.9144 - val_prc: 0.9688\n",
            "Epoch 6/10\n",
            "131/131 [==============================] - 1s 6ms/step - loss: 2.2654e-04 - fn: 0.0000e+00 - fp: 0.0000e+00 - tn: 3619.0000 - tp: 560.0000 - precision: 1.0000 - recall: 1.0000 - prc: 1.0000 - val_loss: 0.0679 - val_fn: 15.0000 - val_fp: 9.0000 - val_tn: 1196.0000 - val_tp: 172.0000 - val_precision: 0.9503 - val_recall: 0.9198 - val_prc: 0.9584\n",
            "Epoch 7/10\n",
            "131/131 [==============================] - 1s 7ms/step - loss: 1.5229e-04 - fn: 0.0000e+00 - fp: 0.0000e+00 - tn: 3619.0000 - tp: 560.0000 - precision: 1.0000 - recall: 1.0000 - prc: 1.0000 - val_loss: 0.0707 - val_fn: 15.0000 - val_fp: 9.0000 - val_tn: 1196.0000 - val_tp: 172.0000 - val_precision: 0.9503 - val_recall: 0.9198 - val_prc: 0.9584\n",
            "Epoch 8/10\n",
            "131/131 [==============================] - 1s 6ms/step - loss: 1.1044e-04 - fn: 0.0000e+00 - fp: 0.0000e+00 - tn: 3619.0000 - tp: 560.0000 - precision: 1.0000 - recall: 1.0000 - prc: 1.0000 - val_loss: 0.0731 - val_fn: 16.0000 - val_fp: 9.0000 - val_tn: 1196.0000 - val_tp: 171.0000 - val_precision: 0.9500 - val_recall: 0.9144 - val_prc: 0.9585\n",
            "Epoch 9/10\n",
            "131/131 [==============================] - 1s 7ms/step - loss: 8.4598e-05 - fn: 0.0000e+00 - fp: 0.0000e+00 - tn: 3619.0000 - tp: 560.0000 - precision: 1.0000 - recall: 1.0000 - prc: 1.0000 - val_loss: 0.0752 - val_fn: 16.0000 - val_fp: 9.0000 - val_tn: 1196.0000 - val_tp: 171.0000 - val_precision: 0.9500 - val_recall: 0.9144 - val_prc: 0.9584\n",
            "Epoch 10/10\n",
            "131/131 [==============================] - 1s 7ms/step - loss: 6.6509e-05 - fn: 0.0000e+00 - fp: 0.0000e+00 - tn: 3619.0000 - tp: 560.0000 - precision: 1.0000 - recall: 1.0000 - prc: 1.0000 - val_loss: 0.0774 - val_fn: 16.0000 - val_fp: 9.0000 - val_tn: 1196.0000 - val_tp: 171.0000 - val_precision: 0.9500 - val_recall: 0.9144 - val_prc: 0.9585\n"
          ],
          "name": "stdout"
        }
      ]
    },
    {
      "cell_type": "code",
      "metadata": {
        "colab": {
          "base_uri": "https://localhost:8080/",
          "height": 610
        },
        "id": "TZcdAD8Li7bj",
        "outputId": "1f15f064-bcb3-4dc6-98aa-46883a5bfc23"
      },
      "source": [
        "plot_metrics(history)\n"
      ],
      "execution_count": 196,
      "outputs": [
        {
          "output_type": "display_data",
          "data": {
            "image/png": "[encoded data removed]",
            "text/plain": [
              "<Figure size 864x720 with 4 Axes>"
            ]
          },
          "metadata": {
            "tags": [],
            "needs_background": "light"
          }
        }
      ]
    },
    {
      "cell_type": "code",
      "metadata": {
        "colab": {
          "base_uri": "https://localhost:8080/"
        },
        "id": "kJB52Q-dEyq9",
        "outputId": "ab82d967-cbce-4b0b-ba00-3fb2f158e9b9"
      },
      "source": [
        "model.evaluate(train_x_features, train_y_index, verbose=True)"
      ],
      "execution_count": 174,
      "outputs": [
        {
          "output_type": "stream",
          "text": [
            "131/131 [==============================] - 0s 3ms/step - loss: 0.0013 - fn: 0.0000e+00 - fp: 1.0000 - tn: 3618.0000 - tp: 560.0000 - precision: 0.9982 - recall: 1.0000\n"
          ],
          "name": "stdout"
        },
        {
          "output_type": "execute_result",
          "data": {
            "text/plain": [
              "[0.0012663878733292222, 0.0, 1.0, 3618.0, 560.0, 0.9982174634933472, 1.0]"
            ]
          },
          "metadata": {
            "tags": []
          },
          "execution_count": 174
        }
      ]
    },
    {
      "cell_type": "code",
      "metadata": {
        "colab": {
          "base_uri": "https://localhost:8080/"
        },
        "id": "yt68j8JBh7ja",
        "outputId": "c4068fcb-2563-4756-f1ca-f2107ed892d4"
      },
      "source": [
        "model.evaluate(test_x_features, test_y_index, verbose=True)\n"
      ],
      "execution_count": 184,
      "outputs": [
        {
          "output_type": "stream",
          "text": [
            "44/44 [==============================] - 0s 3ms/step - loss: 0.0949 - fn: 17.0000 - fp: 8.0000 - tn: 1197.0000 - tp: 170.0000 - precision: 0.9551 - recall: 0.9091\n"
          ],
          "name": "stdout"
        },
        {
          "output_type": "execute_result",
          "data": {
            "text/plain": [
              "[0.09490098804235458,\n",
              " 17.0,\n",
              " 8.0,\n",
              " 1197.0,\n",
              " 170.0,\n",
              " 0.9550561904907227,\n",
              " 0.9090909361839294]"
            ]
          },
          "metadata": {
            "tags": []
          },
          "execution_count": 184
        }
      ]
    },
    {
      "cell_type": "code",
      "metadata": {
        "colab": {
          "base_uri": "https://localhost:8080/"
        },
        "id": "d2FKI_SB1MTE",
        "outputId": "6ce1a6c3-d740-4fbb-bf6e-efb3475938c2"
      },
      "source": [
        "\n",
        "test_pred = model.predict(test_x_features)\n",
        "print(test_pred)\n",
        "\n",
        "test_pred_classes = model.predict_classes(test_x_features)\n",
        "print(test_pred_classes)"
      ],
      "execution_count": 185,
      "outputs": [
        {
          "output_type": "stream",
          "text": [
            "[[4.1661790e-09]\n",
            " [2.9718526e-06]\n",
            " [5.6104748e-09]\n",
            " ...\n",
            " [4.5449917e-07]\n",
            " [9.9999976e-01]\n",
            " [1.4192253e-01]]\n",
            "[[0]\n",
            " [0]\n",
            " [0]\n",
            " ...\n",
            " [0]\n",
            " [1]\n",
            " [0]]\n"
          ],
          "name": "stdout"
        },
        {
          "output_type": "stream",
          "text": [
            "/usr/local/lib/python3.7/dist-packages/keras/engine/sequential.py:449: UserWarning: `model.predict_classes()` is deprecated and will be removed after 2021-01-01. Please use instead:* `np.argmax(model.predict(x), axis=-1)`,   if your model does multi-class classification   (e.g. if it uses a `softmax` last-layer activation).* `(model.predict(x) > 0.5).astype(\"int32\")`,   if your model does binary classification   (e.g. if it uses a `sigmoid` last-layer activation).\n",
            "  warnings.warn('`model.predict_classes()` is deprecated and '\n"
          ],
          "name": "stderr"
        }
      ]
    },
    {
      "cell_type": "code",
      "metadata": {
        "colab": {
          "base_uri": "https://localhost:8080/"
        },
        "id": "J9tD9yACG6M9",
        "outputId": "94b26269-efa3-4a13-a806-ea6d560be1de"
      },
      "source": [
        "# function to predict messages based on model\n",
        "# (should return list containing prediction and label, ex. [0.008318834938108921, 'ham'])\n",
        "def predict_message(pred_text):\n",
        "  features = [pred_text]\n",
        "\n",
        "  features_tfidf = vectorizer.transform(features)\n",
        "\n",
        "  features_tfidf = features_tfidf.todense()\n",
        "\n",
        "  category_probs = model.predict(features_tfidf)\n",
        "\n",
        "  category_indexs = model.predict_classes(features_tfidf)\n",
        "\n",
        "  pred_prob = category_probs[0][0]\n",
        "  # print(pred_prob)\n",
        "\n",
        "  pred_index = category_indexs[0][0]\n",
        "  # print(pred_index)\n",
        "\n",
        "  cate_dict = {0: \"ham\", 1: \"spam\"}\n",
        "  pred_text = cate_dict[pred_index]\n",
        "  # print(pred_text)\n",
        "\n",
        "  return (pred_prob, pred_text)\n",
        "\n",
        "pred_text = \"how are you doing today?\"\n",
        "\n",
        "prediction = predict_message(pred_text)\n",
        "print(prediction)"
      ],
      "execution_count": 186,
      "outputs": [
        {
          "output_type": "stream",
          "text": [
            "(1.5891055e-07, 'ham')\n"
          ],
          "name": "stdout"
        },
        {
          "output_type": "stream",
          "text": [
            "/usr/local/lib/python3.7/dist-packages/keras/engine/sequential.py:449: UserWarning: `model.predict_classes()` is deprecated and will be removed after 2021-01-01. Please use instead:* `np.argmax(model.predict(x), axis=-1)`,   if your model does multi-class classification   (e.g. if it uses a `softmax` last-layer activation).* `(model.predict(x) > 0.5).astype(\"int32\")`,   if your model does binary classification   (e.g. if it uses a `sigmoid` last-layer activation).\n",
            "  warnings.warn('`model.predict_classes()` is deprecated and '\n"
          ],
          "name": "stderr"
        }
      ]
    },
    {
      "cell_type": "code",
      "metadata": {
        "colab": {
          "base_uri": "https://localhost:8080/"
        },
        "id": "Dxotov85SjsC",
        "outputId": "572b848f-7143-46cb-d737-4e3ff4439a46"
      },
      "source": [
        "# Run this cell to test your function and model. Do not modify contents.\n",
        "def test_predictions():\n",
        "  test_messages = [\"how are you doing today\",\n",
        "                   \"sale today! to stop texts call 98912460324\",\n",
        "                   \"i dont want to go. can we try it a different day? available sat\",\n",
        "                   \"our new mobile video service is live. just install on your phone to start watching.\",\n",
        "                   \"you have won £1000 cash! call to claim your prize.\",\n",
        "                   \"i'll bring it tomorrow. don't forget the milk.\",\n",
        "                   \"wow, is your arm alright. that happened to me one time too\"\n",
        "                  ]\n",
        "\n",
        "  test_answers = [\"ham\", \"spam\", \"ham\", \"spam\", \"spam\", \"ham\", \"ham\"]\n",
        "  passed = True\n",
        "\n",
        "  for msg, ans in zip(test_messages, test_answers):\n",
        "    prediction = predict_message(msg)\n",
        "    if prediction[1] != ans:\n",
        "      print(\"-----------------------------\")\n",
        "      print(f\"msg: {msg}\")\n",
        "      print(f\"ans: {ans}\")\n",
        "      print(\"not passed, your prediction:\", prediction[1])\n",
        "      passed = False\n",
        "\n",
        "  if passed:\n",
        "    print(\"You passed the challenge. Great job!\")\n",
        "  else:\n",
        "    print(\"You haven't passed yet. Keep trying.\")\n",
        "\n",
        "test_predictions()\n"
      ],
      "execution_count": 197,
      "outputs": [
        {
          "output_type": "stream",
          "text": [
            "/usr/local/lib/python3.7/dist-packages/keras/engine/sequential.py:449: UserWarning: `model.predict_classes()` is deprecated and will be removed after 2021-01-01. Please use instead:* `np.argmax(model.predict(x), axis=-1)`,   if your model does multi-class classification   (e.g. if it uses a `softmax` last-layer activation).* `(model.predict(x) > 0.5).astype(\"int32\")`,   if your model does binary classification   (e.g. if it uses a `sigmoid` last-layer activation).\n",
            "  warnings.warn('`model.predict_classes()` is deprecated and '\n",
            "/usr/local/lib/python3.7/dist-packages/keras/engine/sequential.py:449: UserWarning: `model.predict_classes()` is deprecated and will be removed after 2021-01-01. Please use instead:* `np.argmax(model.predict(x), axis=-1)`,   if your model does multi-class classification   (e.g. if it uses a `softmax` last-layer activation).* `(model.predict(x) > 0.5).astype(\"int32\")`,   if your model does binary classification   (e.g. if it uses a `sigmoid` last-layer activation).\n",
            "  warnings.warn('`model.predict_classes()` is deprecated and '\n",
            "/usr/local/lib/python3.7/dist-packages/keras/engine/sequential.py:449: UserWarning: `model.predict_classes()` is deprecated and will be removed after 2021-01-01. Please use instead:* `np.argmax(model.predict(x), axis=-1)`,   if your model does multi-class classification   (e.g. if it uses a `softmax` last-layer activation).* `(model.predict(x) > 0.5).astype(\"int32\")`,   if your model does binary classification   (e.g. if it uses a `sigmoid` last-layer activation).\n",
            "  warnings.warn('`model.predict_classes()` is deprecated and '\n",
            "/usr/local/lib/python3.7/dist-packages/keras/engine/sequential.py:449: UserWarning: `model.predict_classes()` is deprecated and will be removed after 2021-01-01. Please use instead:* `np.argmax(model.predict(x), axis=-1)`,   if your model does multi-class classification   (e.g. if it uses a `softmax` last-layer activation).* `(model.predict(x) > 0.5).astype(\"int32\")`,   if your model does binary classification   (e.g. if it uses a `sigmoid` last-layer activation).\n",
            "  warnings.warn('`model.predict_classes()` is deprecated and '\n",
            "/usr/local/lib/python3.7/dist-packages/keras/engine/sequential.py:449: UserWarning: `model.predict_classes()` is deprecated and will be removed after 2021-01-01. Please use instead:* `np.argmax(model.predict(x), axis=-1)`,   if your model does multi-class classification   (e.g. if it uses a `softmax` last-layer activation).* `(model.predict(x) > 0.5).astype(\"int32\")`,   if your model does binary classification   (e.g. if it uses a `sigmoid` last-layer activation).\n",
            "  warnings.warn('`model.predict_classes()` is deprecated and '\n",
            "/usr/local/lib/python3.7/dist-packages/keras/engine/sequential.py:449: UserWarning: `model.predict_classes()` is deprecated and will be removed after 2021-01-01. Please use instead:* `np.argmax(model.predict(x), axis=-1)`,   if your model does multi-class classification   (e.g. if it uses a `softmax` last-layer activation).* `(model.predict(x) > 0.5).astype(\"int32\")`,   if your model does binary classification   (e.g. if it uses a `sigmoid` last-layer activation).\n",
            "  warnings.warn('`model.predict_classes()` is deprecated and '\n"
          ],
          "name": "stderr"
        },
        {
          "output_type": "stream",
          "text": [
            "You passed the challenge. Great job!\n"
          ],
          "name": "stdout"
        },
        {
          "output_type": "stream",
          "text": [
            "/usr/local/lib/python3.7/dist-packages/keras/engine/sequential.py:449: UserWarning: `model.predict_classes()` is deprecated and will be removed after 2021-01-01. Please use instead:* `np.argmax(model.predict(x), axis=-1)`,   if your model does multi-class classification   (e.g. if it uses a `softmax` last-layer activation).* `(model.predict(x) > 0.5).astype(\"int32\")`,   if your model does binary classification   (e.g. if it uses a `sigmoid` last-layer activation).\n",
            "  warnings.warn('`model.predict_classes()` is deprecated and '\n"
          ],
          "name": "stderr"
        }
      ]
    }
  ]
}